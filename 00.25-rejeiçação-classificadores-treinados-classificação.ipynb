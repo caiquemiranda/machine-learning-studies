{
 "cells": [
  {
   "cell_type": "code",
   "execution_count": 20,
   "metadata": {},
   "outputs": [],
   "source": [
    "# importações necessarias para os testes\n",
    "\n",
    "import pickle as pkl         # para salvar e carregar os arquivos\n",
    "import numpy as np           # para trabalhar com numeros"
   ]
  },
  {
   "cell_type": "code",
   "execution_count": 21,
   "metadata": {},
   "outputs": [],
   "source": [
    "# carregando os classificadores\n",
    "\n",
    "NN = pkl.load(open('./data/classificador_NN.sav','rb'))\n",
    "AD = pkl.load(open('./data/classificador_AD.sav', 'rb'))\n",
    "SVM = pkl.load(open('./data/classificador_SVM.sav', 'rb'))"
   ]
  },
  {
   "cell_type": "code",
   "execution_count": 22,
   "metadata": {},
   "outputs": [],
   "source": [
    "# carregando a base de dados\n",
    "\n",
    "with open('./data/credit.pkl', 'rb') as f:\n",
    "    X_credit_treinamento, y_credit_treinamento, X_credit_teste, y_credit_teste = pkl.load(f)"
   ]
  },
  {
   "cell_type": "code",
   "execution_count": 23,
   "metadata": {},
   "outputs": [],
   "source": [
    "# concatenando as bases de dados\n",
    "X_credit = np.concatenate((X_credit_treinamento, X_credit_teste))\n",
    "y_credit = np.concatenate((y_credit_treinamento, y_credit_teste))"
   ]
  },
  {
   "cell_type": "code",
   "execution_count": 34,
   "metadata": {},
   "outputs": [
    {
     "data": {
      "text/plain": [
       "array([-1.3754462 ,  0.50630999,  0.10980934])"
      ]
     },
     "execution_count": 34,
     "metadata": {},
     "output_type": "execute_result"
    }
   ],
   "source": [
    "# teste com um registro da bas de dados\n",
    "\n",
    "novo_registro = X_credit[0]\n",
    "novo_registro"
   ]
  },
  {
   "cell_type": "code",
   "execution_count": 35,
   "metadata": {},
   "outputs": [],
   "source": [
    "# processamento do registro para o classificador\n",
    "\n",
    "novo_registro = novo_registro.reshape(1, -1)"
   ]
  },
  {
   "cell_type": "code",
   "execution_count": 36,
   "metadata": {},
   "outputs": [],
   "source": [
    "# classes = [0(vai pagar o emprestimo), 1(não vai pagar o emprestimo)])] "
   ]
  },
  {
   "cell_type": "code",
   "execution_count": 37,
   "metadata": {},
   "outputs": [
    {
     "data": {
      "text/plain": [
       "array([0], dtype=int64)"
      ]
     },
     "execution_count": 37,
     "metadata": {},
     "output_type": "execute_result"
    }
   ],
   "source": [
    "# teste com o classificador de redes neurais\n",
    "\n",
    "NN.predict(novo_registro)  "
   ]
  },
  {
   "cell_type": "code",
   "execution_count": 38,
   "metadata": {},
   "outputs": [
    {
     "data": {
      "text/plain": [
       "array([0], dtype=int64)"
      ]
     },
     "execution_count": 38,
     "metadata": {},
     "output_type": "execute_result"
    }
   ],
   "source": [
    "# teste com o classificador SVM\n",
    "\n",
    "SVM.predict(novo_registro)"
   ]
  },
  {
   "cell_type": "code",
   "execution_count": 39,
   "metadata": {},
   "outputs": [
    {
     "data": {
      "text/plain": [
       "array([0], dtype=int64)"
      ]
     },
     "execution_count": 39,
     "metadata": {},
     "output_type": "execute_result"
    }
   ],
   "source": [
    "# testes com o classificador Arvores de Decisão (AD)\n",
    "\n",
    "AD.predict(novo_registro)"
   ]
  },
  {
   "cell_type": "code",
   "execution_count": 40,
   "metadata": {},
   "outputs": [
    {
     "data": {
      "text/plain": [
       "0.9999999999999998"
      ]
     },
     "execution_count": 40,
     "metadata": {},
     "output_type": "execute_result"
    }
   ],
   "source": [
    "# consultando a probabilidade e confiança do classificador rede neural em um registro\n",
    "\n",
    "proba_NN = NN.predict_proba(novo_registro)\n",
    "confiança_NN = proba_NN.max()\n",
    "confiança_NN"
   ]
  },
  {
   "cell_type": "code",
   "execution_count": 41,
   "metadata": {},
   "outputs": [
    {
     "data": {
      "text/plain": [
       "1.0"
      ]
     },
     "execution_count": 41,
     "metadata": {},
     "output_type": "execute_result"
    }
   ],
   "source": [
    "# consultando a probabilidade e confiança do classificador arvore de decisão em um registro\n",
    "\n",
    "proba_AD = AD.predict_proba(novo_registro)\n",
    "confiança_AD = proba_AD.max()\n",
    "confiança_AD"
   ]
  },
  {
   "cell_type": "code",
   "execution_count": 42,
   "metadata": {},
   "outputs": [
    {
     "data": {
      "text/plain": [
       "0.9999978030910001"
      ]
     },
     "execution_count": 42,
     "metadata": {},
     "output_type": "execute_result"
    }
   ],
   "source": [
    "# consultando a probabilidade e confiança do classificador SVM em um registro\n",
    "# necessário que o classificador SVM tenha sido treinado com o parametro 'probability' = True\n",
    "\n",
    "proba_SVM = SVM.predict_proba(novo_registro)\n",
    "confiança_SVM = proba_SVM.max()\n",
    "confiança_SVM"
   ]
  },
  {
   "cell_type": "code",
   "execution_count": 43,
   "metadata": {},
   "outputs": [
    {
     "name": "stdout",
     "output_type": "stream",
     "text": [
      "Cliente vai pagar o empréstimo, baseado em 2 algoritmos.\n"
     ]
    }
   ],
   "source": [
    "# combinação de classsificadores\n",
    "\n",
    "classe_0 = 0\n",
    "classe_1 = 0\n",
    "confiança_min = 0.999999                        # confiança mínima deve ser definida dependendo do classificador\n",
    "algoritmos = 0\n",
    "\n",
    "if confiança_NN >= confiança_min:\n",
    "    algoritmos += 1\n",
    "    if NN.predict(novo_registro) == 1:\n",
    "        classe_1 += 1\n",
    "    else:\n",
    "        classe_0 += 1\n",
    "\n",
    "if confiança_AD >= confiança_min:\n",
    "    algoritmos += 1\n",
    "    if AD.predict(novo_registro) == 1:\n",
    "        classe_1 += 1\n",
    "    else:\n",
    "        classe_0 += 1\n",
    "\n",
    "if confiança_SVM >= confiança_min:\n",
    "    algoritmos += 1\n",
    "    if SVM.predict(novo_registro) == 1:\n",
    "        classe_1 += 1\n",
    "    else:\n",
    "        classe_0 += 1\n",
    "\n",
    "if classe_0 > classe_1:\n",
    "    print(f'Cliente vai pagar o empréstimo, baseado em {algoritmos} algoritmos.')\n",
    "else:\n",
    "    print(f'Cliente não vai pagar o empréstimo, baseado em {algoritmos} algoritmos.')"
   ]
  }
 ],
 "metadata": {
  "interpreter": {
   "hash": "ad2bdc8ecc057115af97d19610ffacc2b4e99fae6737bb82f5d7fb13d2f2c186"
  },
  "kernelspec": {
   "display_name": "Python 3.8.8 ('base')",
   "language": "python",
   "name": "python3"
  },
  "language_info": {
   "codemirror_mode": {
    "name": "ipython",
    "version": 3
   },
   "file_extension": ".py",
   "mimetype": "text/x-python",
   "name": "python",
   "nbconvert_exporter": "python",
   "pygments_lexer": "ipython3",
   "version": "3.8.8"
  },
  "orig_nbformat": 4
 },
 "nbformat": 4,
 "nbformat_minor": 2
}
