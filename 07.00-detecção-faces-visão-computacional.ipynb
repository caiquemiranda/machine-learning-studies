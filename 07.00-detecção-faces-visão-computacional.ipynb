{
 "cells": [
  {
   "cell_type": "code",
   "execution_count": null,
   "metadata": {},
   "outputs": [],
   "source": [
    "# importação necessaria\n",
    "\n",
    "import cv2 # OpenCV\n",
    "#cv2.imshow(imagem)\n",
    "from google.colab.patches import cv2_imshow"
   ]
  },
  {
   "cell_type": "code",
   "execution_count": null,
   "metadata": {},
   "outputs": [],
   "source": [
    "# carregando a imagem\n",
    "\n",
    "imagem = cv2.imread('./data/workplace-1245776_1920.jpg')"
   ]
  },
  {
   "cell_type": "code",
   "execution_count": null,
   "metadata": {},
   "outputs": [],
   "source": [
    "# viz imagem\n",
    "\n",
    "cv2_imshow(imagem)"
   ]
  },
  {
   "cell_type": "code",
   "execution_count": null,
   "metadata": {},
   "outputs": [],
   "source": [
    "# detecção\n",
    "\n",
    "detector_face = cv2.CascadeClassifier('./data/haarcascade_frontalface_default.xml')"
   ]
  },
  {
   "cell_type": "code",
   "execution_count": null,
   "metadata": {},
   "outputs": [],
   "source": [
    "# imagem cinza\n",
    "\n",
    "imagem_cinza = cv2.cvtColor(imagem, cv2.COLOR_BGR2GRAY)\n",
    "cv2_imshow(imagem_cinza)"
   ]
  },
  {
   "cell_type": "code",
   "execution_count": null,
   "metadata": {},
   "outputs": [],
   "source": [
    "# detecção\n",
    "\n",
    "deteccoes = detector_face.detectMultiScale(imagem_cinza, scaleFactor=1.3, minSize=(30,30))"
   ]
  },
  {
   "cell_type": "code",
   "execution_count": null,
   "metadata": {},
   "outputs": [],
   "source": [
    "# deteccoes imagem\n",
    "\n",
    "for (x, y, l, a) in deteccoes:\n",
    "  #print(x, y, l, a)\n",
    "  cv2.rectangle(imagem, (x, y), (x + l, y + a), (0,255,0), 2)\n",
    "cv2_imshow(imagem)"
   ]
  },
  {
   "cell_type": "code",
   "execution_count": null,
   "metadata": {},
   "outputs": [],
   "source": [
    "# carregando imagem com mais pessoas\n",
    "\n",
    "image = cv2.imread('./data/pessoas.jpg')\n",
    "cv2_imshow(image)"
   ]
  },
  {
   "cell_type": "code",
   "execution_count": null,
   "metadata": {},
   "outputs": [],
   "source": [
    "# detecção corpo\n",
    "\n",
    "# tratamento\n",
    "detector_corpo = cv2.CascadeClassifier('./data/fullbody.xml')\n",
    "image_gray = cv2.cvtColor(image, cv2.COLOR_BGR2GRAY)\n",
    "detections = detector_corpo.detectMultiScale(image_gray, scaleFactor=1.1, minSize=(50,50))\n",
    "\n",
    "# tamanho\n",
    "print(len(detections))\n",
    "\n",
    "#matrizes\n",
    "print(detections)\n",
    "\n",
    "# detecção\n",
    "for (x, y, l, a) in detections:\n",
    "  cv2.rectangle(image, (x, y), (x + l, y + a), (0,255,0), 2)\n",
    "cv2_imshow(image)"
   ]
  }
 ],
 "metadata": {
  "interpreter": {
   "hash": "ad2bdc8ecc057115af97d19610ffacc2b4e99fae6737bb82f5d7fb13d2f2c186"
  },
  "kernelspec": {
   "display_name": "Python 3.8.8 ('base')",
   "language": "python",
   "name": "python3"
  },
  "language_info": {
   "codemirror_mode": {
    "name": "ipython",
    "version": 3
   },
   "file_extension": ".py",
   "mimetype": "text/x-python",
   "name": "python",
   "nbconvert_exporter": "python",
   "pygments_lexer": "ipython3",
   "version": "3.8.8"
  },
  "orig_nbformat": 4
 },
 "nbformat": 4,
 "nbformat_minor": 2
}
