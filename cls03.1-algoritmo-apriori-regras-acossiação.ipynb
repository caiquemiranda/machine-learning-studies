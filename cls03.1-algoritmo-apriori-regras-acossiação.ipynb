{
 "cells": [
  {
   "cell_type": "code",
   "execution_count": 11,
   "metadata": {},
   "outputs": [],
   "source": [
    "# importação de bibliotecas necessárias\n",
    "\n",
    "import pandas as pd\n",
    "import numpy as np\n",
    "import matplotlib.pyplot as plt\n",
    "import seaborn as sns\n",
    "from apyori import apriori"
   ]
  },
  {
   "cell_type": "code",
   "execution_count": 7,
   "metadata": {},
   "outputs": [
    {
     "name": "stdout",
     "output_type": "stream",
     "text": [
      "Versão da biblioteca Apyori :  1.1.2\n"
     ]
    }
   ],
   "source": [
    "# versão da biblioteca apyori\n",
    "\n",
    "print('Versão da biblioteca Apyori : ', apyori.__version__)"
   ]
  },
  {
   "cell_type": "code",
   "execution_count": 8,
   "metadata": {},
   "outputs": [],
   "source": [
    "# carregando o dataset para aplicação do algoritmo\n",
    "\n",
    "base_mercado = pd.read_csv('./data/mercado.csv', header=None)"
   ]
  },
  {
   "cell_type": "code",
   "execution_count": 9,
   "metadata": {},
   "outputs": [
    {
     "data": {
      "text/html": [
       "<div>\n",
       "<style scoped>\n",
       "    .dataframe tbody tr th:only-of-type {\n",
       "        vertical-align: middle;\n",
       "    }\n",
       "\n",
       "    .dataframe tbody tr th {\n",
       "        vertical-align: top;\n",
       "    }\n",
       "\n",
       "    .dataframe thead th {\n",
       "        text-align: right;\n",
       "    }\n",
       "</style>\n",
       "<table border=\"1\" class=\"dataframe\">\n",
       "  <thead>\n",
       "    <tr style=\"text-align: right;\">\n",
       "      <th></th>\n",
       "      <th>0</th>\n",
       "      <th>1</th>\n",
       "      <th>2</th>\n",
       "      <th>3</th>\n",
       "    </tr>\n",
       "  </thead>\n",
       "  <tbody>\n",
       "    <tr>\n",
       "      <th>0</th>\n",
       "      <td>leite</td>\n",
       "      <td>cerveja</td>\n",
       "      <td>pao</td>\n",
       "      <td>manteiga</td>\n",
       "    </tr>\n",
       "    <tr>\n",
       "      <th>1</th>\n",
       "      <td>cafe</td>\n",
       "      <td>pao</td>\n",
       "      <td>manteiga</td>\n",
       "      <td>NaN</td>\n",
       "    </tr>\n",
       "    <tr>\n",
       "      <th>2</th>\n",
       "      <td>cafe</td>\n",
       "      <td>pao</td>\n",
       "      <td>manteiga</td>\n",
       "      <td>NaN</td>\n",
       "    </tr>\n",
       "    <tr>\n",
       "      <th>3</th>\n",
       "      <td>leite</td>\n",
       "      <td>cafe</td>\n",
       "      <td>pao</td>\n",
       "      <td>manteiga</td>\n",
       "    </tr>\n",
       "    <tr>\n",
       "      <th>4</th>\n",
       "      <td>cerveja</td>\n",
       "      <td>NaN</td>\n",
       "      <td>NaN</td>\n",
       "      <td>NaN</td>\n",
       "    </tr>\n",
       "    <tr>\n",
       "      <th>5</th>\n",
       "      <td>manteiga</td>\n",
       "      <td>NaN</td>\n",
       "      <td>NaN</td>\n",
       "      <td>NaN</td>\n",
       "    </tr>\n",
       "    <tr>\n",
       "      <th>6</th>\n",
       "      <td>pao</td>\n",
       "      <td>NaN</td>\n",
       "      <td>NaN</td>\n",
       "      <td>NaN</td>\n",
       "    </tr>\n",
       "    <tr>\n",
       "      <th>7</th>\n",
       "      <td>feijao</td>\n",
       "      <td>NaN</td>\n",
       "      <td>NaN</td>\n",
       "      <td>NaN</td>\n",
       "    </tr>\n",
       "    <tr>\n",
       "      <th>8</th>\n",
       "      <td>arroz</td>\n",
       "      <td>feijao</td>\n",
       "      <td>NaN</td>\n",
       "      <td>NaN</td>\n",
       "    </tr>\n",
       "    <tr>\n",
       "      <th>9</th>\n",
       "      <td>arroz</td>\n",
       "      <td>NaN</td>\n",
       "      <td>NaN</td>\n",
       "      <td>NaN</td>\n",
       "    </tr>\n",
       "  </tbody>\n",
       "</table>\n",
       "</div>"
      ],
      "text/plain": [
       "          0        1         2         3\n",
       "0     leite  cerveja       pao  manteiga\n",
       "1      cafe      pao  manteiga       NaN\n",
       "2      cafe      pao  manteiga       NaN\n",
       "3     leite     cafe       pao  manteiga\n",
       "4   cerveja      NaN       NaN       NaN\n",
       "5  manteiga      NaN       NaN       NaN\n",
       "6       pao      NaN       NaN       NaN\n",
       "7    feijao      NaN       NaN       NaN\n",
       "8     arroz   feijao       NaN       NaN\n",
       "9     arroz      NaN       NaN       NaN"
      ]
     },
     "execution_count": 9,
     "metadata": {},
     "output_type": "execute_result"
    }
   ],
   "source": [
    "# visualização dos registros\n",
    "\n",
    "base_mercado"
   ]
  },
  {
   "cell_type": "code",
   "execution_count": 10,
   "metadata": {},
   "outputs": [
    {
     "data": {
      "text/plain": [
       "[['leite', 'cerveja', 'pao', 'manteiga'],\n",
       " ['cafe', 'pao', 'manteiga', 'nan'],\n",
       " ['cafe', 'pao', 'manteiga', 'nan'],\n",
       " ['leite', 'cafe', 'pao', 'manteiga'],\n",
       " ['cerveja', 'nan', 'nan', 'nan'],\n",
       " ['manteiga', 'nan', 'nan', 'nan'],\n",
       " ['pao', 'nan', 'nan', 'nan'],\n",
       " ['feijao', 'nan', 'nan', 'nan'],\n",
       " ['arroz', 'feijao', 'nan', 'nan'],\n",
       " ['arroz', 'nan', 'nan', 'nan']]"
      ]
     },
     "execution_count": 10,
     "metadata": {},
     "output_type": "execute_result"
    }
   ],
   "source": [
    "# adicionando os registros a uma lista \n",
    "\n",
    "transacoes = []\n",
    "for i in range(len(base_mercado)):\n",
    "    transacoes.append([str(base_mercado.iloc[i, j]) for j in range(base_mercado.shape[1])])\n",
    "\n",
    "transacoes"
   ]
  },
  {
   "cell_type": "code",
   "execution_count": 12,
   "metadata": {},
   "outputs": [
    {
     "data": {
      "text/plain": [
       "[RelationRecord(items=frozenset({'arroz'}), support=0.2, ordered_statistics=[OrderedStatistic(items_base=frozenset(), items_add=frozenset({'arroz'}), confidence=0.2, lift=1.0)]),\n",
       " RelationRecord(items=frozenset({'cafe'}), support=0.3, ordered_statistics=[OrderedStatistic(items_base=frozenset(), items_add=frozenset({'cafe'}), confidence=0.3, lift=1.0)]),\n",
       " RelationRecord(items=frozenset({'cerveja'}), support=0.2, ordered_statistics=[OrderedStatistic(items_base=frozenset(), items_add=frozenset({'cerveja'}), confidence=0.2, lift=1.0)]),\n",
       " RelationRecord(items=frozenset({'feijao'}), support=0.2, ordered_statistics=[OrderedStatistic(items_base=frozenset(), items_add=frozenset({'feijao'}), confidence=0.2, lift=1.0)]),\n",
       " RelationRecord(items=frozenset({'leite'}), support=0.2, ordered_statistics=[OrderedStatistic(items_base=frozenset(), items_add=frozenset({'leite'}), confidence=0.2, lift=1.0)]),\n",
       " RelationRecord(items=frozenset({'manteiga'}), support=0.5, ordered_statistics=[OrderedStatistic(items_base=frozenset(), items_add=frozenset({'manteiga'}), confidence=0.5, lift=1.0)]),\n",
       " RelationRecord(items=frozenset({'nan'}), support=0.8, ordered_statistics=[OrderedStatistic(items_base=frozenset(), items_add=frozenset({'nan'}), confidence=0.8, lift=1.0)]),\n",
       " RelationRecord(items=frozenset({'pao'}), support=0.5, ordered_statistics=[OrderedStatistic(items_base=frozenset(), items_add=frozenset({'pao'}), confidence=0.5, lift=1.0)]),\n",
       " RelationRecord(items=frozenset({'arroz', 'feijao'}), support=0.1, ordered_statistics=[OrderedStatistic(items_base=frozenset(), items_add=frozenset({'arroz', 'feijao'}), confidence=0.1, lift=1.0), OrderedStatistic(items_base=frozenset({'arroz'}), items_add=frozenset({'feijao'}), confidence=0.5, lift=2.5), OrderedStatistic(items_base=frozenset({'feijao'}), items_add=frozenset({'arroz'}), confidence=0.5, lift=2.5)]),\n",
       " RelationRecord(items=frozenset({'nan', 'arroz'}), support=0.2, ordered_statistics=[OrderedStatistic(items_base=frozenset(), items_add=frozenset({'nan', 'arroz'}), confidence=0.2, lift=1.0), OrderedStatistic(items_base=frozenset({'arroz'}), items_add=frozenset({'nan'}), confidence=1.0, lift=1.25), OrderedStatistic(items_base=frozenset({'nan'}), items_add=frozenset({'arroz'}), confidence=0.25, lift=1.25)]),\n",
       " RelationRecord(items=frozenset({'leite', 'cafe'}), support=0.1, ordered_statistics=[OrderedStatistic(items_base=frozenset(), items_add=frozenset({'leite', 'cafe'}), confidence=0.1, lift=1.0), OrderedStatistic(items_base=frozenset({'cafe'}), items_add=frozenset({'leite'}), confidence=0.33333333333333337, lift=1.6666666666666667), OrderedStatistic(items_base=frozenset({'leite'}), items_add=frozenset({'cafe'}), confidence=0.5, lift=1.6666666666666667)]),\n",
       " RelationRecord(items=frozenset({'manteiga', 'cafe'}), support=0.3, ordered_statistics=[OrderedStatistic(items_base=frozenset(), items_add=frozenset({'manteiga', 'cafe'}), confidence=0.3, lift=1.0), OrderedStatistic(items_base=frozenset({'cafe'}), items_add=frozenset({'manteiga'}), confidence=1.0, lift=2.0), OrderedStatistic(items_base=frozenset({'manteiga'}), items_add=frozenset({'cafe'}), confidence=0.6, lift=2.0)]),\n",
       " RelationRecord(items=frozenset({'nan', 'cafe'}), support=0.2, ordered_statistics=[OrderedStatistic(items_base=frozenset(), items_add=frozenset({'nan', 'cafe'}), confidence=0.2, lift=1.0), OrderedStatistic(items_base=frozenset({'cafe'}), items_add=frozenset({'nan'}), confidence=0.6666666666666667, lift=0.8333333333333334), OrderedStatistic(items_base=frozenset({'nan'}), items_add=frozenset({'cafe'}), confidence=0.25, lift=0.8333333333333334)]),\n",
       " RelationRecord(items=frozenset({'pao', 'cafe'}), support=0.3, ordered_statistics=[OrderedStatistic(items_base=frozenset(), items_add=frozenset({'pao', 'cafe'}), confidence=0.3, lift=1.0), OrderedStatistic(items_base=frozenset({'cafe'}), items_add=frozenset({'pao'}), confidence=1.0, lift=2.0), OrderedStatistic(items_base=frozenset({'pao'}), items_add=frozenset({'cafe'}), confidence=0.6, lift=2.0)]),\n",
       " RelationRecord(items=frozenset({'leite', 'cerveja'}), support=0.1, ordered_statistics=[OrderedStatistic(items_base=frozenset(), items_add=frozenset({'leite', 'cerveja'}), confidence=0.1, lift=1.0), OrderedStatistic(items_base=frozenset({'cerveja'}), items_add=frozenset({'leite'}), confidence=0.5, lift=2.5), OrderedStatistic(items_base=frozenset({'leite'}), items_add=frozenset({'cerveja'}), confidence=0.5, lift=2.5)]),\n",
       " RelationRecord(items=frozenset({'cerveja', 'manteiga'}), support=0.1, ordered_statistics=[OrderedStatistic(items_base=frozenset(), items_add=frozenset({'cerveja', 'manteiga'}), confidence=0.1, lift=1.0), OrderedStatistic(items_base=frozenset({'cerveja'}), items_add=frozenset({'manteiga'}), confidence=0.5, lift=1.0), OrderedStatistic(items_base=frozenset({'manteiga'}), items_add=frozenset({'cerveja'}), confidence=0.2, lift=1.0)]),\n",
       " RelationRecord(items=frozenset({'cerveja', 'nan'}), support=0.1, ordered_statistics=[OrderedStatistic(items_base=frozenset(), items_add=frozenset({'cerveja', 'nan'}), confidence=0.1, lift=1.0), OrderedStatistic(items_base=frozenset({'cerveja'}), items_add=frozenset({'nan'}), confidence=0.5, lift=0.625), OrderedStatistic(items_base=frozenset({'nan'}), items_add=frozenset({'cerveja'}), confidence=0.125, lift=0.625)]),\n",
       " RelationRecord(items=frozenset({'pao', 'cerveja'}), support=0.1, ordered_statistics=[OrderedStatistic(items_base=frozenset(), items_add=frozenset({'pao', 'cerveja'}), confidence=0.1, lift=1.0), OrderedStatistic(items_base=frozenset({'cerveja'}), items_add=frozenset({'pao'}), confidence=0.5, lift=1.0), OrderedStatistic(items_base=frozenset({'pao'}), items_add=frozenset({'cerveja'}), confidence=0.2, lift=1.0)]),\n",
       " RelationRecord(items=frozenset({'nan', 'feijao'}), support=0.2, ordered_statistics=[OrderedStatistic(items_base=frozenset(), items_add=frozenset({'nan', 'feijao'}), confidence=0.2, lift=1.0), OrderedStatistic(items_base=frozenset({'feijao'}), items_add=frozenset({'nan'}), confidence=1.0, lift=1.25), OrderedStatistic(items_base=frozenset({'nan'}), items_add=frozenset({'feijao'}), confidence=0.25, lift=1.25)]),\n",
       " RelationRecord(items=frozenset({'leite', 'manteiga'}), support=0.2, ordered_statistics=[OrderedStatistic(items_base=frozenset(), items_add=frozenset({'leite', 'manteiga'}), confidence=0.2, lift=1.0), OrderedStatistic(items_base=frozenset({'leite'}), items_add=frozenset({'manteiga'}), confidence=1.0, lift=2.0), OrderedStatistic(items_base=frozenset({'manteiga'}), items_add=frozenset({'leite'}), confidence=0.4, lift=2.0)]),\n",
       " RelationRecord(items=frozenset({'pao', 'leite'}), support=0.2, ordered_statistics=[OrderedStatistic(items_base=frozenset(), items_add=frozenset({'pao', 'leite'}), confidence=0.2, lift=1.0), OrderedStatistic(items_base=frozenset({'leite'}), items_add=frozenset({'pao'}), confidence=1.0, lift=2.0), OrderedStatistic(items_base=frozenset({'pao'}), items_add=frozenset({'leite'}), confidence=0.4, lift=2.0)]),\n",
       " RelationRecord(items=frozenset({'nan', 'manteiga'}), support=0.3, ordered_statistics=[OrderedStatistic(items_base=frozenset(), items_add=frozenset({'nan', 'manteiga'}), confidence=0.3, lift=1.0), OrderedStatistic(items_base=frozenset({'manteiga'}), items_add=frozenset({'nan'}), confidence=0.6, lift=0.7499999999999999), OrderedStatistic(items_base=frozenset({'nan'}), items_add=frozenset({'manteiga'}), confidence=0.37499999999999994, lift=0.7499999999999999)]),\n",
       " RelationRecord(items=frozenset({'pao', 'manteiga'}), support=0.4, ordered_statistics=[OrderedStatistic(items_base=frozenset(), items_add=frozenset({'pao', 'manteiga'}), confidence=0.4, lift=1.0), OrderedStatistic(items_base=frozenset({'manteiga'}), items_add=frozenset({'pao'}), confidence=0.8, lift=1.6), OrderedStatistic(items_base=frozenset({'pao'}), items_add=frozenset({'manteiga'}), confidence=0.8, lift=1.6)]),\n",
       " RelationRecord(items=frozenset({'pao', 'nan'}), support=0.3, ordered_statistics=[OrderedStatistic(items_base=frozenset(), items_add=frozenset({'pao', 'nan'}), confidence=0.3, lift=1.0), OrderedStatistic(items_base=frozenset({'nan'}), items_add=frozenset({'pao'}), confidence=0.37499999999999994, lift=0.7499999999999999), OrderedStatistic(items_base=frozenset({'pao'}), items_add=frozenset({'nan'}), confidence=0.6, lift=0.7499999999999999)]),\n",
       " RelationRecord(items=frozenset({'nan', 'arroz', 'feijao'}), support=0.1, ordered_statistics=[OrderedStatistic(items_base=frozenset(), items_add=frozenset({'nan', 'feijao', 'arroz'}), confidence=0.1, lift=1.0), OrderedStatistic(items_base=frozenset({'arroz'}), items_add=frozenset({'nan', 'feijao'}), confidence=0.5, lift=2.5), OrderedStatistic(items_base=frozenset({'feijao'}), items_add=frozenset({'nan', 'arroz'}), confidence=0.5, lift=2.5), OrderedStatistic(items_base=frozenset({'nan'}), items_add=frozenset({'arroz', 'feijao'}), confidence=0.125, lift=1.25), OrderedStatistic(items_base=frozenset({'arroz', 'feijao'}), items_add=frozenset({'nan'}), confidence=1.0, lift=1.25), OrderedStatistic(items_base=frozenset({'nan', 'arroz'}), items_add=frozenset({'feijao'}), confidence=0.5, lift=2.5), OrderedStatistic(items_base=frozenset({'nan', 'feijao'}), items_add=frozenset({'arroz'}), confidence=0.5, lift=2.5)]),\n",
       " RelationRecord(items=frozenset({'leite', 'manteiga', 'cafe'}), support=0.1, ordered_statistics=[OrderedStatistic(items_base=frozenset(), items_add=frozenset({'leite', 'manteiga', 'cafe'}), confidence=0.1, lift=1.0), OrderedStatistic(items_base=frozenset({'cafe'}), items_add=frozenset({'leite', 'manteiga'}), confidence=0.33333333333333337, lift=1.6666666666666667), OrderedStatistic(items_base=frozenset({'leite'}), items_add=frozenset({'manteiga', 'cafe'}), confidence=0.5, lift=1.6666666666666667), OrderedStatistic(items_base=frozenset({'manteiga'}), items_add=frozenset({'leite', 'cafe'}), confidence=0.2, lift=2.0), OrderedStatistic(items_base=frozenset({'leite', 'cafe'}), items_add=frozenset({'manteiga'}), confidence=1.0, lift=2.0), OrderedStatistic(items_base=frozenset({'manteiga', 'cafe'}), items_add=frozenset({'leite'}), confidence=0.33333333333333337, lift=1.6666666666666667), OrderedStatistic(items_base=frozenset({'leite', 'manteiga'}), items_add=frozenset({'cafe'}), confidence=0.5, lift=1.6666666666666667)]),\n",
       " RelationRecord(items=frozenset({'pao', 'leite', 'cafe'}), support=0.1, ordered_statistics=[OrderedStatistic(items_base=frozenset(), items_add=frozenset({'pao', 'leite', 'cafe'}), confidence=0.1, lift=1.0), OrderedStatistic(items_base=frozenset({'cafe'}), items_add=frozenset({'pao', 'leite'}), confidence=0.33333333333333337, lift=1.6666666666666667), OrderedStatistic(items_base=frozenset({'leite'}), items_add=frozenset({'pao', 'cafe'}), confidence=0.5, lift=1.6666666666666667), OrderedStatistic(items_base=frozenset({'pao'}), items_add=frozenset({'leite', 'cafe'}), confidence=0.2, lift=2.0), OrderedStatistic(items_base=frozenset({'leite', 'cafe'}), items_add=frozenset({'pao'}), confidence=1.0, lift=2.0), OrderedStatistic(items_base=frozenset({'pao', 'cafe'}), items_add=frozenset({'leite'}), confidence=0.33333333333333337, lift=1.6666666666666667), OrderedStatistic(items_base=frozenset({'pao', 'leite'}), items_add=frozenset({'cafe'}), confidence=0.5, lift=1.6666666666666667)]),\n",
       " RelationRecord(items=frozenset({'nan', 'manteiga', 'cafe'}), support=0.2, ordered_statistics=[OrderedStatistic(items_base=frozenset(), items_add=frozenset({'nan', 'manteiga', 'cafe'}), confidence=0.2, lift=1.0), OrderedStatistic(items_base=frozenset({'cafe'}), items_add=frozenset({'nan', 'manteiga'}), confidence=0.6666666666666667, lift=2.2222222222222228), OrderedStatistic(items_base=frozenset({'manteiga'}), items_add=frozenset({'nan', 'cafe'}), confidence=0.4, lift=2.0), OrderedStatistic(items_base=frozenset({'nan'}), items_add=frozenset({'manteiga', 'cafe'}), confidence=0.25, lift=0.8333333333333334), OrderedStatistic(items_base=frozenset({'manteiga', 'cafe'}), items_add=frozenset({'nan'}), confidence=0.6666666666666667, lift=0.8333333333333334), OrderedStatistic(items_base=frozenset({'nan', 'cafe'}), items_add=frozenset({'manteiga'}), confidence=1.0, lift=2.0), OrderedStatistic(items_base=frozenset({'nan', 'manteiga'}), items_add=frozenset({'cafe'}), confidence=0.6666666666666667, lift=2.2222222222222228)]),\n",
       " RelationRecord(items=frozenset({'pao', 'manteiga', 'cafe'}), support=0.3, ordered_statistics=[OrderedStatistic(items_base=frozenset(), items_add=frozenset({'pao', 'manteiga', 'cafe'}), confidence=0.3, lift=1.0), OrderedStatistic(items_base=frozenset({'cafe'}), items_add=frozenset({'pao', 'manteiga'}), confidence=1.0, lift=2.5), OrderedStatistic(items_base=frozenset({'manteiga'}), items_add=frozenset({'pao', 'cafe'}), confidence=0.6, lift=2.0), OrderedStatistic(items_base=frozenset({'pao'}), items_add=frozenset({'manteiga', 'cafe'}), confidence=0.6, lift=2.0), OrderedStatistic(items_base=frozenset({'manteiga', 'cafe'}), items_add=frozenset({'pao'}), confidence=1.0, lift=2.0), OrderedStatistic(items_base=frozenset({'pao', 'cafe'}), items_add=frozenset({'manteiga'}), confidence=1.0, lift=2.0), OrderedStatistic(items_base=frozenset({'pao', 'manteiga'}), items_add=frozenset({'cafe'}), confidence=0.7499999999999999, lift=2.4999999999999996)]),\n",
       " RelationRecord(items=frozenset({'pao', 'nan', 'cafe'}), support=0.2, ordered_statistics=[OrderedStatistic(items_base=frozenset(), items_add=frozenset({'pao', 'nan', 'cafe'}), confidence=0.2, lift=1.0), OrderedStatistic(items_base=frozenset({'cafe'}), items_add=frozenset({'pao', 'nan'}), confidence=0.6666666666666667, lift=2.2222222222222228), OrderedStatistic(items_base=frozenset({'nan'}), items_add=frozenset({'pao', 'cafe'}), confidence=0.25, lift=0.8333333333333334), OrderedStatistic(items_base=frozenset({'pao'}), items_add=frozenset({'nan', 'cafe'}), confidence=0.4, lift=2.0), OrderedStatistic(items_base=frozenset({'nan', 'cafe'}), items_add=frozenset({'pao'}), confidence=1.0, lift=2.0), OrderedStatistic(items_base=frozenset({'pao', 'cafe'}), items_add=frozenset({'nan'}), confidence=0.6666666666666667, lift=0.8333333333333334), OrderedStatistic(items_base=frozenset({'pao', 'nan'}), items_add=frozenset({'cafe'}), confidence=0.6666666666666667, lift=2.2222222222222228)]),\n",
       " RelationRecord(items=frozenset({'leite', 'cerveja', 'manteiga'}), support=0.1, ordered_statistics=[OrderedStatistic(items_base=frozenset(), items_add=frozenset({'leite', 'manteiga', 'cerveja'}), confidence=0.1, lift=1.0), OrderedStatistic(items_base=frozenset({'cerveja'}), items_add=frozenset({'leite', 'manteiga'}), confidence=0.5, lift=2.5), OrderedStatistic(items_base=frozenset({'leite'}), items_add=frozenset({'cerveja', 'manteiga'}), confidence=0.5, lift=5.0), OrderedStatistic(items_base=frozenset({'manteiga'}), items_add=frozenset({'leite', 'cerveja'}), confidence=0.2, lift=2.0), OrderedStatistic(items_base=frozenset({'leite', 'cerveja'}), items_add=frozenset({'manteiga'}), confidence=1.0, lift=2.0), OrderedStatistic(items_base=frozenset({'cerveja', 'manteiga'}), items_add=frozenset({'leite'}), confidence=1.0, lift=5.0), OrderedStatistic(items_base=frozenset({'leite', 'manteiga'}), items_add=frozenset({'cerveja'}), confidence=0.5, lift=2.5)]),\n",
       " RelationRecord(items=frozenset({'leite', 'cerveja', 'pao'}), support=0.1, ordered_statistics=[OrderedStatistic(items_base=frozenset(), items_add=frozenset({'pao', 'leite', 'cerveja'}), confidence=0.1, lift=1.0), OrderedStatistic(items_base=frozenset({'cerveja'}), items_add=frozenset({'pao', 'leite'}), confidence=0.5, lift=2.5), OrderedStatistic(items_base=frozenset({'leite'}), items_add=frozenset({'pao', 'cerveja'}), confidence=0.5, lift=5.0), OrderedStatistic(items_base=frozenset({'pao'}), items_add=frozenset({'leite', 'cerveja'}), confidence=0.2, lift=2.0), OrderedStatistic(items_base=frozenset({'leite', 'cerveja'}), items_add=frozenset({'pao'}), confidence=1.0, lift=2.0), OrderedStatistic(items_base=frozenset({'pao', 'cerveja'}), items_add=frozenset({'leite'}), confidence=1.0, lift=5.0), OrderedStatistic(items_base=frozenset({'pao', 'leite'}), items_add=frozenset({'cerveja'}), confidence=0.5, lift=2.5)]),\n",
       " RelationRecord(items=frozenset({'pao', 'cerveja', 'manteiga'}), support=0.1, ordered_statistics=[OrderedStatistic(items_base=frozenset(), items_add=frozenset({'pao', 'cerveja', 'manteiga'}), confidence=0.1, lift=1.0), OrderedStatistic(items_base=frozenset({'cerveja'}), items_add=frozenset({'pao', 'manteiga'}), confidence=0.5, lift=1.25), OrderedStatistic(items_base=frozenset({'manteiga'}), items_add=frozenset({'pao', 'cerveja'}), confidence=0.2, lift=2.0), OrderedStatistic(items_base=frozenset({'pao'}), items_add=frozenset({'cerveja', 'manteiga'}), confidence=0.2, lift=2.0), OrderedStatistic(items_base=frozenset({'cerveja', 'manteiga'}), items_add=frozenset({'pao'}), confidence=1.0, lift=2.0), OrderedStatistic(items_base=frozenset({'pao', 'cerveja'}), items_add=frozenset({'manteiga'}), confidence=1.0, lift=2.0), OrderedStatistic(items_base=frozenset({'pao', 'manteiga'}), items_add=frozenset({'cerveja'}), confidence=0.25, lift=1.25)]),\n",
       " RelationRecord(items=frozenset({'pao', 'leite', 'manteiga'}), support=0.2, ordered_statistics=[OrderedStatistic(items_base=frozenset(), items_add=frozenset({'pao', 'leite', 'manteiga'}), confidence=0.2, lift=1.0), OrderedStatistic(items_base=frozenset({'leite'}), items_add=frozenset({'pao', 'manteiga'}), confidence=1.0, lift=2.5), OrderedStatistic(items_base=frozenset({'manteiga'}), items_add=frozenset({'pao', 'leite'}), confidence=0.4, lift=2.0), OrderedStatistic(items_base=frozenset({'pao'}), items_add=frozenset({'leite', 'manteiga'}), confidence=0.4, lift=2.0), OrderedStatistic(items_base=frozenset({'leite', 'manteiga'}), items_add=frozenset({'pao'}), confidence=1.0, lift=2.0), OrderedStatistic(items_base=frozenset({'pao', 'leite'}), items_add=frozenset({'manteiga'}), confidence=1.0, lift=2.0), OrderedStatistic(items_base=frozenset({'pao', 'manteiga'}), items_add=frozenset({'leite'}), confidence=0.5, lift=2.5)]),\n",
       " RelationRecord(items=frozenset({'pao', 'nan', 'manteiga'}), support=0.2, ordered_statistics=[OrderedStatistic(items_base=frozenset(), items_add=frozenset({'pao', 'nan', 'manteiga'}), confidence=0.2, lift=1.0), OrderedStatistic(items_base=frozenset({'manteiga'}), items_add=frozenset({'pao', 'nan'}), confidence=0.4, lift=1.3333333333333335), OrderedStatistic(items_base=frozenset({'nan'}), items_add=frozenset({'pao', 'manteiga'}), confidence=0.25, lift=0.625), OrderedStatistic(items_base=frozenset({'pao'}), items_add=frozenset({'nan', 'manteiga'}), confidence=0.4, lift=1.3333333333333335), OrderedStatistic(items_base=frozenset({'nan', 'manteiga'}), items_add=frozenset({'pao'}), confidence=0.6666666666666667, lift=1.3333333333333335), OrderedStatistic(items_base=frozenset({'pao', 'manteiga'}), items_add=frozenset({'nan'}), confidence=0.5, lift=0.625), OrderedStatistic(items_base=frozenset({'pao', 'nan'}), items_add=frozenset({'manteiga'}), confidence=0.6666666666666667, lift=1.3333333333333335)]),\n",
       " RelationRecord(items=frozenset({'pao', 'leite', 'manteiga', 'cafe'}), support=0.1, ordered_statistics=[OrderedStatistic(items_base=frozenset(), items_add=frozenset({'pao', 'leite', 'manteiga', 'cafe'}), confidence=0.1, lift=1.0), OrderedStatistic(items_base=frozenset({'cafe'}), items_add=frozenset({'pao', 'leite', 'manteiga'}), confidence=0.33333333333333337, lift=1.6666666666666667), OrderedStatistic(items_base=frozenset({'leite'}), items_add=frozenset({'pao', 'manteiga', 'cafe'}), confidence=0.5, lift=1.6666666666666667), OrderedStatistic(items_base=frozenset({'manteiga'}), items_add=frozenset({'pao', 'leite', 'cafe'}), confidence=0.2, lift=2.0), OrderedStatistic(items_base=frozenset({'pao'}), items_add=frozenset({'leite', 'manteiga', 'cafe'}), confidence=0.2, lift=2.0), OrderedStatistic(items_base=frozenset({'leite', 'cafe'}), items_add=frozenset({'pao', 'manteiga'}), confidence=1.0, lift=2.5), OrderedStatistic(items_base=frozenset({'manteiga', 'cafe'}), items_add=frozenset({'pao', 'leite'}), confidence=0.33333333333333337, lift=1.6666666666666667), OrderedStatistic(items_base=frozenset({'pao', 'cafe'}), items_add=frozenset({'leite', 'manteiga'}), confidence=0.33333333333333337, lift=1.6666666666666667), OrderedStatistic(items_base=frozenset({'leite', 'manteiga'}), items_add=frozenset({'pao', 'cafe'}), confidence=0.5, lift=1.6666666666666667), OrderedStatistic(items_base=frozenset({'pao', 'leite'}), items_add=frozenset({'manteiga', 'cafe'}), confidence=0.5, lift=1.6666666666666667), OrderedStatistic(items_base=frozenset({'pao', 'manteiga'}), items_add=frozenset({'leite', 'cafe'}), confidence=0.25, lift=2.5), OrderedStatistic(items_base=frozenset({'leite', 'manteiga', 'cafe'}), items_add=frozenset({'pao'}), confidence=1.0, lift=2.0), OrderedStatistic(items_base=frozenset({'pao', 'leite', 'cafe'}), items_add=frozenset({'manteiga'}), confidence=1.0, lift=2.0), OrderedStatistic(items_base=frozenset({'pao', 'manteiga', 'cafe'}), items_add=frozenset({'leite'}), confidence=0.33333333333333337, lift=1.6666666666666667), OrderedStatistic(items_base=frozenset({'pao', 'leite', 'manteiga'}), items_add=frozenset({'cafe'}), confidence=0.5, lift=1.6666666666666667)]),\n",
       " RelationRecord(items=frozenset({'pao', 'nan', 'manteiga', 'cafe'}), support=0.2, ordered_statistics=[OrderedStatistic(items_base=frozenset(), items_add=frozenset({'pao', 'nan', 'manteiga', 'cafe'}), confidence=0.2, lift=1.0), OrderedStatistic(items_base=frozenset({'cafe'}), items_add=frozenset({'pao', 'nan', 'manteiga'}), confidence=0.6666666666666667, lift=3.3333333333333335), OrderedStatistic(items_base=frozenset({'manteiga'}), items_add=frozenset({'pao', 'nan', 'cafe'}), confidence=0.4, lift=2.0), OrderedStatistic(items_base=frozenset({'nan'}), items_add=frozenset({'pao', 'manteiga', 'cafe'}), confidence=0.25, lift=0.8333333333333334), OrderedStatistic(items_base=frozenset({'pao'}), items_add=frozenset({'nan', 'manteiga', 'cafe'}), confidence=0.4, lift=2.0), OrderedStatistic(items_base=frozenset({'manteiga', 'cafe'}), items_add=frozenset({'pao', 'nan'}), confidence=0.6666666666666667, lift=2.2222222222222228), OrderedStatistic(items_base=frozenset({'nan', 'cafe'}), items_add=frozenset({'pao', 'manteiga'}), confidence=1.0, lift=2.5), OrderedStatistic(items_base=frozenset({'pao', 'cafe'}), items_add=frozenset({'nan', 'manteiga'}), confidence=0.6666666666666667, lift=2.2222222222222228), OrderedStatistic(items_base=frozenset({'nan', 'manteiga'}), items_add=frozenset({'pao', 'cafe'}), confidence=0.6666666666666667, lift=2.2222222222222228), OrderedStatistic(items_base=frozenset({'pao', 'manteiga'}), items_add=frozenset({'nan', 'cafe'}), confidence=0.5, lift=2.5), OrderedStatistic(items_base=frozenset({'pao', 'nan'}), items_add=frozenset({'manteiga', 'cafe'}), confidence=0.6666666666666667, lift=2.2222222222222228), OrderedStatistic(items_base=frozenset({'nan', 'manteiga', 'cafe'}), items_add=frozenset({'pao'}), confidence=1.0, lift=2.0), OrderedStatistic(items_base=frozenset({'pao', 'manteiga', 'cafe'}), items_add=frozenset({'nan'}), confidence=0.6666666666666667, lift=0.8333333333333334), OrderedStatistic(items_base=frozenset({'pao', 'nan', 'cafe'}), items_add=frozenset({'manteiga'}), confidence=1.0, lift=2.0), OrderedStatistic(items_base=frozenset({'pao', 'nan', 'manteiga'}), items_add=frozenset({'cafe'}), confidence=1.0, lift=3.3333333333333335)]),\n",
       " RelationRecord(items=frozenset({'leite', 'cerveja', 'manteiga', 'pao'}), support=0.1, ordered_statistics=[OrderedStatistic(items_base=frozenset(), items_add=frozenset({'leite', 'cerveja', 'manteiga', 'pao'}), confidence=0.1, lift=1.0), OrderedStatistic(items_base=frozenset({'cerveja'}), items_add=frozenset({'pao', 'leite', 'manteiga'}), confidence=0.5, lift=2.5), OrderedStatistic(items_base=frozenset({'leite'}), items_add=frozenset({'pao', 'cerveja', 'manteiga'}), confidence=0.5, lift=5.0), OrderedStatistic(items_base=frozenset({'manteiga'}), items_add=frozenset({'pao', 'leite', 'cerveja'}), confidence=0.2, lift=2.0), OrderedStatistic(items_base=frozenset({'pao'}), items_add=frozenset({'leite', 'manteiga', 'cerveja'}), confidence=0.2, lift=2.0), OrderedStatistic(items_base=frozenset({'leite', 'cerveja'}), items_add=frozenset({'pao', 'manteiga'}), confidence=1.0, lift=2.5), OrderedStatistic(items_base=frozenset({'cerveja', 'manteiga'}), items_add=frozenset({'pao', 'leite'}), confidence=1.0, lift=5.0), OrderedStatistic(items_base=frozenset({'pao', 'cerveja'}), items_add=frozenset({'leite', 'manteiga'}), confidence=1.0, lift=5.0), OrderedStatistic(items_base=frozenset({'leite', 'manteiga'}), items_add=frozenset({'pao', 'cerveja'}), confidence=0.5, lift=5.0), OrderedStatistic(items_base=frozenset({'pao', 'leite'}), items_add=frozenset({'cerveja', 'manteiga'}), confidence=0.5, lift=5.0), OrderedStatistic(items_base=frozenset({'pao', 'manteiga'}), items_add=frozenset({'leite', 'cerveja'}), confidence=0.25, lift=2.5), OrderedStatistic(items_base=frozenset({'leite', 'cerveja', 'manteiga'}), items_add=frozenset({'pao'}), confidence=1.0, lift=2.0), OrderedStatistic(items_base=frozenset({'leite', 'cerveja', 'pao'}), items_add=frozenset({'manteiga'}), confidence=1.0, lift=2.0), OrderedStatistic(items_base=frozenset({'pao', 'cerveja', 'manteiga'}), items_add=frozenset({'leite'}), confidence=1.0, lift=5.0), OrderedStatistic(items_base=frozenset({'pao', 'leite', 'manteiga'}), items_add=frozenset({'cerveja'}), confidence=0.5, lift=2.5)])]"
      ]
     },
     "execution_count": 12,
     "metadata": {},
     "output_type": "execute_result"
    }
   ],
   "source": [
    "# geração de regras com a biblioteca apyori\n",
    "\n",
    "regras = apriori(transacoes)\n",
    "resultados = list(regras)\n",
    "resultados"
   ]
  },
  {
   "cell_type": "code",
   "execution_count": 13,
   "metadata": {},
   "outputs": [
    {
     "data": {
      "text/plain": [
       "38"
      ]
     },
     "execution_count": 13,
     "metadata": {},
     "output_type": "execute_result"
    }
   ],
   "source": [
    "# tamano dos grupos de regras\n",
    "\n",
    "len(resultados)"
   ]
  },
  {
   "cell_type": "code",
   "execution_count": 16,
   "metadata": {},
   "outputs": [
    {
     "data": {
      "text/plain": [
       "[RelationRecord(items=frozenset({'manteiga', 'cafe'}), support=0.3, ordered_statistics=[OrderedStatistic(items_base=frozenset({'cafe'}), items_add=frozenset({'manteiga'}), confidence=1.0, lift=2.0)]),\n",
       " RelationRecord(items=frozenset({'pao', 'cafe'}), support=0.3, ordered_statistics=[OrderedStatistic(items_base=frozenset({'cafe'}), items_add=frozenset({'pao'}), confidence=1.0, lift=2.0)]),\n",
       " RelationRecord(items=frozenset({'pao', 'manteiga', 'cafe'}), support=0.3, ordered_statistics=[OrderedStatistic(items_base=frozenset({'cafe'}), items_add=frozenset({'pao', 'manteiga'}), confidence=1.0, lift=2.5), OrderedStatistic(items_base=frozenset({'manteiga', 'cafe'}), items_add=frozenset({'pao'}), confidence=1.0, lift=2.0), OrderedStatistic(items_base=frozenset({'pao', 'cafe'}), items_add=frozenset({'manteiga'}), confidence=1.0, lift=2.0)])]"
      ]
     },
     "execution_count": 16,
     "metadata": {},
     "output_type": "execute_result"
    }
   ],
   "source": [
    "# visualização das regras com alterações de alguns parametros\n",
    "\n",
    "regras = apriori(transacoes, min_support=0.3, min_confidence=0.8, min_lift=2, min_length=2)\n",
    "resultados = list(regras)\n",
    "resultados"
   ]
  },
  {
   "cell_type": "code",
   "execution_count": 17,
   "metadata": {},
   "outputs": [
    {
     "data": {
      "text/plain": [
       "3"
      ]
     },
     "execution_count": 17,
     "metadata": {},
     "output_type": "execute_result"
    }
   ],
   "source": [
    "# tamano dos grupos de regras com alterações de alguns parametros\n",
    "\n",
    "len(resultados)"
   ]
  },
  {
   "cell_type": "code",
   "execution_count": 19,
   "metadata": {},
   "outputs": [
    {
     "data": {
      "text/plain": [
       "RelationRecord(items=frozenset({'pao', 'manteiga', 'cafe'}), support=0.3, ordered_statistics=[OrderedStatistic(items_base=frozenset({'cafe'}), items_add=frozenset({'pao', 'manteiga'}), confidence=1.0, lift=2.5), OrderedStatistic(items_base=frozenset({'manteiga', 'cafe'}), items_add=frozenset({'pao'}), confidence=1.0, lift=2.0), OrderedStatistic(items_base=frozenset({'pao', 'cafe'}), items_add=frozenset({'manteiga'}), confidence=1.0, lift=2.0)])"
      ]
     },
     "execution_count": 19,
     "metadata": {},
     "output_type": "execute_result"
    }
   ],
   "source": [
    "# ultimo conjunto de regras\n",
    "\n",
    "resultados[2]"
   ]
  },
  {
   "cell_type": "code",
   "execution_count": 20,
   "metadata": {},
   "outputs": [
    {
     "data": {
      "text/plain": [
       "frozenset({'cafe', 'manteiga', 'pao'})"
      ]
     },
     "execution_count": 20,
     "metadata": {},
     "output_type": "execute_result"
    }
   ],
   "source": [
    "# itemset\n",
    "\n",
    "resultados[2][0]"
   ]
  },
  {
   "cell_type": "code",
   "execution_count": 21,
   "metadata": {},
   "outputs": [
    {
     "data": {
      "text/plain": [
       "0.3"
      ]
     },
     "execution_count": 21,
     "metadata": {},
     "output_type": "execute_result"
    }
   ],
   "source": [
    "# suporte\n",
    "\n",
    "resultados[2][1]"
   ]
  },
  {
   "cell_type": "code",
   "execution_count": 22,
   "metadata": {},
   "outputs": [
    {
     "data": {
      "text/plain": [
       "[OrderedStatistic(items_base=frozenset({'cafe'}), items_add=frozenset({'pao', 'manteiga'}), confidence=1.0, lift=2.5),\n",
       " OrderedStatistic(items_base=frozenset({'manteiga', 'cafe'}), items_add=frozenset({'pao'}), confidence=1.0, lift=2.0),\n",
       " OrderedStatistic(items_base=frozenset({'pao', 'cafe'}), items_add=frozenset({'manteiga'}), confidence=1.0, lift=2.0)]"
      ]
     },
     "execution_count": 22,
     "metadata": {},
     "output_type": "execute_result"
    }
   ],
   "source": [
    "# ordemStatistic regras\n",
    "\n",
    "r = resultados[2][2]\n",
    "r"
   ]
  },
  {
   "cell_type": "code",
   "execution_count": 24,
   "metadata": {},
   "outputs": [
    {
     "data": {
      "text/plain": [
       "OrderedStatistic(items_base=frozenset({'cafe'}), items_add=frozenset({'pao', 'manteiga'}), confidence=1.0, lift=2.5)"
      ]
     },
     "execution_count": 24,
     "metadata": {},
     "output_type": "execute_result"
    }
   ],
   "source": [
    "# visualização da regra n1\n",
    "\n",
    "r[0]"
   ]
  },
  {
   "cell_type": "code",
   "execution_count": 25,
   "metadata": {},
   "outputs": [
    {
     "data": {
      "text/plain": [
       "OrderedStatistic(items_base=frozenset({'manteiga', 'cafe'}), items_add=frozenset({'pao'}), confidence=1.0, lift=2.0)"
      ]
     },
     "execution_count": 25,
     "metadata": {},
     "output_type": "execute_result"
    }
   ],
   "source": [
    "# visualização da regra n2\n",
    "\n",
    "r[1]"
   ]
  },
  {
   "cell_type": "code",
   "execution_count": 26,
   "metadata": {},
   "outputs": [
    {
     "data": {
      "text/plain": [
       "OrderedStatistic(items_base=frozenset({'pao', 'cafe'}), items_add=frozenset({'manteiga'}), confidence=1.0, lift=2.0)"
      ]
     },
     "execution_count": 26,
     "metadata": {},
     "output_type": "execute_result"
    }
   ],
   "source": [
    "# visualização da regra n3\n",
    "\n",
    "r[2]"
   ]
  },
  {
   "cell_type": "code",
   "execution_count": 27,
   "metadata": {},
   "outputs": [
    {
     "data": {
      "text/plain": [
       "frozenset({'cafe', 'pao'})"
      ]
     },
     "execution_count": 27,
     "metadata": {},
     "output_type": "execute_result"
    }
   ],
   "source": [
    "# parte SE de n3\n",
    "\n",
    "r[2][0]"
   ]
  },
  {
   "cell_type": "code",
   "execution_count": 28,
   "metadata": {},
   "outputs": [
    {
     "data": {
      "text/plain": [
       "frozenset({'manteiga'})"
      ]
     },
     "execution_count": 28,
     "metadata": {},
     "output_type": "execute_result"
    }
   ],
   "source": [
    "# parte ENTÃO de n3\n",
    "\n",
    "r[2][1]"
   ]
  },
  {
   "cell_type": "code",
   "execution_count": 29,
   "metadata": {},
   "outputs": [
    {
     "data": {
      "text/plain": [
       "1.0"
      ]
     },
     "execution_count": 29,
     "metadata": {},
     "output_type": "execute_result"
    }
   ],
   "source": [
    "# confiancia de n3\n",
    "\n",
    "r[2][2]"
   ]
  },
  {
   "cell_type": "code",
   "execution_count": 30,
   "metadata": {},
   "outputs": [
    {
     "data": {
      "text/plain": [
       "2.0"
      ]
     },
     "execution_count": 30,
     "metadata": {},
     "output_type": "execute_result"
    }
   ],
   "source": [
    "# lift de n3\n",
    "\n",
    "r[2][3]"
   ]
  },
  {
   "cell_type": "code",
   "execution_count": 36,
   "metadata": {},
   "outputs": [
    {
     "name": "stdout",
     "output_type": "stream",
     "text": [
      "['cafe']  ->  ['manteiga'] confiancia:  1.0 lift:  2.0\n",
      "['cafe']  ->  ['pao'] confiancia:  1.0 lift:  2.0\n",
      "['cafe']  ->  ['pao', 'manteiga'] confiancia:  1.0 lift:  2.5\n",
      "['manteiga', 'cafe']  ->  ['pao'] confiancia:  1.0 lift:  2.0\n",
      "['pao', 'cafe']  ->  ['manteiga'] confiancia:  1.0 lift:  2.0\n"
     ]
    }
   ],
   "source": [
    "# visão dos parametros em listas\n",
    "\n",
    "A = []\n",
    "B = []\n",
    "suporte = []\n",
    "confiancia = []\n",
    "lift = []\n",
    "\n",
    "for resultado in resultados:\n",
    "    # print(resultado)\n",
    "    s = resultado[1]                       # suporte\n",
    "    # print(s)\n",
    "    result_rules = resultado[2]\n",
    "    # print(result_rule)\n",
    "    for result_rule in result_rules:\n",
    "        # print(result_rule)\n",
    "        a = list(result_rule[0])           # parte SE da regra\n",
    "        b = list(result_rule[1])           # parte ENTÃO da regra\n",
    "        c = result_rule[2]                 # confiancia\n",
    "        l = result_rule[3]                 # lift\n",
    "        print(a,' -> ', b, 'confiancia: ', c, 'lift: ', l)\n",
    "        A.append(a)                        # adicionando a a lista A   \n",
    "        B.append(b)                        # adicionando a b lista B\n",
    "        suporte.append(s)                  # adicionando s a lista suporte\n",
    "        confiancia.append(c)               # adicionando c a lista confiancia\n",
    "        lift.append(l)                     # adicionando l a lista lift"
   ]
  },
  {
   "cell_type": "code",
   "execution_count": 40,
   "metadata": {},
   "outputs": [
    {
     "name": "stdout",
     "output_type": "stream",
     "text": [
      "Valores de A =>  [['cafe'], ['cafe'], ['cafe'], ['manteiga', 'cafe'], ['pao', 'cafe']]\n",
      "Valores de B =>  [['manteiga'], ['pao'], ['pao', 'manteiga'], ['pao'], ['manteiga']]\n",
      "Valores de Suporte =>  [0.3, 0.3, 0.3, 0.3, 0.3]\n",
      "Valores de confiança =>  [1.0, 1.0, 1.0, 1.0, 1.0]\n",
      "Valores de lift =>  [2.0, 2.0, 2.5, 2.0, 2.0]\n"
     ]
    }
   ],
   "source": [
    "# visualização dos parametros das listas geradas\n",
    "\n",
    "print('Valores de A => ', A),\n",
    "print('Valores de B => ', B),\n",
    "print('Valores de Suporte => ', suporte),\n",
    "print('Valores de confiança => ', confiancia),\n",
    "print('Valores de lift => ', lift)"
   ]
  },
  {
   "cell_type": "code",
   "execution_count": 43,
   "metadata": {},
   "outputs": [
    {
     "data": {
      "text/html": [
       "<div>\n",
       "<style scoped>\n",
       "    .dataframe tbody tr th:only-of-type {\n",
       "        vertical-align: middle;\n",
       "    }\n",
       "\n",
       "    .dataframe tbody tr th {\n",
       "        vertical-align: top;\n",
       "    }\n",
       "\n",
       "    .dataframe thead th {\n",
       "        text-align: right;\n",
       "    }\n",
       "</style>\n",
       "<table border=\"1\" class=\"dataframe\">\n",
       "  <thead>\n",
       "    <tr style=\"text-align: right;\">\n",
       "      <th></th>\n",
       "      <th>A</th>\n",
       "      <th>B</th>\n",
       "      <th>Suporte</th>\n",
       "      <th>Confiança</th>\n",
       "      <th>Lift</th>\n",
       "    </tr>\n",
       "  </thead>\n",
       "  <tbody>\n",
       "    <tr>\n",
       "      <th>2</th>\n",
       "      <td>[cafe]</td>\n",
       "      <td>[pao, manteiga]</td>\n",
       "      <td>0.3</td>\n",
       "      <td>1.0</td>\n",
       "      <td>2.5</td>\n",
       "    </tr>\n",
       "    <tr>\n",
       "      <th>0</th>\n",
       "      <td>[cafe]</td>\n",
       "      <td>[manteiga]</td>\n",
       "      <td>0.3</td>\n",
       "      <td>1.0</td>\n",
       "      <td>2.0</td>\n",
       "    </tr>\n",
       "    <tr>\n",
       "      <th>1</th>\n",
       "      <td>[cafe]</td>\n",
       "      <td>[pao]</td>\n",
       "      <td>0.3</td>\n",
       "      <td>1.0</td>\n",
       "      <td>2.0</td>\n",
       "    </tr>\n",
       "    <tr>\n",
       "      <th>3</th>\n",
       "      <td>[manteiga, cafe]</td>\n",
       "      <td>[pao]</td>\n",
       "      <td>0.3</td>\n",
       "      <td>1.0</td>\n",
       "      <td>2.0</td>\n",
       "    </tr>\n",
       "    <tr>\n",
       "      <th>4</th>\n",
       "      <td>[pao, cafe]</td>\n",
       "      <td>[manteiga]</td>\n",
       "      <td>0.3</td>\n",
       "      <td>1.0</td>\n",
       "      <td>2.0</td>\n",
       "    </tr>\n",
       "  </tbody>\n",
       "</table>\n",
       "</div>"
      ],
      "text/plain": [
       "                  A                B  Suporte  Confiança  Lift\n",
       "2            [cafe]  [pao, manteiga]      0.3        1.0   2.5\n",
       "0            [cafe]       [manteiga]      0.3        1.0   2.0\n",
       "1            [cafe]            [pao]      0.3        1.0   2.0\n",
       "3  [manteiga, cafe]            [pao]      0.3        1.0   2.0\n",
       "4       [pao, cafe]       [manteiga]      0.3        1.0   2.0"
      ]
     },
     "execution_count": 43,
     "metadata": {},
     "output_type": "execute_result"
    }
   ],
   "source": [
    "# criando um dataframe com as regras em ordem decrescente de lift(freqüência)\n",
    "\n",
    "rules_df = pd.DataFrame({'A': A, 'B': B, 'Suporte': suporte, 'Confiança': confiancia, 'Lift': lift})\n",
    "rules_df.sort_values(by='Lift', ascending=False)"
   ]
  },
  {
   "cell_type": "code",
   "execution_count": null,
   "metadata": {},
   "outputs": [],
   "source": []
  }
 ],
 "metadata": {
  "interpreter": {
   "hash": "ad2bdc8ecc057115af97d19610ffacc2b4e99fae6737bb82f5d7fb13d2f2c186"
  },
  "kernelspec": {
   "display_name": "Python 3.8.8 ('base')",
   "language": "python",
   "name": "python3"
  },
  "language_info": {
   "codemirror_mode": {
    "name": "ipython",
    "version": 3
   },
   "file_extension": ".py",
   "mimetype": "text/x-python",
   "name": "python",
   "nbconvert_exporter": "python",
   "pygments_lexer": "ipython3",
   "version": "3.8.8"
  },
  "orig_nbformat": 4
 },
 "nbformat": 4,
 "nbformat_minor": 2
}
