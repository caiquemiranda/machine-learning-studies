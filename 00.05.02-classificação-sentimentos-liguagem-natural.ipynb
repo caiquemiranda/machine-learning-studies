{
 "cells": [
  {
   "cell_type": "code",
   "execution_count": 71,
   "metadata": {},
   "outputs": [],
   "source": [
    "# importação das bibliotecas necessarias\n",
    "\n",
    "from sklearn.metrics import accuracy_score        # acuracia do modelo (avaliação)\n",
    "from sklearn.metrics import confusion_matrix      # matriz confusão (avaliação)\n",
    "from spacy.lang.pt import STOP_WORDS              # stop_word\n",
    "import matplotlib.pyplot as plt                   # visualização   \n",
    "import pandas as pd                               # manipulação dados\n",
    "import numpy as np                                # calculos numericos\n",
    "import seaborn as sns                             # visualização\n",
    "import string                                     # manipulação strings\n",
    "import spacy                                      # liguagem natural\n",
    "import random                                     # valores aleatórios\n",
    "\n",
    "# ignorar os warnings de depreciação de metodos\n",
    "import warnings\n",
    "warnings.simplefilter(\"ignore\")"
   ]
  },
  {
   "cell_type": "code",
   "execution_count": 77,
   "metadata": {},
   "outputs": [],
   "source": [
    "# carregamento da base de dados\n",
    "\n",
    "treino = pd.read_csv('./data/base_treinamento.txt')\n",
    "bd_teste = pd.read_csv('./data/base_teste.txt')"
   ]
  },
  {
   "cell_type": "code",
   "execution_count": 3,
   "metadata": {},
   "outputs": [
    {
     "data": {
      "text/html": [
       "<div>\n",
       "<style scoped>\n",
       "    .dataframe tbody tr th:only-of-type {\n",
       "        vertical-align: middle;\n",
       "    }\n",
       "\n",
       "    .dataframe tbody tr th {\n",
       "        vertical-align: top;\n",
       "    }\n",
       "\n",
       "    .dataframe thead th {\n",
       "        text-align: right;\n",
       "    }\n",
       "</style>\n",
       "<table border=\"1\" class=\"dataframe\">\n",
       "  <thead>\n",
       "    <tr style=\"text-align: right;\">\n",
       "      <th></th>\n",
       "      <th>texto</th>\n",
       "      <th>emocao</th>\n",
       "    </tr>\n",
       "  </thead>\n",
       "  <tbody>\n",
       "    <tr>\n",
       "      <th>0</th>\n",
       "      <td>este trabalho é agradável</td>\n",
       "      <td>alegria</td>\n",
       "    </tr>\n",
       "    <tr>\n",
       "      <th>1</th>\n",
       "      <td>gosto de ficar no seu aconchego</td>\n",
       "      <td>alegria</td>\n",
       "    </tr>\n",
       "    <tr>\n",
       "      <th>2</th>\n",
       "      <td>fiz a adesão ao curso hoje</td>\n",
       "      <td>alegria</td>\n",
       "    </tr>\n",
       "    <tr>\n",
       "      <th>3</th>\n",
       "      <td>eu sou admirada por muitos</td>\n",
       "      <td>alegria</td>\n",
       "    </tr>\n",
       "    <tr>\n",
       "      <th>4</th>\n",
       "      <td>adoro como você</td>\n",
       "      <td>alegria</td>\n",
       "    </tr>\n",
       "  </tbody>\n",
       "</table>\n",
       "</div>"
      ],
      "text/plain": [
       "                             texto   emocao\n",
       "0        este trabalho é agradável  alegria\n",
       "1  gosto de ficar no seu aconchego  alegria\n",
       "2       fiz a adesão ao curso hoje  alegria\n",
       "3       eu sou admirada por muitos  alegria\n",
       "4                  adoro como você  alegria"
      ]
     },
     "execution_count": 3,
     "metadata": {},
     "output_type": "execute_result"
    }
   ],
   "source": [
    "# primeiros registros\n",
    "\n",
    "treino.head()"
   ]
  },
  {
   "cell_type": "code",
   "execution_count": 4,
   "metadata": {},
   "outputs": [
    {
     "data": {
      "text/html": [
       "<div>\n",
       "<style scoped>\n",
       "    .dataframe tbody tr th:only-of-type {\n",
       "        vertical-align: middle;\n",
       "    }\n",
       "\n",
       "    .dataframe tbody tr th {\n",
       "        vertical-align: top;\n",
       "    }\n",
       "\n",
       "    .dataframe thead th {\n",
       "        text-align: right;\n",
       "    }\n",
       "</style>\n",
       "<table border=\"1\" class=\"dataframe\">\n",
       "  <thead>\n",
       "    <tr style=\"text-align: right;\">\n",
       "      <th></th>\n",
       "      <th>texto</th>\n",
       "      <th>emocao</th>\n",
       "    </tr>\n",
       "  </thead>\n",
       "  <tbody>\n",
       "    <tr>\n",
       "      <th>0</th>\n",
       "      <td>não precisei pagar o ingresso</td>\n",
       "      <td>alegria</td>\n",
       "    </tr>\n",
       "    <tr>\n",
       "      <th>1</th>\n",
       "      <td>se eu ajeitar tudo fica bem</td>\n",
       "      <td>alegria</td>\n",
       "    </tr>\n",
       "    <tr>\n",
       "      <th>2</th>\n",
       "      <td>minha fortuna ultrapassará a sua</td>\n",
       "      <td>alegria</td>\n",
       "    </tr>\n",
       "    <tr>\n",
       "      <th>3</th>\n",
       "      <td>sou muito afortunado</td>\n",
       "      <td>alegria</td>\n",
       "    </tr>\n",
       "    <tr>\n",
       "      <th>4</th>\n",
       "      <td>é benéfico para todos esta nova medida</td>\n",
       "      <td>alegria</td>\n",
       "    </tr>\n",
       "  </tbody>\n",
       "</table>\n",
       "</div>"
      ],
      "text/plain": [
       "                                    texto   emocao\n",
       "0           não precisei pagar o ingresso  alegria\n",
       "1             se eu ajeitar tudo fica bem  alegria\n",
       "2        minha fortuna ultrapassará a sua  alegria\n",
       "3                    sou muito afortunado  alegria\n",
       "4  é benéfico para todos esta nova medida  alegria"
      ]
     },
     "execution_count": 4,
     "metadata": {},
     "output_type": "execute_result"
    }
   ],
   "source": [
    "# primeiros registros teste\n",
    "\n",
    "bd_teste.head()"
   ]
  },
  {
   "cell_type": "code",
   "execution_count": 5,
   "metadata": {},
   "outputs": [
    {
     "data": {
      "image/png": "[encoded data removed]",
      "text/plain": [
       "<Figure size 432x288 with 1 Axes>"
      ]
     },
     "metadata": {
      "needs_background": "light"
     },
     "output_type": "display_data"
    }
   ],
   "source": [
    "# visualização dos grupos ['emocao']\n",
    "\n",
    "sns.countplot(treino['emocao'], label='Contagem');"
   ]
  },
  {
   "cell_type": "code",
   "execution_count": 6,
   "metadata": {},
   "outputs": [],
   "source": [
    "# pre processamento de texto"
   ]
  },
  {
   "cell_type": "code",
   "execution_count": 7,
   "metadata": {},
   "outputs": [
    {
     "data": {
      "text/plain": [
       "'!\"#$%&\\'()*+,-./:;<=>?@[\\\\]^_`{|}~'"
      ]
     },
     "execution_count": 7,
     "metadata": {},
     "output_type": "execute_result"
    }
   ],
   "source": [
    "# pontuações \n",
    "\n",
    "pontuacoes = string.punctuation\n",
    "pontuacoes"
   ]
  },
  {
   "cell_type": "code",
   "execution_count": 8,
   "metadata": {},
   "outputs": [],
   "source": [
    "# stop_words\n",
    "\n",
    "stop_words = STOP_WORDS"
   ]
  },
  {
   "cell_type": "code",
   "execution_count": 9,
   "metadata": {},
   "outputs": [
    {
     "data": {
      "text/plain": [
       "<spacy.lang.pt.Portuguese at 0x224f3305ac0>"
      ]
     },
     "execution_count": 9,
     "metadata": {},
     "output_type": "execute_result"
    }
   ],
   "source": [
    "# modelo em portugues\n",
    "\n",
    "pln = spacy.load('pt')\n",
    "pln"
   ]
  },
  {
   "cell_type": "code",
   "execution_count": 10,
   "metadata": {},
   "outputs": [],
   "source": [
    "def processamento(text):\n",
    "    \n",
    "    text = text.lower()                  # todos em minuscula para evitar problemas com a lematização\n",
    "    documento = pln(text)\n",
    "    lista = []\n",
    "\n",
    "    # lematização\n",
    "    for token in documento:\n",
    "        #lista.append(token.text)\n",
    "        lista.append(token.lemma_)\n",
    "\n",
    "    #remoção de stop_words\n",
    "    lista = [palavra for palavra in lista if palavra not in stop_words and palavra not in pontuacoes]\n",
    "    lista = ' '.join([str(elemento) for elemento in lista if not elemento.isdigit()])\n",
    "\n",
    "    return lista\n"
   ]
  },
  {
   "cell_type": "code",
   "execution_count": 11,
   "metadata": {},
   "outputs": [
    {
     "data": {
      "text/plain": [
       "'aprender liguagem natural python brasilia'"
      ]
     },
     "execution_count": 11,
     "metadata": {},
     "output_type": "execute_result"
    }
   ],
   "source": [
    "teste = processamento('Estou aprendendo liguagem natural com python, em brasilia')\n",
    "teste"
   ]
  },
  {
   "cell_type": "code",
   "execution_count": 12,
   "metadata": {},
   "outputs": [],
   "source": [
    "# pre processamento da base dados"
   ]
  },
  {
   "cell_type": "code",
   "execution_count": 13,
   "metadata": {},
   "outputs": [
    {
     "data": {
      "text/html": [
       "<div>\n",
       "<style scoped>\n",
       "    .dataframe tbody tr th:only-of-type {\n",
       "        vertical-align: middle;\n",
       "    }\n",
       "\n",
       "    .dataframe tbody tr th {\n",
       "        vertical-align: top;\n",
       "    }\n",
       "\n",
       "    .dataframe thead th {\n",
       "        text-align: right;\n",
       "    }\n",
       "</style>\n",
       "<table border=\"1\" class=\"dataframe\">\n",
       "  <thead>\n",
       "    <tr style=\"text-align: right;\">\n",
       "      <th></th>\n",
       "      <th>texto</th>\n",
       "      <th>emocao</th>\n",
       "    </tr>\n",
       "  </thead>\n",
       "  <tbody>\n",
       "    <tr>\n",
       "      <th>0</th>\n",
       "      <td>este trabalho é agradável</td>\n",
       "      <td>alegria</td>\n",
       "    </tr>\n",
       "    <tr>\n",
       "      <th>1</th>\n",
       "      <td>gosto de ficar no seu aconchego</td>\n",
       "      <td>alegria</td>\n",
       "    </tr>\n",
       "    <tr>\n",
       "      <th>2</th>\n",
       "      <td>fiz a adesão ao curso hoje</td>\n",
       "      <td>alegria</td>\n",
       "    </tr>\n",
       "    <tr>\n",
       "      <th>3</th>\n",
       "      <td>eu sou admirada por muitos</td>\n",
       "      <td>alegria</td>\n",
       "    </tr>\n",
       "    <tr>\n",
       "      <th>4</th>\n",
       "      <td>adoro como você</td>\n",
       "      <td>alegria</td>\n",
       "    </tr>\n",
       "  </tbody>\n",
       "</table>\n",
       "</div>"
      ],
      "text/plain": [
       "                             texto   emocao\n",
       "0        este trabalho é agradável  alegria\n",
       "1  gosto de ficar no seu aconchego  alegria\n",
       "2       fiz a adesão ao curso hoje  alegria\n",
       "3       eu sou admirada por muitos  alegria\n",
       "4                  adoro como você  alegria"
      ]
     },
     "execution_count": 13,
     "metadata": {},
     "output_type": "execute_result"
    }
   ],
   "source": [
    "# visualização da base de dados\n",
    "\n",
    "treino.head()"
   ]
  },
  {
   "cell_type": "code",
   "execution_count": 14,
   "metadata": {},
   "outputs": [],
   "source": [
    "# provessamento na base de dados\n",
    "\n",
    "treino['texto'] = treino['texto'].apply(processamento)"
   ]
  },
  {
   "cell_type": "code",
   "execution_count": 15,
   "metadata": {},
   "outputs": [
    {
     "data": {
      "text/html": [
       "<div>\n",
       "<style scoped>\n",
       "    .dataframe tbody tr th:only-of-type {\n",
       "        vertical-align: middle;\n",
       "    }\n",
       "\n",
       "    .dataframe tbody tr th {\n",
       "        vertical-align: top;\n",
       "    }\n",
       "\n",
       "    .dataframe thead th {\n",
       "        text-align: right;\n",
       "    }\n",
       "</style>\n",
       "<table border=\"1\" class=\"dataframe\">\n",
       "  <thead>\n",
       "    <tr style=\"text-align: right;\">\n",
       "      <th></th>\n",
       "      <th>texto</th>\n",
       "      <th>emocao</th>\n",
       "    </tr>\n",
       "  </thead>\n",
       "  <tbody>\n",
       "    <tr>\n",
       "      <th>0</th>\n",
       "      <td>trabalhar agradável</td>\n",
       "      <td>alegria</td>\n",
       "    </tr>\n",
       "    <tr>\n",
       "      <th>1</th>\n",
       "      <td>gostar ficar o aconchegar</td>\n",
       "      <td>alegria</td>\n",
       "    </tr>\n",
       "    <tr>\n",
       "      <th>2</th>\n",
       "      <td>o adesão o o cursar hoje</td>\n",
       "      <td>alegria</td>\n",
       "    </tr>\n",
       "    <tr>\n",
       "      <th>3</th>\n",
       "      <td>admirar</td>\n",
       "      <td>alegria</td>\n",
       "    </tr>\n",
       "    <tr>\n",
       "      <th>4</th>\n",
       "      <td>adorar comer</td>\n",
       "      <td>alegria</td>\n",
       "    </tr>\n",
       "  </tbody>\n",
       "</table>\n",
       "</div>"
      ],
      "text/plain": [
       "                       texto   emocao\n",
       "0        trabalhar agradável  alegria\n",
       "1  gostar ficar o aconchegar  alegria\n",
       "2   o adesão o o cursar hoje  alegria\n",
       "3                    admirar  alegria\n",
       "4               adorar comer  alegria"
      ]
     },
     "execution_count": 15,
     "metadata": {},
     "output_type": "execute_result"
    }
   ],
   "source": [
    "# visualização após o tratamento\n",
    "\n",
    "treino.head()"
   ]
  },
  {
   "cell_type": "code",
   "execution_count": 16,
   "metadata": {},
   "outputs": [],
   "source": [
    "# tratamento das classes"
   ]
  },
  {
   "cell_type": "code",
   "execution_count": 17,
   "metadata": {},
   "outputs": [],
   "source": [
    "exemplo_base_dados =[['este trabalho é agradavel', {'ALEGRIA':True, 'MEDO':False}],\n",
    "                     'este lugar continua assustador', {'ALEGRIA':False, 'MEDO':True}]            "
   ]
  },
  {
   "cell_type": "code",
   "execution_count": 18,
   "metadata": {},
   "outputs": [
    {
     "data": {
      "text/plain": [
       "['este trabalho é agradavel', {'ALEGRIA': True, 'MEDO': False}]"
      ]
     },
     "execution_count": 18,
     "metadata": {},
     "output_type": "execute_result"
    }
   ],
   "source": [
    "exemplo_base_dados[0]"
   ]
  },
  {
   "cell_type": "code",
   "execution_count": 19,
   "metadata": {},
   "outputs": [
    {
     "data": {
      "text/plain": [
       "'este trabalho é agradavel'"
      ]
     },
     "execution_count": 19,
     "metadata": {},
     "output_type": "execute_result"
    }
   ],
   "source": [
    "exemplo_base_dados[0][0]"
   ]
  },
  {
   "cell_type": "code",
   "execution_count": 20,
   "metadata": {},
   "outputs": [
    {
     "data": {
      "text/plain": [
       "{'ALEGRIA': True, 'MEDO': False}"
      ]
     },
     "execution_count": 20,
     "metadata": {},
     "output_type": "execute_result"
    }
   ],
   "source": [
    "exemplo_base_dados[0][1]"
   ]
  },
  {
   "cell_type": "code",
   "execution_count": 21,
   "metadata": {},
   "outputs": [
    {
     "data": {
      "text/plain": [
       "dict"
      ]
     },
     "execution_count": 21,
     "metadata": {},
     "output_type": "execute_result"
    }
   ],
   "source": [
    "type(exemplo_base_dados[0][1])"
   ]
  },
  {
   "cell_type": "code",
   "execution_count": 22,
   "metadata": {},
   "outputs": [],
   "source": [
    "# deixar a base de dados como no exemplo"
   ]
  },
  {
   "cell_type": "code",
   "execution_count": 23,
   "metadata": {},
   "outputs": [
    {
     "data": {
      "text/plain": [
       "0      alegria\n",
       "1      alegria\n",
       "2      alegria\n",
       "3      alegria\n",
       "4      alegria\n",
       "        ...   \n",
       "191       medo\n",
       "192       medo\n",
       "193       medo\n",
       "194       medo\n",
       "195       medo\n",
       "Name: emocao, Length: 196, dtype: object"
      ]
     },
     "execution_count": 23,
     "metadata": {},
     "output_type": "execute_result"
    }
   ],
   "source": [
    "treino['emocao']"
   ]
  },
  {
   "cell_type": "code",
   "execution_count": 24,
   "metadata": {},
   "outputs": [],
   "source": [
    "# processamento da base de dados\n",
    "\n",
    "base_dados_final = []\n",
    "\n",
    "for texto, emocao in zip(treino['texto'], treino['emocao']):\n",
    "    #print(texto, emocao)\n",
    "    if emocao == 'alegria':\n",
    "        dic = ({'ALEGRIA':True, 'MEDO':False})\n",
    "    elif emocao == 'medo':\n",
    "        dic = ({'ALEGRIA':False, 'MEDO':True})\n",
    "    \n",
    "    base_dados_final.append([texto, dic.copy()])"
   ]
  },
  {
   "cell_type": "code",
   "execution_count": 25,
   "metadata": {},
   "outputs": [
    {
     "data": {
      "text/plain": [
       "['trabalhar agradável', {'ALEGRIA': True, 'MEDO': False}]"
      ]
     },
     "execution_count": 25,
     "metadata": {},
     "output_type": "execute_result"
    }
   ],
   "source": [
    "# verificação após tratamento\n",
    "\n",
    "base_dados_final[0]"
   ]
  },
  {
   "cell_type": "code",
   "execution_count": 26,
   "metadata": {},
   "outputs": [
    {
     "data": {
      "text/plain": [
       "{'ALEGRIA': True, 'MEDO': False}"
      ]
     },
     "execution_count": 26,
     "metadata": {},
     "output_type": "execute_result"
    }
   ],
   "source": [
    "base_dados_final[0][1]"
   ]
  },
  {
   "cell_type": "code",
   "execution_count": 27,
   "metadata": {},
   "outputs": [
    {
     "data": {
      "text/plain": [
       "dict"
      ]
     },
     "execution_count": 27,
     "metadata": {},
     "output_type": "execute_result"
    }
   ],
   "source": [
    "type(base_dados_final[0][1])"
   ]
  },
  {
   "cell_type": "code",
   "execution_count": 28,
   "metadata": {},
   "outputs": [],
   "source": [
    "# criação do classificador"
   ]
  },
  {
   "cell_type": "code",
   "execution_count": 29,
   "metadata": {},
   "outputs": [],
   "source": [
    "# configurações do modelo\n",
    "\n",
    "model = spacy.blank('pt')\n",
    "\n",
    "categorias = model.create_pipe('textcat')\n",
    "categorias.add_label('ALEGRIA')\n",
    "categorias.add_label('MEDO')\n",
    "\n",
    "model.add_pipe(categorias)\n",
    "\n",
    "historico = []"
   ]
  },
  {
   "cell_type": "code",
   "execution_count": 30,
   "metadata": {},
   "outputs": [
    {
     "name": "stdout",
     "output_type": "stream",
     "text": [
      "{'textcat': 0.006111857364885509}\n",
      "{'textcat': 1.1213549733213313e-07}\n",
      "{'textcat': 3.419905469925766e-08}\n"
     ]
    }
   ],
   "source": [
    "model.begin_training()\n",
    "\n",
    "for epoch in range(300):  # teste com 1_000 mostrou que significancia até 300\n",
    "    random.shuffle(base_dados_final)\n",
    "    losses = {}\n",
    "    \n",
    "    for batch in spacy.util.minibatch(base_dados_final, 30):  # quantos registros a atualização dos pesos\n",
    "        \n",
    "        textos = [model(texto) for texto, entities in batch]\n",
    "        \n",
    "        annotations = [{'cats': entities} for texto, entities in batch]\n",
    "        \n",
    "        # atualização dos pesos\n",
    "        model.update(textos, annotations, losses=losses)\n",
    "    \n",
    "    if epoch % 100 == 0:\n",
    "        print(losses)\n",
    "        historico.append(losses)\n"
   ]
  },
  {
   "cell_type": "code",
   "execution_count": 31,
   "metadata": {},
   "outputs": [],
   "source": [
    "# criação de lista com erros para visualização\n",
    "\n",
    "historico_loss = []\n",
    "for i in historico:\n",
    "    historico_loss.append(i.get('textcat'))"
   ]
  },
  {
   "cell_type": "code",
   "execution_count": 32,
   "metadata": {},
   "outputs": [
    {
     "data": {
      "text/plain": [
       "array([6.11185736e-03, 1.12135497e-07, 3.41990547e-08])"
      ]
     },
     "execution_count": 32,
     "metadata": {},
     "output_type": "execute_result"
    }
   ],
   "source": [
    "# transformação em array\n",
    "\n",
    "historico_loss = np.array(historico_loss)\n",
    "historico_loss"
   ]
  },
  {
   "cell_type": "code",
   "execution_count": 33,
   "metadata": {},
   "outputs": [
    {
     "data": {
      "text/plain": [
       "Text(0, 0.5, 'Erro')"
      ]
     },
     "execution_count": 33,
     "metadata": {},
     "output_type": "execute_result"
    },
    {
     "data": {
      "image/png": "[encoded data removed]",
      "text/plain": [
       "<Figure size 432x288 with 1 Axes>"
      ]
     },
     "metadata": {
      "needs_background": "light"
     },
     "output_type": "display_data"
    }
   ],
   "source": [
    "# visualização do erro\n",
    "\n",
    "plt.plot(historico_loss)\n",
    "plt.title('Progressão erro')\n",
    "plt.xlabel('Epochs')\n",
    "plt.ylabel('Erro')"
   ]
  },
  {
   "cell_type": "code",
   "execution_count": 36,
   "metadata": {},
   "outputs": [],
   "source": [
    "# salvando modelo\n",
    "\n",
    "model.to_disk('./data/modelo_spacy_LN')"
   ]
  },
  {
   "cell_type": "code",
   "execution_count": 37,
   "metadata": {},
   "outputs": [],
   "source": [
    "# carregando modelo\n",
    "\n",
    "modelo_treinado = spacy.load('./data/modelo_spacy_LN')"
   ]
  },
  {
   "cell_type": "code",
   "execution_count": 38,
   "metadata": {},
   "outputs": [
    {
     "data": {
      "text/plain": [
       "<spacy.lang.pt.Portuguese at 0x224806582e0>"
      ]
     },
     "execution_count": 38,
     "metadata": {},
     "output_type": "execute_result"
    }
   ],
   "source": [
    "# verificação \n",
    "\n",
    "modelo_treinado"
   ]
  },
  {
   "cell_type": "code",
   "execution_count": 46,
   "metadata": {},
   "outputs": [],
   "source": [
    "# teste modelo\n",
    "\n",
    "texto_positivo = 'eu adoro a cor dos seus olhos'\n",
    "texto_negativo = 'estou com medo dele'"
   ]
  },
  {
   "cell_type": "code",
   "execution_count": 47,
   "metadata": {},
   "outputs": [],
   "source": [
    "# preprocessing\n",
    "\n",
    "texto_positivo = processamento(texto_positivo)\n",
    "texto_negativo = processamento(texto_negativo)"
   ]
  },
  {
   "cell_type": "code",
   "execution_count": 49,
   "metadata": {},
   "outputs": [
    {
     "name": "stdout",
     "output_type": "stream",
     "text": [
      "adorar o cor olho\n",
      "medo d\n"
     ]
    }
   ],
   "source": [
    "print(texto_positivo)\n",
    "print(texto_negativo)"
   ]
  },
  {
   "cell_type": "code",
   "execution_count": 50,
   "metadata": {},
   "outputs": [
    {
     "data": {
      "text/plain": [
       "adorar o cor olho"
      ]
     },
     "execution_count": 50,
     "metadata": {},
     "output_type": "execute_result"
    }
   ],
   "source": [
    "# previsão positivo\n",
    "\n",
    "prev = modelo_treinado(texto_positivo)\n",
    "prev"
   ]
  },
  {
   "cell_type": "code",
   "execution_count": 51,
   "metadata": {},
   "outputs": [
    {
     "data": {
      "text/plain": [
       "{'ALEGRIA': 0.9976531863212585, 'MEDO': 0.000844139838591218}"
      ]
     },
     "execution_count": 51,
     "metadata": {},
     "output_type": "execute_result"
    }
   ],
   "source": [
    "# visualização positivo\n",
    "\n",
    "prev.cats"
   ]
  },
  {
   "cell_type": "code",
   "execution_count": 52,
   "metadata": {},
   "outputs": [
    {
     "data": {
      "text/plain": [
       "medo d"
      ]
     },
     "execution_count": 52,
     "metadata": {},
     "output_type": "execute_result"
    }
   ],
   "source": [
    "# previsão negativo\n",
    "\n",
    "prev = modelo_treinado(texto_negativo)\n",
    "prev"
   ]
  },
  {
   "cell_type": "code",
   "execution_count": 53,
   "metadata": {},
   "outputs": [
    {
     "data": {
      "text/plain": [
       "{'ALEGRIA': 0.0006764791905879974, 'MEDO': 0.9998795986175537}"
      ]
     },
     "execution_count": 53,
     "metadata": {},
     "output_type": "execute_result"
    }
   ],
   "source": [
    "# visualizção negativo\n",
    "\n",
    "prev.cats"
   ]
  },
  {
   "cell_type": "code",
   "execution_count": 54,
   "metadata": {},
   "outputs": [],
   "source": [
    "# avaliação do modelo"
   ]
  },
  {
   "cell_type": "code",
   "execution_count": 59,
   "metadata": {},
   "outputs": [],
   "source": [
    "# lista com previsões na base de treino\n",
    "\n",
    "previsoes = []\n",
    "\n",
    "for texto in treino['texto']:\n",
    "    #print(texto)\n",
    "    prev_ = modelo_treinado(texto)\n",
    "    previsoes.append(prev_.cats)"
   ]
  },
  {
   "cell_type": "code",
   "execution_count": 60,
   "metadata": {},
   "outputs": [
    {
     "data": {
      "text/plain": [
       "[{'ALEGRIA': 0.9994485974311829, 'MEDO': 0.00011876882490469143},\n",
       " {'ALEGRIA': 0.9970086216926575, 'MEDO': 0.0018794306088238955},\n",
       " {'ALEGRIA': 0.999771773815155, 'MEDO': 0.0003599323390517384},\n",
       " {'ALEGRIA': 0.9994340538978577, 'MEDO': 0.00028366746846586466},\n",
       " {'ALEGRIA': 0.9999088048934937, 'MEDO': 4.539787187241018e-05},\n",
       " {'ALEGRIA': 0.9992040991783142, 'MEDO': 5.979924389976077e-05},\n",
       " {'ALEGRIA': 0.9976531863212585, 'MEDO': 0.000844139838591218},\n",
       " {'ALEGRIA': 0.9992800354957581, 'MEDO': 0.0006117734010331333},\n",
       " {'ALEGRIA': 0.9991470575332642, 'MEDO': 0.0006060979794710875},\n",
       " {'ALEGRIA': 0.9991080164909363, 'MEDO': 0.00017572428623680025},\n",
       " {'ALEGRIA': 0.9993316531181335, 'MEDO': 0.00046976981684565544},\n",
       " {'ALEGRIA': 0.9995914101600647, 'MEDO': 0.00010104260582011193},\n",
       " {'ALEGRIA': 0.9997665286064148, 'MEDO': 0.00013284303713589907},\n",
       " {'ALEGRIA': 0.99964439868927, 'MEDO': 0.00019938245532102883},\n",
       " {'ALEGRIA': 0.9993776679039001, 'MEDO': 0.0001642816059757024},\n",
       " {'ALEGRIA': 0.9992395639419556, 'MEDO': 0.0001757174322847277},\n",
       " {'ALEGRIA': 0.9986667633056641, 'MEDO': 0.0010213104542344809},\n",
       " {'ALEGRIA': 0.9999545812606812, 'MEDO': 4.539787187241018e-05},\n",
       " {'ALEGRIA': 0.9993002414703369, 'MEDO': 0.0004219029506202787},\n",
       " {'ALEGRIA': 0.9988573789596558, 'MEDO': 0.00035863008815795183},\n",
       " {'ALEGRIA': 0.9996234178543091, 'MEDO': 0.0002086824388243258},\n",
       " {'ALEGRIA': 0.9989025592803955, 'MEDO': 0.0004428619868122041},\n",
       " {'ALEGRIA': 0.9992660880088806, 'MEDO': 0.0006729028536938131},\n",
       " {'ALEGRIA': 0.9999374151229858, 'MEDO': 4.539787187241018e-05},\n",
       " {'ALEGRIA': 0.9995991587638855, 'MEDO': 6.48430795990862e-05},\n",
       " {'ALEGRIA': 0.9989801049232483, 'MEDO': 0.0004266900068614632},\n",
       " {'ALEGRIA': 0.9997050166130066, 'MEDO': 7.175179780460894e-05},\n",
       " {'ALEGRIA': 0.9991114735603333, 'MEDO': 0.00025555549655109644},\n",
       " {'ALEGRIA': 0.999548614025116, 'MEDO': 7.178725354606286e-05},\n",
       " {'ALEGRIA': 0.9996753931045532, 'MEDO': 0.0001633224601391703},\n",
       " {'ALEGRIA': 0.9972955584526062, 'MEDO': 0.0018644389929249883},\n",
       " {'ALEGRIA': 0.9994515776634216, 'MEDO': 0.0001422195928171277},\n",
       " {'ALEGRIA': 0.9987050294876099, 'MEDO': 0.0002446387952659279},\n",
       " {'ALEGRIA': 0.9987682700157166, 'MEDO': 0.0005321019561961293},\n",
       " {'ALEGRIA': 0.9994398951530457, 'MEDO': 0.00048797758063301444},\n",
       " {'ALEGRIA': 0.9991284012794495, 'MEDO': 0.0007960856310091913},\n",
       " {'ALEGRIA': 0.9984198808670044, 'MEDO': 0.0007441764464601874},\n",
       " {'ALEGRIA': 0.9988590478897095, 'MEDO': 0.0005032029584981501},\n",
       " {'ALEGRIA': 0.9996121525764465, 'MEDO': 0.00024690802092663944},\n",
       " {'ALEGRIA': 0.9992490410804749, 'MEDO': 0.0004792716645170003},\n",
       " {'ALEGRIA': 0.996753990650177, 'MEDO': 0.001952925231307745},\n",
       " {'ALEGRIA': 0.9989155530929565, 'MEDO': 0.0004100767255295068},\n",
       " {'ALEGRIA': 0.999860405921936, 'MEDO': 4.580070890369825e-05},\n",
       " {'ALEGRIA': 0.9991751313209534, 'MEDO': 0.00020167205366306007},\n",
       " {'ALEGRIA': 0.9992108345031738, 'MEDO': 0.0003113407292403281},\n",
       " {'ALEGRIA': 0.9992682337760925, 'MEDO': 0.0006105731590650976},\n",
       " {'ALEGRIA': 0.9983116388320923, 'MEDO': 0.0005198820726945996},\n",
       " {'ALEGRIA': 0.9991126656532288, 'MEDO': 0.0003958570014219731},\n",
       " {'ALEGRIA': 0.9993662238121033, 'MEDO': 0.0005364312673918903},\n",
       " {'ALEGRIA': 0.999711811542511, 'MEDO': 0.0005089255282655358},\n",
       " {'ALEGRIA': 0.9987867474555969, 'MEDO': 0.0007218241225928068},\n",
       " {'ALEGRIA': 0.9999086856842041, 'MEDO': 0.00011701269977493212},\n",
       " {'ALEGRIA': 0.9993627667427063, 'MEDO': 0.0003434466489125043},\n",
       " {'ALEGRIA': 0.9982567429542542, 'MEDO': 0.0008207857608795166},\n",
       " {'ALEGRIA': 0.9983012080192566, 'MEDO': 0.0005391971208155155},\n",
       " {'ALEGRIA': 0.9987080097198486, 'MEDO': 0.0010237181559205055},\n",
       " {'ALEGRIA': 0.9989457726478577, 'MEDO': 0.001050214166752994},\n",
       " {'ALEGRIA': 0.9993853569030762, 'MEDO': 0.0006308844313025475},\n",
       " {'ALEGRIA': 0.9988325238227844, 'MEDO': 0.0004997851210646331},\n",
       " {'ALEGRIA': 0.9993960857391357, 'MEDO': 0.0009995454456657171},\n",
       " {'ALEGRIA': 0.9990608096122742, 'MEDO': 0.00048540651914663613},\n",
       " {'ALEGRIA': 0.9990783929824829, 'MEDO': 0.0006317333900369704},\n",
       " {'ALEGRIA': 0.9999163150787354, 'MEDO': 4.539787187241018e-05},\n",
       " {'ALEGRIA': 0.999097466468811, 'MEDO': 0.0004939970676787198},\n",
       " {'ALEGRIA': 0.9978564381599426, 'MEDO': 0.001501200022175908},\n",
       " {'ALEGRIA': 0.9993128776550293, 'MEDO': 0.0008337357430718839},\n",
       " {'ALEGRIA': 0.9985525012016296, 'MEDO': 0.0004731407098006457},\n",
       " {'ALEGRIA': 0.9987030029296875, 'MEDO': 0.000503421004395932},\n",
       " {'ALEGRIA': 0.9991180300712585, 'MEDO': 0.0008954048389568925},\n",
       " {'ALEGRIA': 0.9998169541358948, 'MEDO': 0.00018151446420233697},\n",
       " {'ALEGRIA': 0.9994266033172607, 'MEDO': 0.00016600680828560144},\n",
       " {'ALEGRIA': 0.9993738532066345, 'MEDO': 0.00027844851138070226},\n",
       " {'ALEGRIA': 0.9989295601844788, 'MEDO': 0.00015951262321323156},\n",
       " {'ALEGRIA': 0.9985718727111816, 'MEDO': 0.0003607825783547014},\n",
       " {'ALEGRIA': 0.9985713958740234, 'MEDO': 0.0008206985075958073},\n",
       " {'ALEGRIA': 0.9983587861061096, 'MEDO': 0.0007189537864178419},\n",
       " {'ALEGRIA': 0.9989439845085144, 'MEDO': 0.0004521863302215934},\n",
       " {'ALEGRIA': 0.9980903267860413, 'MEDO': 0.0009024324244819582},\n",
       " {'ALEGRIA': 0.9997490048408508, 'MEDO': 6.253593892324716e-05},\n",
       " {'ALEGRIA': 0.9984022974967957, 'MEDO': 0.0009767062729224563},\n",
       " {'ALEGRIA': 0.9989511966705322, 'MEDO': 0.0007346607744693756},\n",
       " {'ALEGRIA': 0.9993773102760315, 'MEDO': 0.00017991458298638463},\n",
       " {'ALEGRIA': 0.9994267225265503, 'MEDO': 0.00041857894393615425},\n",
       " {'ALEGRIA': 0.9996436834335327, 'MEDO': 0.00038313562981784344},\n",
       " {'ALEGRIA': 0.9991542100906372, 'MEDO': 0.0008358553168363869},\n",
       " {'ALEGRIA': 0.9995699524879456, 'MEDO': 0.0006138155004009604},\n",
       " {'ALEGRIA': 0.9993422627449036, 'MEDO': 0.0001561554236104712},\n",
       " {'ALEGRIA': 0.9988096952438354, 'MEDO': 0.0006216321489773691},\n",
       " {'ALEGRIA': 0.9989653825759888, 'MEDO': 0.0002482506970409304},\n",
       " {'ALEGRIA': 0.9980587363243103, 'MEDO': 0.00027714966563507915},\n",
       " {'ALEGRIA': 0.9994650483131409, 'MEDO': 5.9335212426958606e-05},\n",
       " {'ALEGRIA': 0.9989149570465088, 'MEDO': 0.000426309066824615},\n",
       " {'ALEGRIA': 0.9998764991760254, 'MEDO': 4.539787187241018e-05},\n",
       " {'ALEGRIA': 0.9985185265541077, 'MEDO': 0.0005141426809132099},\n",
       " {'ALEGRIA': 0.9998339414596558, 'MEDO': 7.394221756840125e-05},\n",
       " {'ALEGRIA': 0.9986820816993713, 'MEDO': 0.000530171615537256},\n",
       " {'ALEGRIA': 0.9996165037155151, 'MEDO': 0.0004728409112431109},\n",
       " {'ALEGRIA': 0.9985381364822388, 'MEDO': 0.0002980573335662484},\n",
       " {'ALEGRIA': 0.9998169541358948, 'MEDO': 7.619056123076007e-05},\n",
       " {'ALEGRIA': 0.9992586970329285, 'MEDO': 0.00015183845243882388},\n",
       " {'ALEGRIA': 0.9985852241516113, 'MEDO': 0.00019729748601093888},\n",
       " {'ALEGRIA': 0.9990234375, 'MEDO': 0.0006298780790530145},\n",
       " {'ALEGRIA': 0.999298095703125, 'MEDO': 7.805332279531285e-05},\n",
       " {'ALEGRIA': 0.9988325238227844, 'MEDO': 0.0006940133753232658},\n",
       " {'ALEGRIA': 0.9990121126174927, 'MEDO': 0.0007243548170663416},\n",
       " {'ALEGRIA': 0.9977387189865112, 'MEDO': 0.0008743127691559494},\n",
       " {'ALEGRIA': 0.9997944235801697, 'MEDO': 0.00024598740856163204},\n",
       " {'ALEGRIA': 0.9991926550865173, 'MEDO': 0.0007162504480220377},\n",
       " {'ALEGRIA': 0.9992340803146362, 'MEDO': 0.0003310494066681713},\n",
       " {'ALEGRIA': 0.9995172023773193, 'MEDO': 4.539787187241018e-05},\n",
       " {'ALEGRIA': 0.9985734224319458, 'MEDO': 0.001330422586761415},\n",
       " {'ALEGRIA': 0.999680757522583, 'MEDO': 0.00037182099185884},\n",
       " {'ALEGRIA': 0.0002369007415836677, 'MEDO': 0.9999545812606812},\n",
       " {'ALEGRIA': 0.00031901043257676065, 'MEDO': 0.9993233680725098},\n",
       " {'ALEGRIA': 0.00031349179334938526, 'MEDO': 0.9998599290847778},\n",
       " {'ALEGRIA': 0.0007468370022252202, 'MEDO': 0.9993353486061096},\n",
       " {'ALEGRIA': 0.0004371047834865749, 'MEDO': 0.9997782111167908},\n",
       " {'ALEGRIA': 0.0014208785723894835, 'MEDO': 0.9992204904556274},\n",
       " {'ALEGRIA': 0.000574019446503371, 'MEDO': 0.9997684359550476},\n",
       " {'ALEGRIA': 0.001238198601640761, 'MEDO': 0.9999545812606812},\n",
       " {'ALEGRIA': 0.0015342319384217262, 'MEDO': 0.9990034699440002},\n",
       " {'ALEGRIA': 0.0007029862608760595, 'MEDO': 0.9996086955070496},\n",
       " {'ALEGRIA': 0.000492093909997493, 'MEDO': 0.9998123049736023},\n",
       " {'ALEGRIA': 0.0009971951367333531, 'MEDO': 0.9999473094940186},\n",
       " {'ALEGRIA': 0.00042001809924840927, 'MEDO': 0.9993988275527954},\n",
       " {'ALEGRIA': 0.0008079211693257093, 'MEDO': 0.9991469383239746},\n",
       " {'ALEGRIA': 0.000545125687494874, 'MEDO': 0.999671459197998},\n",
       " {'ALEGRIA': 0.0012067804345861077, 'MEDO': 0.9994389414787292},\n",
       " {'ALEGRIA': 0.0011563291773200035, 'MEDO': 0.9997934699058533},\n",
       " {'ALEGRIA': 0.00067197933094576, 'MEDO': 0.999729335308075},\n",
       " {'ALEGRIA': 0.0003449097275733948, 'MEDO': 0.9998069405555725},\n",
       " {'ALEGRIA': 0.0009940246818587184, 'MEDO': 0.9995566010475159},\n",
       " {'ALEGRIA': 0.0005843997350893915, 'MEDO': 0.9996500015258789},\n",
       " {'ALEGRIA': 0.0017063396517187357, 'MEDO': 0.9995204210281372},\n",
       " {'ALEGRIA': 0.0006345764268189669, 'MEDO': 0.9994502663612366},\n",
       " {'ALEGRIA': 0.00026467302814126015, 'MEDO': 0.9995903372764587},\n",
       " {'ALEGRIA': 7.673413347220048e-05, 'MEDO': 0.9999277591705322},\n",
       " {'ALEGRIA': 0.0007045338861644268, 'MEDO': 0.9998652935028076},\n",
       " {'ALEGRIA': 0.00031538729672320187, 'MEDO': 0.9998631477355957},\n",
       " {'ALEGRIA': 0.00118662987370044, 'MEDO': 0.9992836117744446},\n",
       " {'ALEGRIA': 0.0003135677252430469, 'MEDO': 0.9998477697372437},\n",
       " {'ALEGRIA': 0.0009047695784829557, 'MEDO': 0.9993036985397339},\n",
       " {'ALEGRIA': 0.00010683344589779153, 'MEDO': 0.9998650550842285},\n",
       " {'ALEGRIA': 0.0015922709135338664, 'MEDO': 0.9989104270935059},\n",
       " {'ALEGRIA': 0.0007048350526019931, 'MEDO': 0.99970942735672},\n",
       " {'ALEGRIA': 0.00038342372863553464, 'MEDO': 0.9998682737350464},\n",
       " {'ALEGRIA': 0.0009205284877680242, 'MEDO': 0.9995143413543701},\n",
       " {'ALEGRIA': 0.0001478528429288417, 'MEDO': 0.9997156262397766},\n",
       " {'ALEGRIA': 0.00038161338306963444, 'MEDO': 0.9998629093170166},\n",
       " {'ALEGRIA': 0.00018104311311617494, 'MEDO': 0.9999545812606812},\n",
       " {'ALEGRIA': 0.0007221864070743322, 'MEDO': 0.9999126195907593},\n",
       " {'ALEGRIA': 0.00040148888365365565, 'MEDO': 0.9998500347137451},\n",
       " {'ALEGRIA': 0.0005993213271722198, 'MEDO': 0.9995286464691162},\n",
       " {'ALEGRIA': 0.0011386354453861713, 'MEDO': 0.9998170733451843},\n",
       " {'ALEGRIA': 0.003820498241111636, 'MEDO': 0.9977924823760986},\n",
       " {'ALEGRIA': 0.0008963664877228439, 'MEDO': 0.9990767240524292},\n",
       " {'ALEGRIA': 0.0005552554503083229, 'MEDO': 0.9998964071273804},\n",
       " {'ALEGRIA': 0.0008132685907185078, 'MEDO': 0.9994934797286987},\n",
       " {'ALEGRIA': 0.0010961415246129036, 'MEDO': 0.999817430973053},\n",
       " {'ALEGRIA': 0.003717559389770031, 'MEDO': 0.9980440139770508},\n",
       " {'ALEGRIA': 0.0011514982907101512, 'MEDO': 0.9991534948348999},\n",
       " {'ALEGRIA': 0.0004198083479423076, 'MEDO': 0.9999223947525024},\n",
       " {'ALEGRIA': 0.001091932994313538, 'MEDO': 0.999351441860199},\n",
       " {'ALEGRIA': 0.0005851516616530716, 'MEDO': 0.9996355772018433},\n",
       " {'ALEGRIA': 0.0008614048711024225, 'MEDO': 0.9994696974754333},\n",
       " {'ALEGRIA': 0.0007355935522355139, 'MEDO': 0.9993964433670044},\n",
       " {'ALEGRIA': 0.0004484833625610918, 'MEDO': 0.9997705817222595},\n",
       " {'ALEGRIA': 0.00035942948306910694, 'MEDO': 0.9996321201324463},\n",
       " {'ALEGRIA': 0.0011705305660143495, 'MEDO': 0.9998645782470703},\n",
       " {'ALEGRIA': 0.0010640397667884827, 'MEDO': 0.9996335506439209},\n",
       " {'ALEGRIA': 0.0014753437135368586, 'MEDO': 0.9990721940994263},\n",
       " {'ALEGRIA': 0.00027845328440889716, 'MEDO': 0.9994168281555176},\n",
       " {'ALEGRIA': 0.0012984878849238157, 'MEDO': 0.9989631175994873},\n",
       " {'ALEGRIA': 0.0009042632300406694, 'MEDO': 0.9996826648712158},\n",
       " {'ALEGRIA': 6.691506132483482e-05, 'MEDO': 0.9999494552612305},\n",
       " {'ALEGRIA': 0.0014072994235903025, 'MEDO': 0.9995595812797546},\n",
       " {'ALEGRIA': 0.001489030197262764, 'MEDO': 0.9994602799415588},\n",
       " {'ALEGRIA': 0.0010780652519315481, 'MEDO': 0.9987909197807312},\n",
       " {'ALEGRIA': 0.001520373858511448, 'MEDO': 0.999714195728302},\n",
       " {'ALEGRIA': 0.003163154236972332, 'MEDO': 0.9985766410827637},\n",
       " {'ALEGRIA': 0.0011522526619955897, 'MEDO': 0.9990431666374207},\n",
       " {'ALEGRIA': 0.0005057667149230838, 'MEDO': 0.9999080896377563},\n",
       " {'ALEGRIA': 0.0023842244409024715, 'MEDO': 0.9989591836929321},\n",
       " {'ALEGRIA': 0.0005896877264603972, 'MEDO': 0.9999315738677979},\n",
       " {'ALEGRIA': 0.0002487100719008595, 'MEDO': 0.9999475479125977},\n",
       " {'ALEGRIA': 0.0010257296962663531, 'MEDO': 0.99989914894104},\n",
       " {'ALEGRIA': 0.0010259427363052964, 'MEDO': 0.9996597766876221},\n",
       " {'ALEGRIA': 0.0011662396136671305, 'MEDO': 0.9994069337844849},\n",
       " {'ALEGRIA': 0.001420450396835804, 'MEDO': 0.9993513226509094},\n",
       " {'ALEGRIA': 0.0013213155325502157, 'MEDO': 0.9997100234031677},\n",
       " {'ALEGRIA': 0.0008676526485942304, 'MEDO': 0.9984740614891052},\n",
       " {'ALEGRIA': 0.0016949542332440615, 'MEDO': 0.9989197254180908},\n",
       " {'ALEGRIA': 0.0004897686303593218, 'MEDO': 0.999729335308075},\n",
       " {'ALEGRIA': 0.0022974342573434114, 'MEDO': 0.9993436932563782},\n",
       " {'ALEGRIA': 0.0022374687250703573, 'MEDO': 0.9991162419319153},\n",
       " {'ALEGRIA': 0.0014254628913477063, 'MEDO': 0.999760091304779}]"
      ]
     },
     "execution_count": 60,
     "metadata": {},
     "output_type": "execute_result"
    }
   ],
   "source": [
    "# visualização previsoes\n",
    "\n",
    "previsoes"
   ]
  },
  {
   "cell_type": "code",
   "execution_count": 63,
   "metadata": {},
   "outputs": [],
   "source": [
    "# transformação das previsoes para avaliação\n",
    "\n",
    "previsoes_final = []\n",
    "\n",
    "for previsao in previsoes:\n",
    "\n",
    "    if previsao['ALEGRIA'] > previsao['MEDO']:\n",
    "        previsoes_final.append('alegria')\n",
    "    \n",
    "    elif previsao['MEDO'] > previsao['ALEGRIA']:\n",
    "        previsoes_final.append('medo')\n",
    "\n",
    "previsoes_final = np.array(previsoes_final)"
   ]
  },
  {
   "cell_type": "code",
   "execution_count": 64,
   "metadata": {},
   "outputs": [
    {
     "data": {
      "text/plain": [
       "array(['alegria', 'alegria', 'alegria', 'alegria', 'alegria', 'alegria',\n",
       "       'alegria', 'alegria', 'alegria', 'alegria', 'alegria', 'alegria',\n",
       "       'alegria', 'alegria', 'alegria', 'alegria', 'alegria', 'alegria',\n",
       "       'alegria', 'alegria', 'alegria', 'alegria', 'alegria', 'alegria',\n",
       "       'alegria', 'alegria', 'alegria', 'alegria', 'alegria', 'alegria',\n",
       "       'alegria', 'alegria', 'alegria', 'alegria', 'alegria', 'alegria',\n",
       "       'alegria', 'alegria', 'alegria', 'alegria', 'alegria', 'alegria',\n",
       "       'alegria', 'alegria', 'alegria', 'alegria', 'alegria', 'alegria',\n",
       "       'alegria', 'alegria', 'alegria', 'alegria', 'alegria', 'alegria',\n",
       "       'alegria', 'alegria', 'alegria', 'alegria', 'alegria', 'alegria',\n",
       "       'alegria', 'alegria', 'alegria', 'alegria', 'alegria', 'alegria',\n",
       "       'alegria', 'alegria', 'alegria', 'alegria', 'alegria', 'alegria',\n",
       "       'alegria', 'alegria', 'alegria', 'alegria', 'alegria', 'alegria',\n",
       "       'alegria', 'alegria', 'alegria', 'alegria', 'alegria', 'alegria',\n",
       "       'alegria', 'alegria', 'alegria', 'alegria', 'alegria', 'alegria',\n",
       "       'alegria', 'alegria', 'alegria', 'alegria', 'alegria', 'alegria',\n",
       "       'alegria', 'alegria', 'alegria', 'alegria', 'alegria', 'alegria',\n",
       "       'alegria', 'alegria', 'alegria', 'alegria', 'alegria', 'alegria',\n",
       "       'alegria', 'alegria', 'alegria', 'alegria', 'medo', 'medo', 'medo',\n",
       "       'medo', 'medo', 'medo', 'medo', 'medo', 'medo', 'medo', 'medo',\n",
       "       'medo', 'medo', 'medo', 'medo', 'medo', 'medo', 'medo', 'medo',\n",
       "       'medo', 'medo', 'medo', 'medo', 'medo', 'medo', 'medo', 'medo',\n",
       "       'medo', 'medo', 'medo', 'medo', 'medo', 'medo', 'medo', 'medo',\n",
       "       'medo', 'medo', 'medo', 'medo', 'medo', 'medo', 'medo', 'medo',\n",
       "       'medo', 'medo', 'medo', 'medo', 'medo', 'medo', 'medo', 'medo',\n",
       "       'medo', 'medo', 'medo', 'medo', 'medo', 'medo', 'medo', 'medo',\n",
       "       'medo', 'medo', 'medo', 'medo', 'medo', 'medo', 'medo', 'medo',\n",
       "       'medo', 'medo', 'medo', 'medo', 'medo', 'medo', 'medo', 'medo',\n",
       "       'medo', 'medo', 'medo', 'medo', 'medo', 'medo', 'medo', 'medo',\n",
       "       'medo'], dtype='<U7')"
      ]
     },
     "execution_count": 64,
     "metadata": {},
     "output_type": "execute_result"
    }
   ],
   "source": [
    "# viz após a transformação\n",
    "\n",
    "previsoes_final"
   ]
  },
  {
   "cell_type": "code",
   "execution_count": 65,
   "metadata": {},
   "outputs": [
    {
     "data": {
      "text/plain": [
       "array(['alegria', 'alegria', 'alegria', 'alegria', 'alegria', 'alegria',\n",
       "       'alegria', 'alegria', 'alegria', 'alegria', 'alegria', 'alegria',\n",
       "       'alegria', 'alegria', 'alegria', 'alegria', 'alegria', 'alegria',\n",
       "       'alegria', 'alegria', 'alegria', 'alegria', 'alegria', 'alegria',\n",
       "       'alegria', 'alegria', 'alegria', 'alegria', 'alegria', 'alegria',\n",
       "       'alegria', 'alegria', 'alegria', 'alegria', 'alegria', 'alegria',\n",
       "       'alegria', 'alegria', 'alegria', 'alegria', 'alegria', 'alegria',\n",
       "       'alegria', 'alegria', 'alegria', 'alegria', 'alegria', 'alegria',\n",
       "       'alegria', 'alegria', 'alegria', 'alegria', 'alegria', 'alegria',\n",
       "       'alegria', 'alegria', 'alegria', 'alegria', 'alegria', 'alegria',\n",
       "       'alegria', 'alegria', 'alegria', 'alegria', 'alegria', 'alegria',\n",
       "       'alegria', 'alegria', 'alegria', 'alegria', 'alegria', 'alegria',\n",
       "       'alegria', 'alegria', 'alegria', 'alegria', 'alegria', 'alegria',\n",
       "       'alegria', 'alegria', 'alegria', 'alegria', 'alegria', 'alegria',\n",
       "       'alegria', 'alegria', 'alegria', 'alegria', 'alegria', 'alegria',\n",
       "       'alegria', 'alegria', 'alegria', 'alegria', 'alegria', 'alegria',\n",
       "       'alegria', 'alegria', 'alegria', 'alegria', 'alegria', 'alegria',\n",
       "       'alegria', 'alegria', 'alegria', 'alegria', 'alegria', 'alegria',\n",
       "       'alegria', 'alegria', 'alegria', 'alegria', 'medo', 'medo', 'medo',\n",
       "       'medo', 'medo', 'medo', 'medo', 'medo', 'medo', 'medo', 'medo',\n",
       "       'medo', 'medo', 'medo', 'medo', 'medo', 'medo', 'medo', 'medo',\n",
       "       'medo', 'medo', 'medo', 'medo', 'medo', 'medo', 'medo', 'medo',\n",
       "       'medo', 'medo', 'medo', 'medo', 'medo', 'medo', 'medo', 'medo',\n",
       "       'medo', 'medo', 'medo', 'medo', 'medo', 'medo', 'medo', 'medo',\n",
       "       'medo', 'medo', 'medo', 'medo', 'medo', 'medo', 'medo', 'medo',\n",
       "       'medo', 'medo', 'medo', 'medo', 'medo', 'medo', 'medo', 'medo',\n",
       "       'medo', 'medo', 'medo', 'medo', 'medo', 'medo', 'medo', 'medo',\n",
       "       'medo', 'medo', 'medo', 'medo', 'medo', 'medo', 'medo', 'medo',\n",
       "       'medo', 'medo', 'medo', 'medo', 'medo', 'medo', 'medo', 'medo',\n",
       "       'medo'], dtype=object)"
      ]
     },
     "execution_count": 65,
     "metadata": {},
     "output_type": "execute_result"
    }
   ],
   "source": [
    "# transformação para comparação\n",
    "\n",
    "respostas_reais = treino['emocao'].values\n",
    "respostas_reais"
   ]
  },
  {
   "cell_type": "code",
   "execution_count": 72,
   "metadata": {},
   "outputs": [
    {
     "data": {
      "text/plain": [
       "1.0"
      ]
     },
     "execution_count": 72,
     "metadata": {},
     "output_type": "execute_result"
    }
   ],
   "source": [
    "# acuracia do modelo\n",
    "\n",
    "accuracy_score(previsoes_final, respostas_reais)"
   ]
  },
  {
   "cell_type": "code",
   "execution_count": 73,
   "metadata": {},
   "outputs": [
    {
     "data": {
      "image/png": "[encoded data removed]",
      "text/plain": [
       "<Figure size 432x288 with 2 Axes>"
      ]
     },
     "metadata": {
      "needs_background": "light"
     },
     "output_type": "display_data"
    }
   ],
   "source": [
    "# viz matriz de confusão\n",
    "\n",
    "cnn = confusion_matrix(previsoes_final, respostas_reais)\n",
    "sns.heatmap(cnn, annot=True);"
   ]
  },
  {
   "cell_type": "code",
   "execution_count": 74,
   "metadata": {},
   "outputs": [],
   "source": [
    "# previsões com teste"
   ]
  },
  {
   "cell_type": "code",
   "execution_count": 81,
   "metadata": {},
   "outputs": [],
   "source": [
    "# processamento na base de teste\n",
    "\n",
    "bd_teste['texto'] = bd_teste['texto'].apply(processamento)"
   ]
  },
  {
   "cell_type": "code",
   "execution_count": 82,
   "metadata": {},
   "outputs": [],
   "source": [
    "# respostas na base de teste\n",
    "\n",
    "previsoes = [ ]\n",
    "\n",
    "for texto in bd_teste['texto']:\n",
    "\n",
    "    previsao = modelo_treinado(texto)\n",
    "    previsoes.append(previsao.cats)"
   ]
  },
  {
   "cell_type": "code",
   "execution_count": 83,
   "metadata": {},
   "outputs": [],
   "source": [
    "# tratamento das previsões\n",
    "\n",
    "previsoes_final_test = []\n",
    "\n",
    "for previsao in previsoes:\n",
    "\n",
    "    if previsao['ALEGRIA'] > previsao['MEDO']:\n",
    "        previsoes_final_test.append('alegria')\n",
    "    \n",
    "    elif previsao['MEDO'] > previsao['ALEGRIA']:\n",
    "        previsoes_final_test.append('medo')\n",
    "\n",
    "previsoes_final_test = np.array(previsoes_final_test)"
   ]
  },
  {
   "cell_type": "code",
   "execution_count": 84,
   "metadata": {},
   "outputs": [],
   "source": [
    "# transformação valores teste em array \n",
    "\n",
    "respostas_reais_test = bd_teste['emocao'].values"
   ]
  },
  {
   "cell_type": "code",
   "execution_count": 85,
   "metadata": {},
   "outputs": [],
   "source": [
    "# avaliação"
   ]
  },
  {
   "cell_type": "code",
   "execution_count": 86,
   "metadata": {},
   "outputs": [
    {
     "data": {
      "text/plain": [
       "0.5238095238095238"
      ]
     },
     "execution_count": 86,
     "metadata": {},
     "output_type": "execute_result"
    }
   ],
   "source": [
    "# acuracia do modelo na base de teste\n",
    "\n",
    "accuracy_score(respostas_reais_test, previsoes_final_test)"
   ]
  },
  {
   "cell_type": "code",
   "execution_count": 90,
   "metadata": {},
   "outputs": [
    {
     "data": {
      "image/png": "[encoded data removed]",
      "text/plain": [
       "<Figure size 432x288 with 2 Axes>"
      ]
     },
     "metadata": {
      "needs_background": "light"
     },
     "output_type": "display_data"
    }
   ],
   "source": [
    "# matriz de confusão\n",
    "\n",
    "cnn = confusion_matrix(respostas_reais_test, previsoes_final_test)\n",
    "sns.heatmap(cnn, annot=True);"
   ]
  }
 ],
 "metadata": {
  "interpreter": {
   "hash": "ad2bdc8ecc057115af97d19610ffacc2b4e99fae6737bb82f5d7fb13d2f2c186"
  },
  "kernelspec": {
   "display_name": "Python 3.8.8 ('base')",
   "language": "python",
   "name": "python3"
  },
  "language_info": {
   "codemirror_mode": {
    "name": "ipython",
    "version": 3
   },
   "file_extension": ".py",
   "mimetype": "text/x-python",
   "name": "python",
   "nbconvert_exporter": "python",
   "pygments_lexer": "ipython3",
   "version": "3.8.8"
  },
  "orig_nbformat": 4
 },
 "nbformat": 4,
 "nbformat_minor": 2
}
