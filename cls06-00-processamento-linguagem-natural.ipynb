{
 "cells": [
  {
   "cell_type": "code",
   "execution_count": null,
   "metadata": {},
   "outputs": [],
   "source": [
    "# importação necessaria\n",
    "\n",
    "import bs4 as bs                        # tratamento de dados HTML\n",
    "import urllib                           # manipulação de HTML\n",
    "import nltk                             # linguagem natural\n",
    "import spacy                            # linguagem natural\n",
    "from IPython.core.display import HTML   # linguagem HTML na saida(display)\n",
    "from spacy.matcher import PhraseMatcher # busca pelo vocabulario\n",
    "from spacy import displacy              # otmização em visualização"
   ]
  },
  {
   "cell_type": "code",
   "execution_count": null,
   "metadata": {},
   "outputs": [],
   "source": [
    "# carregando lib em portugues\n",
    "\n",
    "pln = spacy.load('pt_core_news_sm')\n",
    "pln"
   ]
  },
  {
   "cell_type": "code",
   "execution_count": null,
   "metadata": {},
   "outputs": [],
   "source": [
    "# variavel com texto\n",
    "\n",
    "documento = pln('Estou aprendendo processamento de liguagem natural, curso em curitiba')"
   ]
  },
  {
   "cell_type": "code",
   "execution_count": null,
   "metadata": {},
   "outputs": [],
   "source": [
    "# tipo da variavel\n",
    "\n",
    "type(documento)"
   ]
  },
  {
   "cell_type": "code",
   "execution_count": null,
   "metadata": {},
   "outputs": [],
   "source": [
    "# visualização de como cada palavra é interpretada\n",
    "\n",
    "for token in documento:\n",
    "    print(token.text, token.pos_)"
   ]
  },
  {
   "cell_type": "code",
   "execution_count": null,
   "metadata": {},
   "outputs": [],
   "source": [
    "# lematização e estematização\n",
    "# redução de dimensionalidade\n",
    "\n",
    "for token in documento:\n",
    "    print(token.text, token.lemma_)"
   ]
  },
  {
   "cell_type": "code",
   "execution_count": null,
   "metadata": {},
   "outputs": [],
   "source": [
    "# varivel com texto para analise\n",
    "\n",
    "doc = pln('Encontrei encontraram encontrarão encontrariam cursando curso cursei')"
   ]
  },
  {
   "cell_type": "code",
   "execution_count": null,
   "metadata": {},
   "outputs": [],
   "source": [
    "# interpretação do algoritmo(lematização)\n",
    "\n",
    "[token.lemma_ for token in doc]"
   ]
  },
  {
   "cell_type": "code",
   "execution_count": null,
   "metadata": {},
   "outputs": [],
   "source": [
    "# estenização download\n",
    "\n",
    "nltk.download('rslp')"
   ]
  },
  {
   "cell_type": "code",
   "execution_count": null,
   "metadata": {},
   "outputs": [],
   "source": [
    "# interpretação da liguagem\n",
    "\n",
    "stemmer = nltk.stem.RSLPStemmer()\n",
    "stemmer.stem('aprender')"
   ]
  },
  {
   "cell_type": "code",
   "execution_count": null,
   "metadata": {},
   "outputs": [],
   "source": [
    "# interpretação \n",
    "\n",
    "for token in documento:\n",
    "    print(token.text, token.lemma_, stemmer.stem(token.text))"
   ]
  },
  {
   "cell_type": "code",
   "execution_count": null,
   "metadata": {},
   "outputs": [],
   "source": [
    "# link para busca\n",
    "\n",
    "link ='https://pt.wikipedia.org/wiki/Intelig%C3%AAncia_artificial'"
   ]
  },
  {
   "cell_type": "code",
   "execution_count": null,
   "metadata": {},
   "outputs": [],
   "source": [
    "# download de dados HTML da pag\n",
    "\n",
    "dados = urllib.request.urlopen(link)"
   ]
  },
  {
   "cell_type": "code",
   "execution_count": null,
   "metadata": {},
   "outputs": [],
   "source": [
    "# leitura \n",
    "\n",
    "dados = dados.read()"
   ]
  },
  {
   "cell_type": "code",
   "execution_count": null,
   "metadata": {},
   "outputs": [],
   "source": [
    "# visualização completa\n",
    "\n",
    "dados"
   ]
  },
  {
   "cell_type": "code",
   "execution_count": null,
   "metadata": {},
   "outputs": [],
   "source": [
    "# tratamento com beautifulsoup\n",
    "\n",
    "dados_html = bs.BeautifulSoup(dados, 'lxml')\n",
    "dados_html"
   ]
  },
  {
   "cell_type": "code",
   "execution_count": null,
   "metadata": {},
   "outputs": [],
   "source": [
    "# quantidade de paragrafos\n",
    "\n",
    "paragrafos = dados_html.find_all('p')\n",
    "len(paragrafos)"
   ]
  },
  {
   "cell_type": "code",
   "execution_count": null,
   "metadata": {},
   "outputs": [],
   "source": [
    "#  primerio registro\n",
    "\n",
    "paragrafos[0]"
   ]
  },
  {
   "cell_type": "code",
   "execution_count": null,
   "metadata": {},
   "outputs": [],
   "source": [
    "# segundo registro\n",
    "\n",
    "paragrafos[1]"
   ]
  },
  {
   "cell_type": "code",
   "execution_count": null,
   "metadata": {},
   "outputs": [],
   "source": [
    "# extração apenas do texto\n",
    "\n",
    "paragrafos[1].text"
   ]
  },
  {
   "cell_type": "code",
   "execution_count": null,
   "metadata": {},
   "outputs": [],
   "source": [
    "# extração apenas do texto dos paragrafos \n",
    "\n",
    "conteudo = ''\n",
    "for p in paragrafos:\n",
    "    conteudo += p.text\n",
    "\n",
    "conteudo"
   ]
  },
  {
   "cell_type": "code",
   "execution_count": null,
   "metadata": {},
   "outputs": [],
   "source": [
    "# tranformação em minuscula\n",
    "\n",
    "conteudo = conteudo.lower()\n",
    "conteudo"
   ]
  },
  {
   "cell_type": "code",
   "execution_count": null,
   "metadata": {},
   "outputs": [],
   "source": [
    "# busca em textos com spacy"
   ]
  },
  {
   "cell_type": "code",
   "execution_count": null,
   "metadata": {},
   "outputs": [],
   "source": [
    "# busca com algoritmo\n",
    "\n",
    "pln = spacy.load('pt_core_news_sm')\n",
    "pln"
   ]
  },
  {
   "cell_type": "code",
   "execution_count": null,
   "metadata": {},
   "outputs": [],
   "source": [
    "# variavel a ser procurada\n",
    "\n",
    "string = 'turing'"
   ]
  },
  {
   "cell_type": "code",
   "execution_count": null,
   "metadata": {},
   "outputs": [],
   "source": [
    "# token de pesquisa\n",
    "\n",
    "token_pesquisa = pln(string)"
   ]
  },
  {
   "cell_type": "code",
   "execution_count": null,
   "metadata": {},
   "outputs": [],
   "source": [
    "# vocabulario\n",
    "\n",
    "pln.vocab"
   ]
  },
  {
   "cell_type": "code",
   "execution_count": null,
   "metadata": {},
   "outputs": [],
   "source": [
    "# elemento de busca\n",
    "\n",
    "matcher = PhraseMatcher(pln.vocab)\n",
    "matcher.add('SEARCH', None, token_pesquisa)"
   ]
  },
  {
   "cell_type": "code",
   "execution_count": null,
   "metadata": {},
   "outputs": [],
   "source": [
    "# resgistros encontrados na pag\n",
    "\n",
    "doc = pln(conteudo)\n",
    "matchers = matcher(doc)\n",
    "matchers"
   ]
  },
  {
   "cell_type": "code",
   "execution_count": null,
   "metadata": {},
   "outputs": [],
   "source": [
    "# primeiro resgistro encontrado\n",
    "\n",
    "doc[3037:3038]"
   ]
  },
  {
   "cell_type": "code",
   "execution_count": null,
   "metadata": {},
   "outputs": [],
   "source": [
    "# primeiro resgistro com contexto\n",
    "\n",
    "doc[3037-5:3038+5]"
   ]
  },
  {
   "cell_type": "code",
   "execution_count": null,
   "metadata": {},
   "outputs": [],
   "source": [
    "# busca pelo texto com contexto\n",
    "\n",
    "numero_palavras = 50\n",
    "doc = pln(conteudo)\n",
    "matchers = matcher(doc)\n",
    "texto = ''\n",
    "\n",
    "display(HTML(f'<h1>{string.upper()}</h1>'))\n",
    "display(HTML(f'''<P><strong>Resultados encontrados : </strong>{len(matchers)}</p>'''))\n",
    "\n",
    "for i in matchers:\n",
    "    inicio = i[1] - numero_palavras\n",
    "    \n",
    "    if numero_palavras < 0:\n",
    "        inicio = 0\n",
    "    \n",
    "    texto += str(doc[inicio: i[2] + numero_palavras]).replace(string, f'<mark>{string}</mark>')\n",
    "    texto += '<br ></br >'     # pular linhas\n",
    "\n",
    "display(HTML(f'''...{texto}...'''))    "
   ]
  },
  {
   "cell_type": "code",
   "execution_count": null,
   "metadata": {},
   "outputs": [],
   "source": [
    "# Extraação de entidades nomeadas"
   ]
  },
  {
   "cell_type": "code",
   "execution_count": null,
   "metadata": {},
   "outputs": [],
   "source": [
    "# seleção das entidades no documento\n",
    "\n",
    "for entidades in doc.ents:\n",
    "    print(entidades.text, entidades.label_)"
   ]
  },
  {
   "cell_type": "code",
   "execution_count": null,
   "metadata": {},
   "outputs": [],
   "source": [
    "# visualização das entidades\n",
    "\n",
    "displacy.render(doc, style='ent', jupyter=True)"
   ]
  }
 ],
 "metadata": {
  "interpreter": {
   "hash": "ad2bdc8ecc057115af97d19610ffacc2b4e99fae6737bb82f5d7fb13d2f2c186"
  },
  "kernelspec": {
   "display_name": "Python 3.8.8 ('base')",
   "language": "python",
   "name": "python3"
  },
  "language_info": {
   "codemirror_mode": {
    "name": "ipython",
    "version": 3
   },
   "file_extension": ".py",
   "mimetype": "text/x-python",
   "name": "python",
   "nbconvert_exporter": "python",
   "pygments_lexer": "ipython3",
   "version": "3.8.8"
  },
  "orig_nbformat": 4
 },
 "nbformat": 4,
 "nbformat_minor": 2
}
