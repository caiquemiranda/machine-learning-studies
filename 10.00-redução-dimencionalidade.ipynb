{
 "cells": [
  {
   "cell_type": "code",
   "execution_count": 1,
   "metadata": {},
   "outputs": [],
   "source": [
    "# importações necessarias\n",
    " \n",
    "# fundamentais\n",
    "import pandas as pd                                                   # manipulação de dados\n",
    "import seaborn as sns                                                 # visualização grafica\n",
    "\n",
    "# preprocessing\n",
    "from sklearn.preprocessing import LabelEncoder                        # processamento de variaveis\n",
    "from sklearn.preprocessing import StandardScaler                      # tratamento dos dados\n",
    "from sklearn.model_selection import train_test_split                  # divisao treino/teste dados\n",
    "from sklearn.decomposition import PCA                                 # redução de dimensionalidade\n",
    "from sklearn.decomposition import KernelPCA                           # redução de dimensionalidade\n",
    "from sklearn.discriminant_analysis import LinearDiscriminantAnalysis  # redução de dimensionalidade\n",
    "\n",
    "# algoritmos\n",
    "from sklearn.ensemble import RandomForestClassifier                   # algoritmo RandomForest\n",
    "\n",
    "# metricas\n",
    "from sklearn.metrics import accuracy_score                            # avaliação do modelo\n",
    "from sklearn.metrics import confusion_matrix                          # avalicação do modelo\n",
    "from sklearn.metrics import classification_report                     # report modelo"
   ]
  },
  {
   "cell_type": "code",
   "execution_count": 2,
   "metadata": {},
   "outputs": [
    {
     "data": {
      "text/html": [
       "<div>\n",
       "<style scoped>\n",
       "    .dataframe tbody tr th:only-of-type {\n",
       "        vertical-align: middle;\n",
       "    }\n",
       "\n",
       "    .dataframe tbody tr th {\n",
       "        vertical-align: top;\n",
       "    }\n",
       "\n",
       "    .dataframe thead th {\n",
       "        text-align: right;\n",
       "    }\n",
       "</style>\n",
       "<table border=\"1\" class=\"dataframe\">\n",
       "  <thead>\n",
       "    <tr style=\"text-align: right;\">\n",
       "      <th></th>\n",
       "      <th>age</th>\n",
       "      <th>workclass</th>\n",
       "      <th>final-weight</th>\n",
       "      <th>education</th>\n",
       "      <th>education-num</th>\n",
       "      <th>marital-status</th>\n",
       "      <th>occupation</th>\n",
       "      <th>relationship</th>\n",
       "      <th>race</th>\n",
       "      <th>sex</th>\n",
       "      <th>capital-gain</th>\n",
       "      <th>capital-loos</th>\n",
       "      <th>hour-per-week</th>\n",
       "      <th>native-country</th>\n",
       "      <th>income</th>\n",
       "    </tr>\n",
       "  </thead>\n",
       "  <tbody>\n",
       "    <tr>\n",
       "      <th>0</th>\n",
       "      <td>39</td>\n",
       "      <td>State-gov</td>\n",
       "      <td>77516</td>\n",
       "      <td>Bachelors</td>\n",
       "      <td>13</td>\n",
       "      <td>Never-married</td>\n",
       "      <td>Adm-clerical</td>\n",
       "      <td>Not-in-family</td>\n",
       "      <td>White</td>\n",
       "      <td>Male</td>\n",
       "      <td>2174</td>\n",
       "      <td>0</td>\n",
       "      <td>40</td>\n",
       "      <td>United-States</td>\n",
       "      <td>&lt;=50K</td>\n",
       "    </tr>\n",
       "    <tr>\n",
       "      <th>1</th>\n",
       "      <td>50</td>\n",
       "      <td>Self-emp-not-inc</td>\n",
       "      <td>83311</td>\n",
       "      <td>Bachelors</td>\n",
       "      <td>13</td>\n",
       "      <td>Married-civ-spouse</td>\n",
       "      <td>Exec-managerial</td>\n",
       "      <td>Husband</td>\n",
       "      <td>White</td>\n",
       "      <td>Male</td>\n",
       "      <td>0</td>\n",
       "      <td>0</td>\n",
       "      <td>13</td>\n",
       "      <td>United-States</td>\n",
       "      <td>&lt;=50K</td>\n",
       "    </tr>\n",
       "    <tr>\n",
       "      <th>2</th>\n",
       "      <td>38</td>\n",
       "      <td>Private</td>\n",
       "      <td>215646</td>\n",
       "      <td>HS-grad</td>\n",
       "      <td>9</td>\n",
       "      <td>Divorced</td>\n",
       "      <td>Handlers-cleaners</td>\n",
       "      <td>Not-in-family</td>\n",
       "      <td>White</td>\n",
       "      <td>Male</td>\n",
       "      <td>0</td>\n",
       "      <td>0</td>\n",
       "      <td>40</td>\n",
       "      <td>United-States</td>\n",
       "      <td>&lt;=50K</td>\n",
       "    </tr>\n",
       "    <tr>\n",
       "      <th>3</th>\n",
       "      <td>53</td>\n",
       "      <td>Private</td>\n",
       "      <td>234721</td>\n",
       "      <td>11th</td>\n",
       "      <td>7</td>\n",
       "      <td>Married-civ-spouse</td>\n",
       "      <td>Handlers-cleaners</td>\n",
       "      <td>Husband</td>\n",
       "      <td>Black</td>\n",
       "      <td>Male</td>\n",
       "      <td>0</td>\n",
       "      <td>0</td>\n",
       "      <td>40</td>\n",
       "      <td>United-States</td>\n",
       "      <td>&lt;=50K</td>\n",
       "    </tr>\n",
       "    <tr>\n",
       "      <th>4</th>\n",
       "      <td>28</td>\n",
       "      <td>Private</td>\n",
       "      <td>338409</td>\n",
       "      <td>Bachelors</td>\n",
       "      <td>13</td>\n",
       "      <td>Married-civ-spouse</td>\n",
       "      <td>Prof-specialty</td>\n",
       "      <td>Wife</td>\n",
       "      <td>Black</td>\n",
       "      <td>Female</td>\n",
       "      <td>0</td>\n",
       "      <td>0</td>\n",
       "      <td>40</td>\n",
       "      <td>Cuba</td>\n",
       "      <td>&lt;=50K</td>\n",
       "    </tr>\n",
       "  </tbody>\n",
       "</table>\n",
       "</div>"
      ],
      "text/plain": [
       "   age          workclass  final-weight   education  education-num  \\\n",
       "0   39          State-gov         77516   Bachelors             13   \n",
       "1   50   Self-emp-not-inc         83311   Bachelors             13   \n",
       "2   38            Private        215646     HS-grad              9   \n",
       "3   53            Private        234721        11th              7   \n",
       "4   28            Private        338409   Bachelors             13   \n",
       "\n",
       "        marital-status          occupation    relationship    race      sex  \\\n",
       "0        Never-married        Adm-clerical   Not-in-family   White     Male   \n",
       "1   Married-civ-spouse     Exec-managerial         Husband   White     Male   \n",
       "2             Divorced   Handlers-cleaners   Not-in-family   White     Male   \n",
       "3   Married-civ-spouse   Handlers-cleaners         Husband   Black     Male   \n",
       "4   Married-civ-spouse      Prof-specialty            Wife   Black   Female   \n",
       "\n",
       "   capital-gain  capital-loos  hour-per-week  native-country  income  \n",
       "0          2174             0             40   United-States   <=50K  \n",
       "1             0             0             13   United-States   <=50K  \n",
       "2             0             0             40   United-States   <=50K  \n",
       "3             0             0             40   United-States   <=50K  \n",
       "4             0             0             40            Cuba   <=50K  "
      ]
     },
     "execution_count": 2,
     "metadata": {},
     "output_type": "execute_result"
    }
   ],
   "source": [
    "# importação e visualização da base de dados\n",
    "\n",
    "base_census = pd.read_csv('./data/census.csv')\n",
    "base_census.head()"
   ]
  },
  {
   "cell_type": "code",
   "execution_count": 3,
   "metadata": {},
   "outputs": [
    {
     "data": {
      "text/plain": [
       "((32561, 14), (32561,))"
      ]
     },
     "execution_count": 3,
     "metadata": {},
     "output_type": "execute_result"
    }
   ],
   "source": [
    "# separação variaveis preditoras e as classes\n",
    "\n",
    "X_census = base_census.iloc[:, 0:14].values\n",
    "y_census = base_census.iloc[:, 14].values\n",
    "X_census.shape, y_census.shape"
   ]
  },
  {
   "cell_type": "code",
   "execution_count": 4,
   "metadata": {},
   "outputs": [],
   "source": [
    "# tratamento nas variaveis categoricas com o LabelEncoder\n",
    "\n",
    "label_encoder_workclass = LabelEncoder()\n",
    "label_encoder_education = LabelEncoder()\n",
    "label_encoder_marital = LabelEncoder()\n",
    "label_encoder_occupation = LabelEncoder()\n",
    "label_encoder_relationship = LabelEncoder()\n",
    "label_encoder_race = LabelEncoder()\n",
    "label_encoder_sex = LabelEncoder()\n",
    "label_encoder_country = LabelEncoder()\n",
    "\n",
    "X_census[ :, 1] = label_encoder_workclass.fit_transform(X_census[ :, 1])\n",
    "X_census[ :, 3] = label_encoder_education.fit_transform(X_census[ :, 3])\n",
    "X_census[ :, 5] = label_encoder_marital.fit_transform(X_census[ :, 5])\n",
    "X_census[ :, 6] = label_encoder_occupation.fit_transform(X_census[ :, 6])\n",
    "X_census[ :, 7] = label_encoder_relationship.fit_transform(X_census[ :, 7])\n",
    "X_census[ :, 8] = label_encoder_race.fit_transform(X_census[ :, 8])\n",
    "X_census[ :, 9] = label_encoder_sex.fit_transform(X_census[ :, 9])\n",
    "X_census[ :, 13] = label_encoder_country.fit_transform(X_census[ :, 13])"
   ]
  },
  {
   "cell_type": "code",
   "execution_count": 5,
   "metadata": {},
   "outputs": [
    {
     "data": {
      "text/plain": [
       "array([[39, 7, 77516, ..., 0, 40, 39],\n",
       "       [50, 6, 83311, ..., 0, 13, 39],\n",
       "       [38, 4, 215646, ..., 0, 40, 39],\n",
       "       ...,\n",
       "       [58, 4, 151910, ..., 0, 40, 39],\n",
       "       [22, 4, 201490, ..., 0, 20, 39],\n",
       "       [52, 5, 287927, ..., 0, 40, 39]], dtype=object)"
      ]
     },
     "execution_count": 5,
     "metadata": {},
     "output_type": "execute_result"
    }
   ],
   "source": [
    "# visualização após tratamento\n",
    "\n",
    "X_census"
   ]
  },
  {
   "cell_type": "code",
   "execution_count": 6,
   "metadata": {},
   "outputs": [],
   "source": [
    "# padronixação StandardScaled\n",
    "\n",
    "sc = StandardScaler()\n",
    "X_census_scaled = sc.fit_transform(X_census)"
   ]
  },
  {
   "cell_type": "code",
   "execution_count": 7,
   "metadata": {},
   "outputs": [
    {
     "data": {
      "text/plain": [
       "((26048, 14), (6513, 14))"
      ]
     },
     "execution_count": 7,
     "metadata": {},
     "output_type": "execute_result"
    }
   ],
   "source": [
    "# divisão hold-out treino e teste\n",
    "\n",
    "X_census_treinamento, X_census_teste, y_census_treinamento, y_census_teste = train_test_split(X_census, y_census, test_size=0.2)\n",
    "X_census_treinamento.shape, X_census_teste.shape"
   ]
  },
  {
   "cell_type": "markdown",
   "metadata": {},
   "source": [
    "#### PCA (principal component analysis)"
   ]
  },
  {
   "cell_type": "code",
   "execution_count": null,
   "metadata": {},
   "outputs": [],
   "source": [
    "# redução de dimencionalidade"
   ]
  },
  {
   "cell_type": "code",
   "execution_count": null,
   "metadata": {},
   "outputs": [],
   "source": [
    "# parametros PCA\n",
    "\n",
    "pca = PCA(n_components=6)"
   ]
  },
  {
   "cell_type": "code",
   "execution_count": null,
   "metadata": {},
   "outputs": [],
   "source": [
    "# treinamento PCA\n",
    "\n",
    "X_census_treinamento_pca = pca.fit_transform(X_census_treinamento)\n",
    "X_census_teste_pca = pca.transform(X_census_teste)"
   ]
  },
  {
   "cell_type": "code",
   "execution_count": null,
   "metadata": {},
   "outputs": [],
   "source": [
    "# tamanho após tratamento com PCA\n",
    "\n",
    "X_census_treinamento_pca.shape, X_census_teste_pca.shape"
   ]
  },
  {
   "cell_type": "code",
   "execution_count": null,
   "metadata": {},
   "outputs": [],
   "source": [
    "X_census_treinamento_pca"
   ]
  },
  {
   "cell_type": "code",
   "execution_count": null,
   "metadata": {},
   "outputs": [],
   "source": [
    "# variancia dos atributos após transfomação PCA\n",
    "\n",
    "pca.explained_variance_ratio_"
   ]
  },
  {
   "cell_type": "code",
   "execution_count": null,
   "metadata": {},
   "outputs": [],
   "source": [
    "# representatividade das variaveis\n",
    "\n",
    "pca.explained_variance_ratio_.sum()"
   ]
  },
  {
   "cell_type": "code",
   "execution_count": null,
   "metadata": {},
   "outputs": [],
   "source": [
    "# uso de algoritmo de classificação\n",
    "# randomForest\n",
    "\n",
    "# definindo paramtros\n",
    "random_forest_pca = RandomForestClassifier(n_estimators=40,\n",
    "                                           criterion='entropy',\n",
    "                                           min_samples_split=5,\n",
    "                                           min_samples_leaf=1,\n",
    "                                           random_state=0)\n",
    "\n",
    "# treino\n",
    "random_forest_pca.fit(X_census_treinamento_pca, y_census_treinamento)"
   ]
  },
  {
   "cell_type": "code",
   "execution_count": null,
   "metadata": {},
   "outputs": [],
   "source": [
    "# previsões\n",
    "\n",
    "previsoes = random_forest_pca.predict(X_census_teste_pca)"
   ]
  },
  {
   "cell_type": "markdown",
   "metadata": {},
   "source": [
    "#### Avaliação completa do modelo"
   ]
  },
  {
   "cell_type": "code",
   "execution_count": null,
   "metadata": {},
   "outputs": [],
   "source": [
    "# avaliação completa model\n",
    "\n",
    "previsoes = random_forest_pca.predict(X_census_teste_pca)\n",
    "\n",
    "# accuracy\n",
    "print(f'Acurácia geral do modelo : {accuracy_score(y_census_teste, previsoes)*100:.2f}%')\n",
    "\n",
    "# matriz de confusão\n",
    "cnn = confusion_matrix(y_census_teste, previsoes)\n",
    "print(cnn)\n",
    "\n",
    "# heatmap com matriz de confusão\n",
    "sns.heatmap(cnn, annot=True);\n",
    "print(classification_report(y_census_teste, previsoes))"
   ]
  },
  {
   "cell_type": "markdown",
   "metadata": {},
   "source": [
    "#### Kernel PCA "
   ]
  },
  {
   "cell_type": "code",
   "execution_count": 8,
   "metadata": {},
   "outputs": [],
   "source": [
    "# configuração Kernel PCA\n",
    "# kernel 'rbf' é comum em problemas não linearmente separaveis\n",
    "\n",
    "kpca = KernelPCA(n_components=8, kernel='rbf')\n",
    "\n",
    "X_census_treinamento_kpca = kpca.fit_transform(X_census_treinamento)\n",
    "X_census_teste_kpca = kpca.transform(X_census_teste)"
   ]
  },
  {
   "cell_type": "code",
   "execution_count": 9,
   "metadata": {},
   "outputs": [
    {
     "data": {
      "text/plain": [
       "((26048, 8), (6513, 8))"
      ]
     },
     "execution_count": 9,
     "metadata": {},
     "output_type": "execute_result"
    }
   ],
   "source": [
    "# tamanho após treinamento\n",
    "\n",
    "X_census_treinamento_kpca.shape, X_census_teste_kpca.shape"
   ]
  },
  {
   "cell_type": "code",
   "execution_count": 10,
   "metadata": {},
   "outputs": [
    {
     "data": {
      "text/plain": [
       "array([[-1.01968460e-04, -9.28377882e-05, -9.03699487e-05, ...,\n",
       "        -4.47503347e-05, -4.20896323e-08, -2.68899385e-10],\n",
       "       [-1.02328529e-04, -9.32858697e-05, -9.08136110e-05, ...,\n",
       "        -4.49920501e-05, -4.23172510e-08, -2.70353582e-10],\n",
       "       [-1.01968458e-04, -9.28377864e-05, -9.03699469e-05, ...,\n",
       "        -4.47503337e-05, -4.20896314e-08, -2.68899380e-10],\n",
       "       ...,\n",
       "       [-1.01968458e-04, -9.28377864e-05, -9.03699469e-05, ...,\n",
       "        -4.47503337e-05, -4.20896314e-08, -2.68899379e-10],\n",
       "       [-1.01968458e-04, -9.28377864e-05, -9.03699469e-05, ...,\n",
       "        -4.47503337e-05, -4.20896314e-08, -2.68899380e-10],\n",
       "       [-1.01968568e-04, -9.28379189e-05, -9.03700779e-05, ...,\n",
       "        -4.47504044e-05, -4.20896979e-08, -2.68899804e-10]])"
      ]
     },
     "execution_count": 10,
     "metadata": {},
     "output_type": "execute_result"
    }
   ],
   "source": [
    "# visualização após tratamento\n",
    "\n",
    "X_census_treinamento_kpca"
   ]
  },
  {
   "cell_type": "code",
   "execution_count": 11,
   "metadata": {},
   "outputs": [
    {
     "data": {
      "text/plain": [
       "RandomForestClassifier(criterion='entropy', random_state=0)"
      ]
     },
     "execution_count": 11,
     "metadata": {},
     "output_type": "execute_result"
    }
   ],
   "source": [
    "# uso de algoritmo de classificação\n",
    "# randomForest\n",
    "\n",
    "# definindo paramtros\n",
    "random_forest_kpca = RandomForestClassifier(n_estimators=100,\n",
    "                                           criterion='entropy',\n",
    "                                           random_state=0)\n",
    "\n",
    "# treino\n",
    "random_forest_kpca.fit(X_census_treinamento_kpca, y_census_treinamento)"
   ]
  },
  {
   "cell_type": "markdown",
   "metadata": {},
   "source": [
    "#### Avaliação completa do modelo"
   ]
  },
  {
   "cell_type": "code",
   "execution_count": 12,
   "metadata": {},
   "outputs": [
    {
     "name": "stdout",
     "output_type": "stream",
     "text": [
      "Acurácia geral do modelo : 75.16%\n",
      "[[4895    4]\n",
      " [1614    0]]\n",
      "              precision    recall  f1-score   support\n",
      "\n",
      "       <=50K       0.75      1.00      0.86      4899\n",
      "        >50K       0.00      0.00      0.00      1614\n",
      "\n",
      "    accuracy                           0.75      6513\n",
      "   macro avg       0.38      0.50      0.43      6513\n",
      "weighted avg       0.57      0.75      0.65      6513\n",
      "\n"
     ]
    },
    {
     "data": {
      "image/png": "[encoded data removed]",
      "text/plain": [
       "<Figure size 432x288 with 2 Axes>"
      ]
     },
     "metadata": {
      "needs_background": "light"
     },
     "output_type": "display_data"
    }
   ],
   "source": [
    "# avaliação completa model\n",
    "\n",
    "previsoes = random_forest_kpca.predict(X_census_teste_kpca)\n",
    "\n",
    "# accuracy\n",
    "print(f'Acurácia geral do modelo : {accuracy_score(y_census_teste, previsoes)*100:.2f}%')\n",
    "\n",
    "# matriz de confusão\n",
    "cnn = confusion_matrix(y_census_teste, previsoes)\n",
    "print(cnn)\n",
    "\n",
    "# heatmap com matriz de confusão\n",
    "sns.heatmap(cnn, annot=True);\n",
    "print(classification_report(y_census_teste, previsoes))"
   ]
  },
  {
   "cell_type": "markdown",
   "metadata": {},
   "source": [
    "#### LDA (Linear discriminant analysis)"
   ]
  },
  {
   "cell_type": "code",
   "execution_count": 17,
   "metadata": {},
   "outputs": [],
   "source": [
    "# trasnformação\n",
    "lda = LinearDiscriminantAnalysis()\n",
    "\n",
    "X_census_treinamento_lda = lda.fit_transform(X_census_treinamento, y_census_treinamento) # algoritmo precisa das classes \n",
    "X_census_teste_lda = lda.transform(X_census_teste)"
   ]
  },
  {
   "cell_type": "code",
   "execution_count": 18,
   "metadata": {},
   "outputs": [
    {
     "data": {
      "text/plain": [
       "((26048, 1), (6513, 1))"
      ]
     },
     "execution_count": 18,
     "metadata": {},
     "output_type": "execute_result"
    }
   ],
   "source": [
    "# tamanho da base de dados após tranformação\n",
    "\n",
    "X_census_treinamento_lda.shape, X_census_teste_lda.shape"
   ]
  },
  {
   "cell_type": "code",
   "execution_count": 19,
   "metadata": {},
   "outputs": [
    {
     "data": {
      "text/plain": [
       "RandomForestClassifier(criterion='entropy', random_state=0)"
      ]
     },
     "execution_count": 19,
     "metadata": {},
     "output_type": "execute_result"
    }
   ],
   "source": [
    "# uso de algoritmo de classificação\n",
    "# randomForest\n",
    "\n",
    "# definindo paramtros\n",
    "random_forest_lda = RandomForestClassifier(n_estimators=100,\n",
    "                                           criterion='entropy',\n",
    "                                           random_state=0)\n",
    "\n",
    "# treino\n",
    "random_forest_lda.fit(X_census_treinamento_lda, y_census_treinamento)"
   ]
  },
  {
   "cell_type": "markdown",
   "metadata": {},
   "source": [
    "#### Avaliação completa do modelo"
   ]
  },
  {
   "cell_type": "code",
   "execution_count": 21,
   "metadata": {},
   "outputs": [
    {
     "name": "stdout",
     "output_type": "stream",
     "text": [
      "Acurácia geral do modelo : 73.85%\n",
      "[[4058  841]\n",
      " [ 862  752]]\n",
      "              precision    recall  f1-score   support\n",
      "\n",
      "       <=50K       0.82      0.83      0.83      4899\n",
      "        >50K       0.47      0.47      0.47      1614\n",
      "\n",
      "    accuracy                           0.74      6513\n",
      "   macro avg       0.65      0.65      0.65      6513\n",
      "weighted avg       0.74      0.74      0.74      6513\n",
      "\n"
     ]
    },
    {
     "data": {
      "image/png": "[encoded data removed]",
      "text/plain": [
       "<Figure size 432x288 with 2 Axes>"
      ]
     },
     "metadata": {
      "needs_background": "light"
     },
     "output_type": "display_data"
    }
   ],
   "source": [
    "# avaliação completa model\n",
    "\n",
    "previsoes = random_forest_lda.predict(X_census_teste_lda)\n",
    "\n",
    "# accuracy\n",
    "print(f'Acurácia geral do modelo : {accuracy_score(y_census_teste, previsoes)*100:.2f}%')\n",
    "\n",
    "# matriz de confusão\n",
    "cnn = confusion_matrix(y_census_teste, previsoes)\n",
    "print(cnn)\n",
    "\n",
    "# heatmap com matriz de confusão\n",
    "sns.heatmap(cnn, annot=True);\n",
    "print(classification_report(y_census_teste, previsoes))"
   ]
  }
 ],
 "metadata": {
  "interpreter": {
   "hash": "ad2bdc8ecc057115af97d19610ffacc2b4e99fae6737bb82f5d7fb13d2f2c186"
  },
  "kernelspec": {
   "display_name": "Python 3.8.8 ('base')",
   "language": "python",
   "name": "python3"
  },
  "language_info": {
   "codemirror_mode": {
    "name": "ipython",
    "version": 3
   },
   "file_extension": ".py",
   "mimetype": "text/x-python",
   "name": "python",
   "nbconvert_exporter": "python",
   "pygments_lexer": "ipython3",
   "version": "3.8.8"
  },
  "orig_nbformat": 4
 },
 "nbformat": 4,
 "nbformat_minor": 2
}
