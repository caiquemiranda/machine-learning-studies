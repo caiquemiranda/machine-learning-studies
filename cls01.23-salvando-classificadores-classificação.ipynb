{
 "cells": [
  {
   "cell_type": "code",
   "execution_count": 5,
   "metadata": {},
   "outputs": [],
   "source": [
    "# importações das bibliotecas\n",
    "\n",
    "# importação dos modulos com os algoritmos de classificação\n",
    "from sklearn.tree import DecisionTreeClassifier                             # importação do algoritmo de árvore de decisão\n",
    "from sklearn.svm import SVC                                                 # importação do algoritmo de SVM\n",
    "from sklearn.neural_network import MLPClassifier                            # importação do algoritmo de rede neural\n",
    "\n",
    "# importação de modulos para manipulação de dados\n",
    "import pandas as pd                                                        # importação do pandas para manipulação de dados\n",
    "import pickle as pkl                                                       # importação do pickle para salvar o modelo\n",
    "import numpy as np                                                         # importação do numpy para manipulação de dados numericos\n",
    "import warnings                                                            # importação do warnings para não mostrar mensagens de aviso\n",
    "\n",
    "# não mostrar mensagens de aviso\n",
    "warnings.filterwarnings(\"ignore\")"
   ]
  },
  {
   "cell_type": "code",
   "execution_count": 6,
   "metadata": {},
   "outputs": [],
   "source": [
    "# baixando os dados ja tratandos e salvos em um arquivo pickle\n",
    "\n",
    "with open('./data/credit.pkl', 'rb') as f:\n",
    "    X_credit_treinamento, y_credit_treinamento, X_credit_teste, y_credit_teste = pkl.load(f)"
   ]
  },
  {
   "cell_type": "code",
   "execution_count": 7,
   "metadata": {},
   "outputs": [],
   "source": [
    "# concatenando as bases de treinamento e teste\n",
    "\n",
    "X_credit = np.concatenate((X_credit_treinamento, X_credit_teste), axis=0)\n",
    "y_credit = np.concatenate((y_credit_treinamento, y_credit_teste), axis=0)"
   ]
  },
  {
   "cell_type": "code",
   "execution_count": 8,
   "metadata": {},
   "outputs": [
    {
     "data": {
      "text/plain": [
       "((2000, 3), (2000,))"
      ]
     },
     "execution_count": 8,
     "metadata": {},
     "output_type": "execute_result"
    }
   ],
   "source": [
    "X_credit.shape, y_credit.shape"
   ]
  },
  {
   "cell_type": "code",
   "execution_count": 11,
   "metadata": {},
   "outputs": [
    {
     "data": {
      "text/plain": [
       "MLPClassifier(batch_size=56)"
      ]
     },
     "execution_count": 11,
     "metadata": {},
     "output_type": "execute_result"
    }
   ],
   "source": [
    "# criação de um classificador com o algoritmo de Redes Neurais com os melhores parametros ja testados\n",
    "classificador_NN = MLPClassifier(activation='relu',\n",
    "                                 solver='adam', \n",
    "                                 batch_size=56 )\n",
    "\n",
    "# treinamento do classificador com a base de dados completa                                 \n",
    "classificador_NN.fit(X_credit, y_credit)"
   ]
  },
  {
   "cell_type": "code",
   "execution_count": 12,
   "metadata": {},
   "outputs": [
    {
     "data": {
      "text/plain": [
       "DecisionTreeClassifier(criterion='entropy', min_samples_split=5)"
      ]
     },
     "execution_count": 12,
     "metadata": {},
     "output_type": "execute_result"
    }
   ],
   "source": [
    "# criação de um classificador com o algoritmo de Árvore de Decisão com os melhores parametros ja testados\n",
    "classificador_AD = DecisionTreeClassifier(criterion='entropy',\n",
    "                                          min_samples_leaf=1,\n",
    "                                          min_samples_split=5,\n",
    "                                          splitter='best')\n",
    "\n",
    "# treinamento do classificador com a base de dados completa\n",
    "classificador_AD.fit(X_credit, y_credit)"
   ]
  },
  {
   "cell_type": "code",
   "execution_count": 13,
   "metadata": {},
   "outputs": [
    {
     "data": {
      "text/plain": [
       "SVC(C=2.0)"
      ]
     },
     "execution_count": 13,
     "metadata": {},
     "output_type": "execute_result"
    }
   ],
   "source": [
    "# criação de um classificador com o algoritmo de SVM com os melhores parametros ja testados\n",
    "classificador_SVM = SVC(kernel='rbf',\n",
    "                        C=2.0)\n",
    "\n",
    "# treinamento do classificador com a base de dados completa\n",
    "classificador_SVM.fit(X_credit, y_credit)"
   ]
  },
  {
   "cell_type": "code",
   "execution_count": 14,
   "metadata": {},
   "outputs": [],
   "source": [
    "# salvando os classificadores em um arquivo pickle .sav ( extensão do sklearn )\n",
    "\n",
    "pkl.dump(classificador_NN, open('./data/classificador_NN.sav', 'wb'))      \n",
    "pkl.dump(classificador_AD, open('./data/classificador_AD.sav', 'wb'))      \n",
    "pkl.dump(classificador_SVM, open('./data/classificador_SVM.sav', 'wb'))    "
   ]
  }
 ],
 "metadata": {
  "interpreter": {
   "hash": "ad2bdc8ecc057115af97d19610ffacc2b4e99fae6737bb82f5d7fb13d2f2c186"
  },
  "kernelspec": {
   "display_name": "Python 3.8.8 ('base')",
   "language": "python",
   "name": "python3"
  },
  "language_info": {
   "codemirror_mode": {
    "name": "ipython",
    "version": 3
   },
   "file_extension": ".py",
   "mimetype": "text/x-python",
   "name": "python",
   "nbconvert_exporter": "python",
   "pygments_lexer": "ipython3",
   "version": "3.8.8"
  },
  "orig_nbformat": 4
 },
 "nbformat": 4,
 "nbformat_minor": 2
}
