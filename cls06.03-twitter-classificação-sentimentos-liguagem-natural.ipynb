{
 "cells": [
  {
   "cell_type": "code",
   "execution_count": 1,
   "metadata": {},
   "outputs": [],
   "source": [
    "# importação das bibliotecas necessarias\n",
    "\n",
    "from sklearn.metrics import accuracy_score        # acuracia do modelo (avaliação)\n",
    "from sklearn.metrics import confusion_matrix      # matriz confusão (avaliação)\n",
    "from spacy.lang.pt import STOP_WORDS              # stop_word\n",
    "import matplotlib.pyplot as plt                   # visualização   \n",
    "import pandas as pd                               # manipulação dados\n",
    "import numpy as np                                # calculos numericos\n",
    "import seaborn as sns                             # visualização\n",
    "import string                                     # manipulação strings\n",
    "import spacy                                      # liguagem natural\n",
    "import random                                     # valores aleatórios\n",
    "import re                                         # expressão regular\n",
    "\n",
    "# ignorar os warnings de depreciação de metodos\n",
    "import warnings\n",
    "warnings.simplefilter(\"ignore\")"
   ]
  },
  {
   "cell_type": "code",
   "execution_count": 19,
   "metadata": {},
   "outputs": [],
   "source": [
    "# carregamento da base de dados\n",
    "\n",
    "bd_treino = pd.read_csv('./data/twitter_train.csv', delimiter=';')\n",
    "bd_teste = pd.read_csv('./data/twitter_test.csv', delimiter=';')"
   ]
  },
  {
   "cell_type": "code",
   "execution_count": 5,
   "metadata": {},
   "outputs": [
    {
     "data": {
      "text/html": [
       "<div>\n",
       "<style scoped>\n",
       "    .dataframe tbody tr th:only-of-type {\n",
       "        vertical-align: middle;\n",
       "    }\n",
       "\n",
       "    .dataframe tbody tr th {\n",
       "        vertical-align: top;\n",
       "    }\n",
       "\n",
       "    .dataframe thead th {\n",
       "        text-align: right;\n",
       "    }\n",
       "</style>\n",
       "<table border=\"1\" class=\"dataframe\">\n",
       "  <thead>\n",
       "    <tr style=\"text-align: right;\">\n",
       "      <th></th>\n",
       "      <th>id</th>\n",
       "      <th>tweet_text</th>\n",
       "      <th>tweet_date</th>\n",
       "      <th>sentiment</th>\n",
       "      <th>query_used</th>\n",
       "    </tr>\n",
       "  </thead>\n",
       "  <tbody>\n",
       "    <tr>\n",
       "      <th>0</th>\n",
       "      <td>1050785521201541121</td>\n",
       "      <td>@Laranjito76 A pessoa certa para isso seria o ...</td>\n",
       "      <td>Fri Oct 12 16:29:25 +0000 2018</td>\n",
       "      <td>1</td>\n",
       "      <td>:)</td>\n",
       "    </tr>\n",
       "    <tr>\n",
       "      <th>1</th>\n",
       "      <td>1050785431955140608</td>\n",
       "      <td>@behin_d_curtain Para mim, é precisamente o co...</td>\n",
       "      <td>Fri Oct 12 16:29:04 +0000 2018</td>\n",
       "      <td>1</td>\n",
       "      <td>:)</td>\n",
       "    </tr>\n",
       "    <tr>\n",
       "      <th>2</th>\n",
       "      <td>1050785401248645120</td>\n",
       "      <td>Vou fazer um video hoje... estou pensando em f...</td>\n",
       "      <td>Fri Oct 12 16:28:56 +0000 2018</td>\n",
       "      <td>1</td>\n",
       "      <td>:)</td>\n",
       "    </tr>\n",
       "    <tr>\n",
       "      <th>3</th>\n",
       "      <td>1050785370982547461</td>\n",
       "      <td>aaaaaaaa amei tanto essas polaroids, nem sei e...</td>\n",
       "      <td>Fri Oct 12 16:28:49 +0000 2018</td>\n",
       "      <td>1</td>\n",
       "      <td>:)</td>\n",
       "    </tr>\n",
       "    <tr>\n",
       "      <th>4</th>\n",
       "      <td>1050785368902131713</td>\n",
       "      <td>Valoriza o coração do menininho que vc tem. El...</td>\n",
       "      <td>Fri Oct 12 16:28:49 +0000 2018</td>\n",
       "      <td>1</td>\n",
       "      <td>:)</td>\n",
       "    </tr>\n",
       "  </tbody>\n",
       "</table>\n",
       "</div>"
      ],
      "text/plain": [
       "                    id                                         tweet_text  \\\n",
       "0  1050785521201541121  @Laranjito76 A pessoa certa para isso seria o ...   \n",
       "1  1050785431955140608  @behin_d_curtain Para mim, é precisamente o co...   \n",
       "2  1050785401248645120  Vou fazer um video hoje... estou pensando em f...   \n",
       "3  1050785370982547461  aaaaaaaa amei tanto essas polaroids, nem sei e...   \n",
       "4  1050785368902131713  Valoriza o coração do menininho que vc tem. El...   \n",
       "\n",
       "                       tweet_date  sentiment query_used  \n",
       "0  Fri Oct 12 16:29:25 +0000 2018          1         :)  \n",
       "1  Fri Oct 12 16:29:04 +0000 2018          1         :)  \n",
       "2  Fri Oct 12 16:28:56 +0000 2018          1         :)  \n",
       "3  Fri Oct 12 16:28:49 +0000 2018          1         :)  \n",
       "4  Fri Oct 12 16:28:49 +0000 2018          1         :)  "
      ]
     },
     "execution_count": 5,
     "metadata": {},
     "output_type": "execute_result"
    }
   ],
   "source": [
    "# primeiros registros\n",
    "\n",
    "bd_treino.head()"
   ]
  },
  {
   "cell_type": "code",
   "execution_count": 6,
   "metadata": {},
   "outputs": [
    {
     "data": {
      "text/html": [
       "<div>\n",
       "<style scoped>\n",
       "    .dataframe tbody tr th:only-of-type {\n",
       "        vertical-align: middle;\n",
       "    }\n",
       "\n",
       "    .dataframe tbody tr th {\n",
       "        vertical-align: top;\n",
       "    }\n",
       "\n",
       "    .dataframe thead th {\n",
       "        text-align: right;\n",
       "    }\n",
       "</style>\n",
       "<table border=\"1\" class=\"dataframe\">\n",
       "  <thead>\n",
       "    <tr style=\"text-align: right;\">\n",
       "      <th></th>\n",
       "      <th>id</th>\n",
       "      <th>tweet_text</th>\n",
       "      <th>tweet_date</th>\n",
       "      <th>sentiment</th>\n",
       "      <th>query_used</th>\n",
       "    </tr>\n",
       "  </thead>\n",
       "  <tbody>\n",
       "    <tr>\n",
       "      <th>0</th>\n",
       "      <td>1029536486021099522</td>\n",
       "      <td>@Gazo1a Nossa! Muito obrigada :)</td>\n",
       "      <td>Wed Aug 15 01:13:20 +0000 2018</td>\n",
       "      <td>1</td>\n",
       "      <td>:)</td>\n",
       "    </tr>\n",
       "    <tr>\n",
       "      <th>1</th>\n",
       "      <td>1029536496368406528</td>\n",
       "      <td>@BerzGamer vai pa puta que te pariu :)</td>\n",
       "      <td>Wed Aug 15 01:13:23 +0000 2018</td>\n",
       "      <td>1</td>\n",
       "      <td>:)</td>\n",
       "    </tr>\n",
       "    <tr>\n",
       "      <th>2</th>\n",
       "      <td>1029536531655131137</td>\n",
       "      <td>QUER MAIS DESCONTOS? (14/08) ⭐⭐⭐⭐⭐ 🌐 Confira n...</td>\n",
       "      <td>Wed Aug 15 01:13:31 +0000 2018</td>\n",
       "      <td>1</td>\n",
       "      <td>:)</td>\n",
       "    </tr>\n",
       "    <tr>\n",
       "      <th>3</th>\n",
       "      <td>1029536560117678081</td>\n",
       "      <td>EU VOU PEGAR VCS, ME AJUDEM GALERA, PELO AMOR ...</td>\n",
       "      <td>Wed Aug 15 01:13:38 +0000 2018</td>\n",
       "      <td>1</td>\n",
       "      <td>:)</td>\n",
       "    </tr>\n",
       "    <tr>\n",
       "      <th>4</th>\n",
       "      <td>1029536605852377088</td>\n",
       "      <td>Estávamos em casa do Zé e eu estava a morrer d...</td>\n",
       "      <td>Wed Aug 15 01:13:49 +0000 2018</td>\n",
       "      <td>1</td>\n",
       "      <td>:)</td>\n",
       "    </tr>\n",
       "  </tbody>\n",
       "</table>\n",
       "</div>"
      ],
      "text/plain": [
       "                    id                                         tweet_text  \\\n",
       "0  1029536486021099522                   @Gazo1a Nossa! Muito obrigada :)   \n",
       "1  1029536496368406528             @BerzGamer vai pa puta que te pariu :)   \n",
       "2  1029536531655131137  QUER MAIS DESCONTOS? (14/08) ⭐⭐⭐⭐⭐ 🌐 Confira n...   \n",
       "3  1029536560117678081  EU VOU PEGAR VCS, ME AJUDEM GALERA, PELO AMOR ...   \n",
       "4  1029536605852377088  Estávamos em casa do Zé e eu estava a morrer d...   \n",
       "\n",
       "                       tweet_date  sentiment query_used  \n",
       "0  Wed Aug 15 01:13:20 +0000 2018          1         :)  \n",
       "1  Wed Aug 15 01:13:23 +0000 2018          1         :)  \n",
       "2  Wed Aug 15 01:13:31 +0000 2018          1         :)  \n",
       "3  Wed Aug 15 01:13:38 +0000 2018          1         :)  \n",
       "4  Wed Aug 15 01:13:49 +0000 2018          1         :)  "
      ]
     },
     "execution_count": 6,
     "metadata": {},
     "output_type": "execute_result"
    }
   ],
   "source": [
    "# primeiros registros teste\n",
    "\n",
    "bd_teste.head()"
   ]
  },
  {
   "cell_type": "code",
   "execution_count": 7,
   "metadata": {},
   "outputs": [
    {
     "data": {
      "image/png": "[encoded data removed]",
      "text/plain": [
       "<Figure size 432x288 with 1 Axes>"
      ]
     },
     "metadata": {
      "needs_background": "light"
     },
     "output_type": "display_data"
    }
   ],
   "source": [
    "# visualização dos grupos ['emocao']\n",
    "\n",
    "sns.countplot(bd_treino['sentiment'], label='Contagem');"
   ]
  },
  {
   "cell_type": "code",
   "execution_count": 6,
   "metadata": {},
   "outputs": [],
   "source": [
    "# pre processamento de texto"
   ]
  },
  {
   "cell_type": "code",
   "execution_count": 20,
   "metadata": {},
   "outputs": [],
   "source": [
    "# retirando os atributos que não usados\n",
    "\n",
    "bd_treino.drop(['id', 'tweet_date', 'query_used'], inplace=True, axis=1)\n",
    "bd_teste.drop(['id', 'tweet_date', 'query_used'], inplace=True, axis=1)"
   ]
  },
  {
   "cell_type": "code",
   "execution_count": 16,
   "metadata": {},
   "outputs": [
    {
     "data": {
      "text/html": [
       "<div>\n",
       "<style scoped>\n",
       "    .dataframe tbody tr th:only-of-type {\n",
       "        vertical-align: middle;\n",
       "    }\n",
       "\n",
       "    .dataframe tbody tr th {\n",
       "        vertical-align: top;\n",
       "    }\n",
       "\n",
       "    .dataframe thead th {\n",
       "        text-align: right;\n",
       "    }\n",
       "</style>\n",
       "<table border=\"1\" class=\"dataframe\">\n",
       "  <thead>\n",
       "    <tr style=\"text-align: right;\">\n",
       "      <th></th>\n",
       "      <th>tweet_text</th>\n",
       "      <th>sentiment</th>\n",
       "    </tr>\n",
       "  </thead>\n",
       "  <tbody>\n",
       "    <tr>\n",
       "      <th>0</th>\n",
       "      <td>@Laranjito76 A pessoa certa para isso seria o ...</td>\n",
       "      <td>1</td>\n",
       "    </tr>\n",
       "    <tr>\n",
       "      <th>1</th>\n",
       "      <td>@behin_d_curtain Para mim, é precisamente o co...</td>\n",
       "      <td>1</td>\n",
       "    </tr>\n",
       "    <tr>\n",
       "      <th>2</th>\n",
       "      <td>Vou fazer um video hoje... estou pensando em f...</td>\n",
       "      <td>1</td>\n",
       "    </tr>\n",
       "    <tr>\n",
       "      <th>3</th>\n",
       "      <td>aaaaaaaa amei tanto essas polaroids, nem sei e...</td>\n",
       "      <td>1</td>\n",
       "    </tr>\n",
       "    <tr>\n",
       "      <th>4</th>\n",
       "      <td>Valoriza o coração do menininho que vc tem. El...</td>\n",
       "      <td>1</td>\n",
       "    </tr>\n",
       "  </tbody>\n",
       "</table>\n",
       "</div>"
      ],
      "text/plain": [
       "                                          tweet_text  sentiment\n",
       "0  @Laranjito76 A pessoa certa para isso seria o ...          1\n",
       "1  @behin_d_curtain Para mim, é precisamente o co...          1\n",
       "2  Vou fazer um video hoje... estou pensando em f...          1\n",
       "3  aaaaaaaa amei tanto essas polaroids, nem sei e...          1\n",
       "4  Valoriza o coração do menininho que vc tem. El...          1"
      ]
     },
     "execution_count": 16,
     "metadata": {},
     "output_type": "execute_result"
    }
   ],
   "source": [
    "# viz após treinamento\n",
    "\n",
    "bd_treino.head()"
   ]
  },
  {
   "cell_type": "code",
   "execution_count": 21,
   "metadata": {},
   "outputs": [
    {
     "data": {
      "text/html": [
       "<div>\n",
       "<style scoped>\n",
       "    .dataframe tbody tr th:only-of-type {\n",
       "        vertical-align: middle;\n",
       "    }\n",
       "\n",
       "    .dataframe tbody tr th {\n",
       "        vertical-align: top;\n",
       "    }\n",
       "\n",
       "    .dataframe thead th {\n",
       "        text-align: right;\n",
       "    }\n",
       "</style>\n",
       "<table border=\"1\" class=\"dataframe\">\n",
       "  <thead>\n",
       "    <tr style=\"text-align: right;\">\n",
       "      <th></th>\n",
       "      <th>tweet_text</th>\n",
       "      <th>sentiment</th>\n",
       "    </tr>\n",
       "  </thead>\n",
       "  <tbody>\n",
       "    <tr>\n",
       "      <th>0</th>\n",
       "      <td>@Gazo1a Nossa! Muito obrigada :)</td>\n",
       "      <td>1</td>\n",
       "    </tr>\n",
       "    <tr>\n",
       "      <th>1</th>\n",
       "      <td>@BerzGamer vai pa puta que te pariu :)</td>\n",
       "      <td>1</td>\n",
       "    </tr>\n",
       "    <tr>\n",
       "      <th>2</th>\n",
       "      <td>QUER MAIS DESCONTOS? (14/08) ⭐⭐⭐⭐⭐ 🌐 Confira n...</td>\n",
       "      <td>1</td>\n",
       "    </tr>\n",
       "    <tr>\n",
       "      <th>3</th>\n",
       "      <td>EU VOU PEGAR VCS, ME AJUDEM GALERA, PELO AMOR ...</td>\n",
       "      <td>1</td>\n",
       "    </tr>\n",
       "    <tr>\n",
       "      <th>4</th>\n",
       "      <td>Estávamos em casa do Zé e eu estava a morrer d...</td>\n",
       "      <td>1</td>\n",
       "    </tr>\n",
       "  </tbody>\n",
       "</table>\n",
       "</div>"
      ],
      "text/plain": [
       "                                          tweet_text  sentiment\n",
       "0                   @Gazo1a Nossa! Muito obrigada :)          1\n",
       "1             @BerzGamer vai pa puta que te pariu :)          1\n",
       "2  QUER MAIS DESCONTOS? (14/08) ⭐⭐⭐⭐⭐ 🌐 Confira n...          1\n",
       "3  EU VOU PEGAR VCS, ME AJUDEM GALERA, PELO AMOR ...          1\n",
       "4  Estávamos em casa do Zé e eu estava a morrer d...          1"
      ]
     },
     "execution_count": 21,
     "metadata": {},
     "output_type": "execute_result"
    }
   ],
   "source": [
    "bd_teste.head()"
   ]
  },
  {
   "cell_type": "code",
   "execution_count": 10,
   "metadata": {},
   "outputs": [
    {
     "data": {
      "image/png": "[encoded data removed]",
      "text/plain": [
       "<Figure size 432x288 with 2 Axes>"
      ]
     },
     "metadata": {
      "needs_background": "light"
     },
     "output_type": "display_data"
    }
   ],
   "source": [
    "# viz grafico\n",
    "\n",
    "sns.heatmap(pd.isnull(bd_treino));"
   ]
  },
  {
   "cell_type": "code",
   "execution_count": 23,
   "metadata": {},
   "outputs": [
    {
     "data": {
      "image/png": "[encoded data removed]",
      "text/plain": [
       "<Figure size 432x288 with 2 Axes>"
      ]
     },
     "metadata": {
      "needs_background": "light"
     },
     "output_type": "display_data"
    }
   ],
   "source": [
    "sns.heatmap(pd.isnull(bd_teste));"
   ]
  },
  {
   "cell_type": "code",
   "execution_count": 11,
   "metadata": {},
   "outputs": [
    {
     "data": {
      "text/plain": [
       "<spacy.lang.pt.Portuguese at 0x24126e45580>"
      ]
     },
     "execution_count": 11,
     "metadata": {},
     "output_type": "execute_result"
    }
   ],
   "source": [
    "# modelo em portugues\n",
    "\n",
    "pln = spacy.load('pt')\n",
    "pln"
   ]
  },
  {
   "cell_type": "code",
   "execution_count": 12,
   "metadata": {},
   "outputs": [],
   "source": [
    "# stop_words\n",
    "\n",
    "stop_words = STOP_WORDS"
   ]
  },
  {
   "cell_type": "code",
   "execution_count": 26,
   "metadata": {},
   "outputs": [],
   "source": [
    "def preprocessamento(text):\n",
    "  # Letras minúsculas\n",
    "  text = text.lower()\n",
    "\n",
    "  # Nome do usuário\n",
    "  text = re.sub(r\"@[A-Za-z0-9$-_@.&+]+\", ' ', text)\n",
    "\n",
    "  # URLs\n",
    "  text = re.sub(r\"https?://[A-Za-z0-9./]+\", ' ', text)\n",
    "\n",
    "  # Espaços em branco\n",
    "  text = re.sub(r\" +\", ' ', text)\n",
    "\n",
    "  # Emoticons\n",
    "  lista_emocoes = {':)': 'emocaopositiva',\n",
    "                   ':d': 'emocaopositiva',\n",
    "                   ':(': 'emocaonegativa'}\n",
    "  for emocao in lista_emocoes:\n",
    "    text = text.replace(emocao, lista_emocoes[emocao])\n",
    "\n",
    "  # Lematização\n",
    "  documento = pln(text)\n",
    "\n",
    "  lista = []\n",
    "  for token in documento:\n",
    "    lista.append(token.lemma_)\n",
    "  \n",
    "  # Stop words e pontuações\n",
    "  lista = [palavra for palavra in lista if palavra not in stop_words and palavra not in string.punctuation]\n",
    "  lista = ' '.join([str(elemento) for elemento in lista if not elemento.isdigit()])\n",
    "  \n",
    "  return lista"
   ]
  },
  {
   "cell_type": "code",
   "execution_count": 27,
   "metadata": {},
   "outputs": [],
   "source": [
    "# aplicando preprocessing"
   ]
  },
  {
   "cell_type": "code",
   "execution_count": 28,
   "metadata": {},
   "outputs": [],
   "source": [
    "# tratamento com a função preprocessamento\n",
    "\n",
    "bd_treino['tweet_text'] = bd_treino['tweet_text'].apply(preprocessamento)\n",
    "bd_teste['tweet_text'] = bd_teste['tweet_text'].apply(preprocessamento)\n"
   ]
  },
  {
   "cell_type": "code",
   "execution_count": 11,
   "metadata": {},
   "outputs": [
    {
     "data": {
      "text/plain": [
       "'aprender liguagem natural python brasilia'"
      ]
     },
     "execution_count": 11,
     "metadata": {},
     "output_type": "execute_result"
    }
   ],
   "source": [
    "# viz após preprocessing"
   ]
  },
  {
   "cell_type": "code",
   "execution_count": 29,
   "metadata": {},
   "outputs": [
    {
     "data": {
      "text/html": [
       "<div>\n",
       "<style scoped>\n",
       "    .dataframe tbody tr th:only-of-type {\n",
       "        vertical-align: middle;\n",
       "    }\n",
       "\n",
       "    .dataframe tbody tr th {\n",
       "        vertical-align: top;\n",
       "    }\n",
       "\n",
       "    .dataframe thead th {\n",
       "        text-align: right;\n",
       "    }\n",
       "</style>\n",
       "<table border=\"1\" class=\"dataframe\">\n",
       "  <thead>\n",
       "    <tr style=\"text-align: right;\">\n",
       "      <th></th>\n",
       "      <th>tweet_text</th>\n",
       "      <th>sentiment</th>\n",
       "    </tr>\n",
       "  </thead>\n",
       "  <tbody>\n",
       "    <tr>\n",
       "      <th>0</th>\n",
       "      <td>o pessoa certo parir seriar o valer e azeved...</td>\n",
       "      <td>1</td>\n",
       "    </tr>\n",
       "    <tr>\n",
       "      <th>1</th>\n",
       "      <td>parir mim precisamente o contrário emocaopos...</td>\n",
       "      <td>1</td>\n",
       "    </tr>\n",
       "    <tr>\n",
       "      <th>2</th>\n",
       "      <td>video hoje ... pensar falar sobrar o meter csg...</td>\n",
       "      <td>1</td>\n",
       "    </tr>\n",
       "    <tr>\n",
       "      <th>3</th>\n",
       "      <td>aaaaaaaa amar polaroids expressar o quantum to...</td>\n",
       "      <td>1</td>\n",
       "    </tr>\n",
       "    <tr>\n",
       "      <th>4</th>\n",
       "      <td>valorizar o coração menino vc diferente o sorr...</td>\n",
       "      <td>1</td>\n",
       "    </tr>\n",
       "  </tbody>\n",
       "</table>\n",
       "</div>"
      ],
      "text/plain": [
       "                                          tweet_text  sentiment\n",
       "0    o pessoa certo parir seriar o valer e azeved...          1\n",
       "1    parir mim precisamente o contrário emocaopos...          1\n",
       "2  video hoje ... pensar falar sobrar o meter csg...          1\n",
       "3  aaaaaaaa amar polaroids expressar o quantum to...          1\n",
       "4  valorizar o coração menino vc diferente o sorr...          1"
      ]
     },
     "execution_count": 29,
     "metadata": {},
     "output_type": "execute_result"
    }
   ],
   "source": [
    "bd_treino.head()"
   ]
  },
  {
   "cell_type": "code",
   "execution_count": 30,
   "metadata": {},
   "outputs": [
    {
     "data": {
      "text/html": [
       "<div>\n",
       "<style scoped>\n",
       "    .dataframe tbody tr th:only-of-type {\n",
       "        vertical-align: middle;\n",
       "    }\n",
       "\n",
       "    .dataframe tbody tr th {\n",
       "        vertical-align: top;\n",
       "    }\n",
       "\n",
       "    .dataframe thead th {\n",
       "        text-align: right;\n",
       "    }\n",
       "</style>\n",
       "<table border=\"1\" class=\"dataframe\">\n",
       "  <thead>\n",
       "    <tr style=\"text-align: right;\">\n",
       "      <th></th>\n",
       "      <th>tweet_text</th>\n",
       "      <th>sentiment</th>\n",
       "    </tr>\n",
       "  </thead>\n",
       "  <tbody>\n",
       "    <tr>\n",
       "      <th>0</th>\n",
       "      <td>obrigar emocaopositiva</td>\n",
       "      <td>1</td>\n",
       "    </tr>\n",
       "    <tr>\n",
       "      <th>1</th>\n",
       "      <td>pa puta parir emocaopositiva</td>\n",
       "      <td>1</td>\n",
       "    </tr>\n",
       "    <tr>\n",
       "      <th>2</th>\n",
       "      <td>querer desconto 14/08 ⭐ ⭐ ⭐ ⭐ ⭐ 🌐 conferir o l...</td>\n",
       "      <td>1</td>\n",
       "    </tr>\n",
       "    <tr>\n",
       "      <th>3</th>\n",
       "      <td>vcs ajudar galera pelar amor butera emocaoposi...</td>\n",
       "      <td>1</td>\n",
       "    </tr>\n",
       "    <tr>\n",
       "      <th>4</th>\n",
       "      <td>casar zé e o morrer sono chegar o casar e fica...</td>\n",
       "      <td>1</td>\n",
       "    </tr>\n",
       "  </tbody>\n",
       "</table>\n",
       "</div>"
      ],
      "text/plain": [
       "                                          tweet_text  sentiment\n",
       "0                             obrigar emocaopositiva          1\n",
       "1                       pa puta parir emocaopositiva          1\n",
       "2  querer desconto 14/08 ⭐ ⭐ ⭐ ⭐ ⭐ 🌐 conferir o l...          1\n",
       "3  vcs ajudar galera pelar amor butera emocaoposi...          1\n",
       "4  casar zé e o morrer sono chegar o casar e fica...          1"
      ]
     },
     "execution_count": 30,
     "metadata": {},
     "output_type": "execute_result"
    }
   ],
   "source": [
    "bd_teste.head()"
   ]
  },
  {
   "cell_type": "code",
   "execution_count": 31,
   "metadata": {},
   "outputs": [],
   "source": [
    "base_dados_treinamento_final = []\n",
    "\n",
    "for texto, emocao in zip(bd_treino['tweet_text'], bd_treino['sentiment']):\n",
    "  \n",
    "  if emocao == 1:\n",
    "    dic = ({'POSITIVO': True, 'NEGATIVO': False})\n",
    "  \n",
    "  elif emocao == 0:\n",
    "    dic = ({'POSITIVO': False, 'NEGATIVO': True})\n",
    "\n",
    "  base_dados_treinamento_final.append([texto, dic.copy()])"
   ]
  },
  {
   "cell_type": "code",
   "execution_count": 32,
   "metadata": {},
   "outputs": [
    {
     "data": {
      "text/plain": [
       "[['  amigo to emocaopositiva', {'POSITIVO': True, 'NEGATIVO': False}],\n",
       " ['  bravo jairo emocaopositiva', {'POSITIVO': True, 'NEGATIVO': False}],\n",
       " ['  socorrer ksoaksosks achar to o caixa som :p',\n",
       "  {'POSITIVO': True, 'NEGATIVO': False}],\n",
       " ['  gostar fazenda emocaopositiva morrer medo galinha kkkkkkk',\n",
       "  {'POSITIVO': True, 'NEGATIVO': False}],\n",
       " ['amanhar venom emocaopositiva', {'POSITIVO': True, 'NEGATIVO': False}]]"
      ]
     },
     "execution_count": 32,
     "metadata": {},
     "output_type": "execute_result"
    }
   ],
   "source": [
    "# viz após tratameto\n",
    "\n",
    "base_dados_treinamento_final[5:10]"
   ]
  },
  {
   "cell_type": "code",
   "execution_count": 33,
   "metadata": {},
   "outputs": [],
   "source": [
    "# criação classificador"
   ]
  },
  {
   "cell_type": "code",
   "execution_count": 34,
   "metadata": {},
   "outputs": [],
   "source": [
    "# parametros do modelo\n",
    "\n",
    "model = spacy.blank('pt')\n",
    "\n",
    "categorias = model.create_pipe('textcat')\n",
    "categorias.add_label('POSITIVO')\n",
    "categorias.add_label('NEGATIVO')\n",
    "model.add_pipe(categorias)\n"
   ]
  },
  {
   "cell_type": "code",
   "execution_count": 56,
   "metadata": {},
   "outputs": [
    {
     "name": "stdout",
     "output_type": "stream",
     "text": [
      "{'textcat': 6.629547314986505e-07}\n"
     ]
    }
   ],
   "source": [
    "# treinamento do modelo\n",
    "\n",
    "historico = []\n",
    "model.begin_training()\n",
    "\n",
    "for epoch in range(5):\n",
    "    \n",
    "    random.shuffle(base_dados_treinamento_final)\n",
    "    losses = {}\n",
    "\n",
    "    for batch in spacy.util.minibatch(base_dados_treinamento_final, 512):\n",
    "        \n",
    "        textos = [model(texto) for texto, entities in batch]\n",
    "        annotations = [{'cats':entities} for texto, entities in batch]\n",
    "        model.update(textos, annotations, losses=losses)\n",
    "        historico.append(losses)\n",
    "\n",
    "    if epoch % 5 == 0:\n",
    "        print(losses)"
   ]
  },
  {
   "cell_type": "code",
   "execution_count": 57,
   "metadata": {},
   "outputs": [],
   "source": [
    " # lista com losses do modelo\n",
    "\n",
    "historico_loss = []\n",
    "for i in historico:\n",
    "    historico_loss.append(i.get('textcat'))"
   ]
  },
  {
   "cell_type": "code",
   "execution_count": 58,
   "metadata": {},
   "outputs": [
    {
     "data": {
      "text/plain": [
       "array([6.62954731e-07, 6.62954731e-07, 6.62954731e-07, 6.62954731e-07,\n",
       "       6.62954731e-07, 6.62954731e-07, 6.62954731e-07, 6.62954731e-07,\n",
       "       6.62954731e-07, 6.62954731e-07, 6.62954731e-07, 6.62954731e-07,\n",
       "       6.62954731e-07, 6.62954731e-07, 6.62954731e-07, 6.62954731e-07,\n",
       "       6.62954731e-07, 6.62954731e-07, 6.62954731e-07, 6.62954731e-07,\n",
       "       6.62954731e-07, 6.62954731e-07, 6.62954731e-07, 6.62954731e-07,\n",
       "       6.62954731e-07, 6.62954731e-07, 6.62954731e-07, 6.62954731e-07,\n",
       "       6.62954731e-07, 6.62954731e-07, 6.62954731e-07, 6.62954731e-07,\n",
       "       6.62954731e-07, 6.62954731e-07, 6.62954731e-07, 6.62954731e-07,\n",
       "       6.62954731e-07, 6.62954731e-07, 6.62954731e-07, 6.62954731e-07,\n",
       "       6.62954731e-07, 6.62954731e-07, 6.62954731e-07, 6.62954731e-07,\n",
       "       6.62954731e-07, 6.62954731e-07, 6.62954731e-07, 6.62954731e-07,\n",
       "       6.62954731e-07, 6.62954731e-07, 6.62954731e-07, 6.62954731e-07,\n",
       "       6.62954731e-07, 6.62954731e-07, 6.62954731e-07, 6.62954731e-07,\n",
       "       6.62954731e-07, 6.62954731e-07, 6.62954731e-07, 6.62954731e-07,\n",
       "       6.62954731e-07, 6.62954731e-07, 6.62954731e-07, 6.62954731e-07,\n",
       "       6.62954731e-07, 6.62954731e-07, 6.62954731e-07, 6.62954731e-07,\n",
       "       6.62954731e-07, 6.62954731e-07, 6.62954731e-07, 6.62954731e-07,\n",
       "       6.62954731e-07, 6.62954731e-07, 6.62954731e-07, 6.62954731e-07,\n",
       "       6.62954731e-07, 6.62954731e-07, 6.62954731e-07, 6.62954731e-07,\n",
       "       6.62954731e-07, 6.62954731e-07, 6.62954731e-07, 6.62954731e-07,\n",
       "       6.62954731e-07, 6.62954731e-07, 6.62954731e-07, 6.62954731e-07,\n",
       "       6.62954731e-07, 6.62954731e-07, 6.62954731e-07, 6.62954731e-07,\n",
       "       6.62954731e-07, 6.62954731e-07, 6.62954731e-07, 6.62954731e-07,\n",
       "       6.62954731e-07, 6.62954731e-07, 1.49689923e-06, 1.49689923e-06,\n",
       "       1.49689923e-06, 1.49689923e-06, 1.49689923e-06, 1.49689923e-06,\n",
       "       1.49689923e-06, 1.49689923e-06, 1.49689923e-06, 1.49689923e-06,\n",
       "       1.49689923e-06, 1.49689923e-06, 1.49689923e-06, 1.49689923e-06,\n",
       "       1.49689923e-06, 1.49689923e-06, 1.49689923e-06, 1.49689923e-06,\n",
       "       1.49689923e-06, 1.49689923e-06, 1.49689923e-06, 1.49689923e-06,\n",
       "       1.49689923e-06, 1.49689923e-06, 1.49689923e-06, 1.49689923e-06,\n",
       "       1.49689923e-06, 1.49689923e-06, 1.49689923e-06, 1.49689923e-06,\n",
       "       1.49689923e-06, 1.49689923e-06, 1.49689923e-06, 1.49689923e-06,\n",
       "       1.49689923e-06, 1.49689923e-06, 1.49689923e-06, 1.49689923e-06,\n",
       "       1.49689923e-06, 1.49689923e-06, 1.49689923e-06, 1.49689923e-06,\n",
       "       1.49689923e-06, 1.49689923e-06, 1.49689923e-06, 1.49689923e-06,\n",
       "       1.49689923e-06, 1.49689923e-06, 1.49689923e-06, 1.49689923e-06,\n",
       "       1.49689923e-06, 1.49689923e-06, 1.49689923e-06, 1.49689923e-06,\n",
       "       1.49689923e-06, 1.49689923e-06, 1.49689923e-06, 1.49689923e-06,\n",
       "       1.49689923e-06, 1.49689923e-06, 1.49689923e-06, 1.49689923e-06,\n",
       "       1.49689923e-06, 1.49689923e-06, 1.49689923e-06, 1.49689923e-06,\n",
       "       1.49689923e-06, 1.49689923e-06, 1.49689923e-06, 1.49689923e-06,\n",
       "       1.49689923e-06, 1.49689923e-06, 1.49689923e-06, 1.49689923e-06,\n",
       "       1.49689923e-06, 1.49689923e-06, 1.49689923e-06, 1.49689923e-06,\n",
       "       1.49689923e-06, 1.49689923e-06, 1.49689923e-06, 1.49689923e-06,\n",
       "       1.49689923e-06, 1.49689923e-06, 1.49689923e-06, 1.49689923e-06,\n",
       "       1.49689923e-06, 1.49689923e-06, 1.49689923e-06, 1.49689923e-06,\n",
       "       1.49689923e-06, 1.49689923e-06, 1.49689923e-06, 1.49689923e-06,\n",
       "       1.49689923e-06, 1.49689923e-06, 1.49689923e-06, 1.49689923e-06,\n",
       "       8.83931614e-07, 8.83931614e-07, 8.83931614e-07, 8.83931614e-07,\n",
       "       8.83931614e-07, 8.83931614e-07, 8.83931614e-07, 8.83931614e-07,\n",
       "       8.83931614e-07, 8.83931614e-07, 8.83931614e-07, 8.83931614e-07,\n",
       "       8.83931614e-07, 8.83931614e-07, 8.83931614e-07, 8.83931614e-07,\n",
       "       8.83931614e-07, 8.83931614e-07, 8.83931614e-07, 8.83931614e-07,\n",
       "       8.83931614e-07, 8.83931614e-07, 8.83931614e-07, 8.83931614e-07,\n",
       "       8.83931614e-07, 8.83931614e-07, 8.83931614e-07, 8.83931614e-07,\n",
       "       8.83931614e-07, 8.83931614e-07, 8.83931614e-07, 8.83931614e-07,\n",
       "       8.83931614e-07, 8.83931614e-07, 8.83931614e-07, 8.83931614e-07,\n",
       "       8.83931614e-07, 8.83931614e-07, 8.83931614e-07, 8.83931614e-07,\n",
       "       8.83931614e-07, 8.83931614e-07, 8.83931614e-07, 8.83931614e-07,\n",
       "       8.83931614e-07, 8.83931614e-07, 8.83931614e-07, 8.83931614e-07,\n",
       "       8.83931614e-07, 8.83931614e-07, 8.83931614e-07, 8.83931614e-07,\n",
       "       8.83931614e-07, 8.83931614e-07, 8.83931614e-07, 8.83931614e-07,\n",
       "       8.83931614e-07, 8.83931614e-07, 8.83931614e-07, 8.83931614e-07,\n",
       "       8.83931614e-07, 8.83931614e-07, 8.83931614e-07, 8.83931614e-07,\n",
       "       8.83931614e-07, 8.83931614e-07, 8.83931614e-07, 8.83931614e-07,\n",
       "       8.83931614e-07, 8.83931614e-07, 8.83931614e-07, 8.83931614e-07,\n",
       "       8.83931614e-07, 8.83931614e-07, 8.83931614e-07, 8.83931614e-07,\n",
       "       8.83931614e-07, 8.83931614e-07, 8.83931614e-07, 8.83931614e-07,\n",
       "       8.83931614e-07, 8.83931614e-07, 8.83931614e-07, 8.83931614e-07,\n",
       "       8.83931614e-07, 8.83931614e-07, 8.83931614e-07, 8.83931614e-07,\n",
       "       8.83931614e-07, 8.83931614e-07, 8.83931614e-07, 8.83931614e-07,\n",
       "       8.83931614e-07, 8.83931614e-07, 8.83931614e-07, 8.83931614e-07,\n",
       "       8.83931614e-07, 8.83931614e-07, 4.69718628e-07, 4.69718628e-07,\n",
       "       4.69718628e-07, 4.69718628e-07, 4.69718628e-07, 4.69718628e-07,\n",
       "       4.69718628e-07, 4.69718628e-07, 4.69718628e-07, 4.69718628e-07,\n",
       "       4.69718628e-07, 4.69718628e-07, 4.69718628e-07, 4.69718628e-07,\n",
       "       4.69718628e-07, 4.69718628e-07, 4.69718628e-07, 4.69718628e-07,\n",
       "       4.69718628e-07, 4.69718628e-07, 4.69718628e-07, 4.69718628e-07,\n",
       "       4.69718628e-07, 4.69718628e-07, 4.69718628e-07, 4.69718628e-07,\n",
       "       4.69718628e-07, 4.69718628e-07, 4.69718628e-07, 4.69718628e-07,\n",
       "       4.69718628e-07, 4.69718628e-07, 4.69718628e-07, 4.69718628e-07,\n",
       "       4.69718628e-07, 4.69718628e-07, 4.69718628e-07, 4.69718628e-07,\n",
       "       4.69718628e-07, 4.69718628e-07, 4.69718628e-07, 4.69718628e-07,\n",
       "       4.69718628e-07, 4.69718628e-07, 4.69718628e-07, 4.69718628e-07,\n",
       "       4.69718628e-07, 4.69718628e-07, 4.69718628e-07, 4.69718628e-07,\n",
       "       4.69718628e-07, 4.69718628e-07, 4.69718628e-07, 4.69718628e-07,\n",
       "       4.69718628e-07, 4.69718628e-07, 4.69718628e-07, 4.69718628e-07,\n",
       "       4.69718628e-07, 4.69718628e-07, 4.69718628e-07, 4.69718628e-07,\n",
       "       4.69718628e-07, 4.69718628e-07, 4.69718628e-07, 4.69718628e-07,\n",
       "       4.69718628e-07, 4.69718628e-07, 4.69718628e-07, 4.69718628e-07,\n",
       "       4.69718628e-07, 4.69718628e-07, 4.69718628e-07, 4.69718628e-07,\n",
       "       4.69718628e-07, 4.69718628e-07, 4.69718628e-07, 4.69718628e-07,\n",
       "       4.69718628e-07, 4.69718628e-07, 4.69718628e-07, 4.69718628e-07,\n",
       "       4.69718628e-07, 4.69718628e-07, 4.69718628e-07, 4.69718628e-07,\n",
       "       4.69718628e-07, 4.69718628e-07, 4.69718628e-07, 4.69718628e-07,\n",
       "       4.69718628e-07, 4.69718628e-07, 4.69718628e-07, 4.69718628e-07,\n",
       "       4.69718628e-07, 4.69718628e-07, 4.69718628e-07, 4.69718628e-07,\n",
       "       4.44035603e-07, 4.44035603e-07, 4.44035603e-07, 4.44035603e-07,\n",
       "       4.44035603e-07, 4.44035603e-07, 4.44035603e-07, 4.44035603e-07,\n",
       "       4.44035603e-07, 4.44035603e-07, 4.44035603e-07, 4.44035603e-07,\n",
       "       4.44035603e-07, 4.44035603e-07, 4.44035603e-07, 4.44035603e-07,\n",
       "       4.44035603e-07, 4.44035603e-07, 4.44035603e-07, 4.44035603e-07,\n",
       "       4.44035603e-07, 4.44035603e-07, 4.44035603e-07, 4.44035603e-07,\n",
       "       4.44035603e-07, 4.44035603e-07, 4.44035603e-07, 4.44035603e-07,\n",
       "       4.44035603e-07, 4.44035603e-07, 4.44035603e-07, 4.44035603e-07,\n",
       "       4.44035603e-07, 4.44035603e-07, 4.44035603e-07, 4.44035603e-07,\n",
       "       4.44035603e-07, 4.44035603e-07, 4.44035603e-07, 4.44035603e-07,\n",
       "       4.44035603e-07, 4.44035603e-07, 4.44035603e-07, 4.44035603e-07,\n",
       "       4.44035603e-07, 4.44035603e-07, 4.44035603e-07, 4.44035603e-07,\n",
       "       4.44035603e-07, 4.44035603e-07, 4.44035603e-07, 4.44035603e-07,\n",
       "       4.44035603e-07, 4.44035603e-07, 4.44035603e-07, 4.44035603e-07,\n",
       "       4.44035603e-07, 4.44035603e-07, 4.44035603e-07, 4.44035603e-07,\n",
       "       4.44035603e-07, 4.44035603e-07, 4.44035603e-07, 4.44035603e-07,\n",
       "       4.44035603e-07, 4.44035603e-07, 4.44035603e-07, 4.44035603e-07,\n",
       "       4.44035603e-07, 4.44035603e-07, 4.44035603e-07, 4.44035603e-07,\n",
       "       4.44035603e-07, 4.44035603e-07, 4.44035603e-07, 4.44035603e-07,\n",
       "       4.44035603e-07, 4.44035603e-07, 4.44035603e-07, 4.44035603e-07,\n",
       "       4.44035603e-07, 4.44035603e-07, 4.44035603e-07, 4.44035603e-07,\n",
       "       4.44035603e-07, 4.44035603e-07, 4.44035603e-07, 4.44035603e-07,\n",
       "       4.44035603e-07, 4.44035603e-07, 4.44035603e-07, 4.44035603e-07,\n",
       "       4.44035603e-07, 4.44035603e-07, 4.44035603e-07, 4.44035603e-07,\n",
       "       4.44035603e-07, 4.44035603e-07])"
      ]
     },
     "execution_count": 58,
     "metadata": {},
     "output_type": "execute_result"
    }
   ],
   "source": [
    "# conversão para array a lista de erros\n",
    "\n",
    "historico_loss = np.array(historico_loss)\n",
    "historico_loss"
   ]
  },
  {
   "cell_type": "code",
   "execution_count": 59,
   "metadata": {},
   "outputs": [
    {
     "data": {
      "image/png": "[encoded data removed]",
      "text/plain": [
       "<Figure size 432x288 with 1 Axes>"
      ]
     },
     "metadata": {
      "needs_background": "light"
     },
     "output_type": "display_data"
    }
   ],
   "source": [
    "# viz erro\n",
    "\n",
    "plt.plot(historico_loss)\n",
    "plt.title('Progressão do erro')\n",
    "plt.xlabel('Batches')\n",
    "plt.ylabel('Erro')\n",
    "plt.show();"
   ]
  },
  {
   "cell_type": "code",
   "execution_count": 60,
   "metadata": {},
   "outputs": [],
   "source": [
    "# salvando modelo\n",
    "\n",
    "model.to_disk('./data/modelo_twitter')"
   ]
  },
  {
   "cell_type": "code",
   "execution_count": 61,
   "metadata": {},
   "outputs": [
    {
     "data": {
      "text/plain": [
       "<spacy.lang.pt.Portuguese at 0x24162412520>"
      ]
     },
     "execution_count": 61,
     "metadata": {},
     "output_type": "execute_result"
    }
   ],
   "source": [
    "# carregando modelo\n",
    "\n",
    "model_carregado = spacy.load('./data/modelo_twitter')\n",
    "model_carregado"
   ]
  },
  {
   "cell_type": "code",
   "execution_count": 62,
   "metadata": {},
   "outputs": [
    {
     "data": {
      "text/plain": [
       "'  ficar feliz q recíproco emocaopositiva'"
      ]
     },
     "execution_count": 62,
     "metadata": {},
     "output_type": "execute_result"
    }
   ],
   "source": [
    "# texto positivo\n",
    "\n",
    "texto_positivo = bd_teste['tweet_text'][21]\n",
    "texto_positivo"
   ]
  },
  {
   "cell_type": "code",
   "execution_count": 63,
   "metadata": {},
   "outputs": [
    {
     "data": {
      "text/plain": [
       "  ficar feliz q recíproco emocaopositiva"
      ]
     },
     "execution_count": 63,
     "metadata": {},
     "output_type": "execute_result"
    }
   ],
   "source": [
    "# previsão\n",
    "\n",
    "prev = model_carregado(texto_positivo)\n",
    "prev"
   ]
  },
  {
   "cell_type": "code",
   "execution_count": 64,
   "metadata": {},
   "outputs": [
    {
     "data": {
      "text/plain": [
       "{'POSITIVO': 0.9999545812606812, 'NEGATIVO': 4.539787187241018e-05}"
      ]
     },
     "execution_count": 64,
     "metadata": {},
     "output_type": "execute_result"
    }
   ],
   "source": [
    "# categorias da previsão\n",
    "\n",
    "prev.cats"
   ]
  },
  {
   "cell_type": "code",
   "execution_count": 65,
   "metadata": {},
   "outputs": [
    {
     "data": {
      "text/plain": [
       "'gostar'"
      ]
     },
     "execution_count": 65,
     "metadata": {},
     "output_type": "execute_result"
    }
   ],
   "source": [
    "texto_positivo = 'eu gosto muito de você'\n",
    "texto_positivo = preprocessamento(texto_positivo)\n",
    "texto_positivo"
   ]
  },
  {
   "cell_type": "code",
   "execution_count": 66,
   "metadata": {},
   "outputs": [
    {
     "data": {
      "text/plain": [
       "{'POSITIVO': 0.012623820453882217, 'NEGATIVO': 0.9943988919258118}"
      ]
     },
     "execution_count": 66,
     "metadata": {},
     "output_type": "execute_result"
    }
   ],
   "source": [
    "model_carregado(texto_positivo).cats"
   ]
  },
  {
   "cell_type": "code",
   "execution_count": 67,
   "metadata": {},
   "outputs": [
    {
     "data": {
      "text/plain": [
       "'tô triste filmar mulan o mushu emocaonegativa'"
      ]
     },
     "execution_count": 67,
     "metadata": {},
     "output_type": "execute_result"
    }
   ],
   "source": [
    "# texto negativo\n",
    "\n",
    "bd_teste['tweet_text'][4000]"
   ]
  },
  {
   "cell_type": "code",
   "execution_count": 68,
   "metadata": {},
   "outputs": [
    {
     "data": {
      "text/plain": [
       "{'POSITIVO': 5.4001608077669516e-05, 'NEGATIVO': 0.9999545812606812}"
      ]
     },
     "execution_count": 68,
     "metadata": {},
     "output_type": "execute_result"
    }
   ],
   "source": [
    "# previsão texto negativo\n",
    "\n",
    "texto_negativo = bd_teste['tweet_text'][4000]\n",
    "previsao = model_carregado(texto_negativo)\n",
    "previsao.cats"
   ]
  },
  {
   "cell_type": "code",
   "execution_count": 69,
   "metadata": {},
   "outputs": [],
   "source": [
    "# Avaliação do modelo"
   ]
  },
  {
   "cell_type": "code",
   "execution_count": 70,
   "metadata": {},
   "outputs": [],
   "source": [
    "# previsões base teste\n",
    "\n",
    "previsoes = []\n",
    "\n",
    "for texto in bd_teste['tweet_text']:\n",
    "\n",
    "  previsao = model_carregado(texto)\n",
    "  previsoes.append(previsao.cats)"
   ]
  },
  {
   "cell_type": "code",
   "execution_count": 71,
   "metadata": {},
   "outputs": [],
   "source": [
    "# previsao base_teste\n",
    "\n",
    "previsoes_final = []\n",
    "\n",
    "for previsao in previsoes:\n",
    "\n",
    "  if previsao['POSITIVO'] > previsao['NEGATIVO']:\n",
    "    previsoes_final.append(1)\n",
    "  else:\n",
    "    previsoes_final.append(0)\n",
    "\n",
    "previsoes_final = np.array(previsoes_final)"
   ]
  },
  {
   "cell_type": "code",
   "execution_count": 72,
   "metadata": {},
   "outputs": [],
   "source": [
    "# conversão array\n",
    "\n",
    "respostas_reais = bd_teste['sentiment'].values"
   ]
  },
  {
   "cell_type": "code",
   "execution_count": 73,
   "metadata": {},
   "outputs": [
    {
     "data": {
      "text/plain": [
       "0.9976"
      ]
     },
     "execution_count": 73,
     "metadata": {},
     "output_type": "execute_result"
    }
   ],
   "source": [
    "# acuracia modelo\n",
    "\n",
    "accuracy_score(respostas_reais, previsoes_final)"
   ]
  },
  {
   "cell_type": "code",
   "execution_count": 74,
   "metadata": {},
   "outputs": [
    {
     "data": {
      "text/plain": [
       "<AxesSubplot:>"
      ]
     },
     "execution_count": 74,
     "metadata": {},
     "output_type": "execute_result"
    },
    {
     "data": {
      "image/png": "[encoded data removed]",
      "text/plain": [
       "<Figure size 432x288 with 2 Axes>"
      ]
     },
     "metadata": {
      "needs_background": "light"
     },
     "output_type": "display_data"
    }
   ],
   "source": [
    "# matriz de confusão\n",
    "\n",
    "cm = confusion_matrix(respostas_reais, previsoes_final)\n",
    "sns.heatmap(cm, annot=True)"
   ]
  }
 ],
 "metadata": {
  "interpreter": {
   "hash": "ad2bdc8ecc057115af97d19610ffacc2b4e99fae6737bb82f5d7fb13d2f2c186"
  },
  "kernelspec": {
   "display_name": "Python 3.8.8 ('base')",
   "language": "python",
   "name": "python3"
  },
  "language_info": {
   "codemirror_mode": {
    "name": "ipython",
    "version": 3
   },
   "file_extension": ".py",
   "mimetype": "text/x-python",
   "name": "python",
   "nbconvert_exporter": "python",
   "pygments_lexer": "ipython3",
   "version": "3.8.8"
  },
  "orig_nbformat": 4
 },
 "nbformat": 4,
 "nbformat_minor": 2
}
