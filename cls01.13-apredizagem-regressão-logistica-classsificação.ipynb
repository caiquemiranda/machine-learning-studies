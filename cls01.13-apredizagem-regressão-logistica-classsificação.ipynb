{
 "cells": [
  {
   "cell_type": "code",
   "execution_count": null,
   "metadata": {},
   "outputs": [],
   "source": [
    "# importando o módulo de aprendizado de máquina de Regressão Logística\n",
    "\n",
    "import pickle as pkl                                   # importando o módulo pickle\n",
    "from sklearn.linear_model import LogisticRegression    # importando o módulo de aprendizado de máquina de Regressão Logística"
   ]
  },
  {
   "cell_type": "code",
   "execution_count": null,
   "metadata": {},
   "outputs": [],
   "source": [
    "# leitura da base de dados que ja foram tratadas e salvas\n",
    "\n",
    "with open('./data/credit.pkl', 'rb') as f:\n",
    "    X_credit_treinamento, y_credit_treinamento, X_credit_teste, y_credit_teste = pkl.load(f)"
   ]
  },
  {
   "cell_type": "code",
   "execution_count": null,
   "metadata": {},
   "outputs": [],
   "source": []
  }
 ],
 "metadata": {
  "language_info": {
   "name": "python"
  },
  "orig_nbformat": 4
 },
 "nbformat": 4,
 "nbformat_minor": 2
}
