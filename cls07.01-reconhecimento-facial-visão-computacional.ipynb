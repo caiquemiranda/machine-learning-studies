{
 "cells": [
  {
   "cell_type": "code",
   "execution_count": null,
   "metadata": {},
   "outputs": [],
   "source": [
    "# importações necessarias\n",
    "\n",
    "\n",
    "import os                       # sstema operacional\n",
    "import zipfile                  # zip arquivos\n",
    "import numpy as np              # calculos matematicos\n",
    "from PIL import Image           # manipulação de imagens\n",
    "from google.colab import drive  # uso no google drive\n",
    "\n",
    "# drive.mount('/content/drive')\n"
   ]
  },
  {
   "cell_type": "code",
   "execution_count": null,
   "metadata": {},
   "outputs": [],
   "source": [
    "# carregando base\n",
    "\n",
    "path = './data/yalefaces.zip'\n",
    "zip_object = zipfile.ZipFile(file=path, mode='r')\n",
    "zip_object.extractall('./')\n",
    "zip_object.close()"
   ]
  },
  {
   "cell_type": "code",
   "execution_count": null,
   "metadata": {},
   "outputs": [],
   "source": [
    "# encontrando base\n",
    "\n",
    "os.listdir('./data/yalefaces/treinamento')"
   ]
  },
  {
   "cell_type": "code",
   "execution_count": null,
   "metadata": {},
   "outputs": [],
   "source": [
    "# carregando imagens\n",
    "\n",
    "def dados_imagem():\n",
    "\n",
    "  caminhos = [os.path.join('./data/yalefaces/treinamento', f) for f in os.listdir('/content/yalefaces/treinamento')]\n",
    "  faces = []\n",
    "  ids = []\n",
    "  \n",
    "  for caminho in caminhos:\n",
    "  \n",
    "    if caminho == './data/yalefaces/treinamento/.ipynb_checkpoints':\n",
    "      continue\n",
    "  \n",
    "    imagem = Image.open(caminho).convert('L')\n",
    "    imagem_np = np.array(imagem, 'uint8')\n",
    "    id = int(os.path.split(caminho)[1].split('.')[0].replace('subject', ''))\n",
    "    ids.append(id)\n",
    "    faces.append(imagem_np)\n",
    "  \n",
    "  return np.array(ids), faces"
   ]
  },
  {
   "cell_type": "code",
   "execution_count": null,
   "metadata": {},
   "outputs": [],
   "source": [
    "# ids carregamento\n",
    "\n",
    "ids, faces = dados_imagem()"
   ]
  },
  {
   "cell_type": "code",
   "execution_count": null,
   "metadata": {},
   "outputs": [],
   "source": [
    "# ids\n",
    "\n",
    "print(ids)"
   ]
  },
  {
   "cell_type": "code",
   "execution_count": null,
   "metadata": {},
   "outputs": [],
   "source": [
    "# primeira face\n",
    "\n",
    "print(faces[0])"
   ]
  },
  {
   "cell_type": "code",
   "execution_count": null,
   "metadata": {},
   "outputs": [],
   "source": [
    "# treino\n",
    "\n",
    "lbph = cv2.face.LBPHFaceRecognizer_create()\n",
    "lbph.train(faces, ids)\n",
    "lbph.write('classificadorLBPH.yml')"
   ]
  },
  {
   "cell_type": "code",
   "execution_count": null,
   "metadata": {},
   "outputs": [],
   "source": [
    "# classificação"
   ]
  },
  {
   "cell_type": "code",
   "execution_count": null,
   "metadata": {},
   "outputs": [],
   "source": [
    "# reconhecer\n",
    "\n",
    "reconhecedor = cv2.face.LBPHFaceRecognizer_create()\n",
    "reconhecedor.read('./data/classificadorLBPH.yml')"
   ]
  },
  {
   "cell_type": "code",
   "execution_count": null,
   "metadata": {},
   "outputs": [],
   "source": [
    "# teste\n",
    "\n",
    "imagem_teste = './data/yalefaces/teste/subject10.sad.gif'"
   ]
  },
  {
   "cell_type": "code",
   "execution_count": null,
   "metadata": {},
   "outputs": [],
   "source": [
    "# conversão\n",
    "\n",
    "imagem = Image.open(imagem_teste).convert('L')\n",
    "imagem_np = np.array(imagem, 'uint8')\n",
    "print(imagem_np)"
   ]
  },
  {
   "cell_type": "code",
   "execution_count": null,
   "metadata": {},
   "outputs": [],
   "source": [
    "# id\n",
    "\n",
    "idprevisto, _ = reconhecedor.predict(imagem_np)\n",
    "idprevisto"
   ]
  },
  {
   "cell_type": "code",
   "execution_count": null,
   "metadata": {},
   "outputs": [],
   "source": [
    "# id real\n",
    "\n",
    "idcorreto = int(os.path.split(imagem_teste)[1].split('.')[0].replace('subject', ''))\n",
    "idcorreto"
   ]
  },
  {
   "cell_type": "code",
   "execution_count": null,
   "metadata": {},
   "outputs": [],
   "source": [
    "# previsão\n",
    "\n",
    "cv2.putText(imagem_np, 'P: ' + str(idprevisto), (x,y + 30), cv2.FONT_HERSHEY_COMPLEX_SMALL, 1, (0,255,0))\n",
    "cv2.putText(imagem_np, 'C: ' + str(idcorreto), (x,y + 50), cv2.FONT_HERSHEY_COMPLEX_SMALL, 1, (0,255,0))\n",
    "cv2_imshow(imagem_np)"
   ]
  }
 ],
 "metadata": {
  "interpreter": {
   "hash": "4901aa111a1f8ee65d59e43e00b0197b31548dcc82f4deb85ae04b9509b05554"
  },
  "kernelspec": {
   "display_name": "Python 3.8.11 ('ars')",
   "language": "python",
   "name": "python3"
  },
  "language_info": {
   "codemirror_mode": {
    "name": "ipython",
    "version": 3
   },
   "file_extension": ".py",
   "mimetype": "text/x-python",
   "name": "python",
   "nbconvert_exporter": "python",
   "pygments_lexer": "ipython3",
   "version": "3.8.11"
  },
  "orig_nbformat": 4
 },
 "nbformat": 4,
 "nbformat_minor": 2
}
