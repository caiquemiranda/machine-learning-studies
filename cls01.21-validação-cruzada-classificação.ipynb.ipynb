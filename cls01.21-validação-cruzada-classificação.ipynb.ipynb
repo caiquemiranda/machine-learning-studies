{
 "cells": [
  {
   "cell_type": "code",
   "execution_count": 1,
   "metadata": {},
   "outputs": [],
   "source": [
    "# importações das bibliotecas\n",
    "\n",
    "# importação dos modulos com os algoritmos de classificação\n",
    "from sklearn.tree import DecisionTreeClassifier                             # importação do algoritmo de árvore de decisão\n",
    "from sklearn.ensemble import RandomForestClassifier                         # importação do algoritmo de floresta aleatória\n",
    "from sklearn.neighbors import KNeighborsClassifier                          # importação do algoritmo de vizinhos\n",
    "from sklearn.svm import SVC                                                 # importação do algoritmo de SVM\n",
    "from sklearn.linear_model import LogisticRegression                         # importação do algoritmo de regressão logística\n",
    "from sklearn.neural_network import MLPClassifier                            # importação do algoritmo de rede neural\n",
    "\n",
    "\n",
    "# importação dos modulos para avaliação de modelos\n",
    "from sklearn.model_selection import GridSearchCV                            # importação do GridSearchCV ( otimização em grid )\n",
    "from sklearn.model_selection import cross_val_score, KFold                  # importação do cross_val_score ( avaliação cruzada )\n",
    "from sklearn.metrics import accuracy_score                                  # importação do accuracy_score ( avaliação de precisão )\n",
    "from sklearn.metrics import confusion_matrix                                # importação do confusion_matrix ( matriz de confusão )\n",
    "from sklearn.metrics import classification_report                           # importação do classification_report ( relatório de classificação )\n",
    "\n",
    "\n",
    "# importação de modulos para manipulação de dados\n",
    "import pandas as pd                                                        # importação do pandas para manipulação de dados\n",
    "import pickle as pkl                                                       # importação do pickle para salvar o modelo\n",
    "import numpy as np                                                         # importação do numpy para manipulação de dados numericos\n",
    "import warnings                                                            # importação do warnings para não mostrar mensagens de aviso\n",
    "\n",
    "# não mostrar mensagens de aviso\n",
    "warnings.filterwarnings(\"ignore\")"
   ]
  },
  {
   "cell_type": "code",
   "execution_count": 2,
   "metadata": {},
   "outputs": [],
   "source": [
    "# baixando os dados ja tratandos e salvos em um arquivo pickle\n",
    "\n",
    "with open('./data/credit.pkl', 'rb') as f:\n",
    "    X_credit_treinamento, y_credit_treinamento, X_credit_teste, y_credit_teste = pkl.load(f)"
   ]
  },
  {
   "cell_type": "code",
   "execution_count": 5,
   "metadata": {},
   "outputs": [
    {
     "data": {
      "text/plain": [
       "((1500, 3), (1500,), (500, 3), (500,))"
      ]
     },
     "execution_count": 5,
     "metadata": {},
     "output_type": "execute_result"
    }
   ],
   "source": [
    "# tamanho dos dados\n",
    "\n",
    "X_credit_treinamento.shape, y_credit_treinamento.shape, X_credit_teste.shape, y_credit_teste.shape"
   ]
  },
  {
   "cell_type": "code",
   "execution_count": 3,
   "metadata": {},
   "outputs": [
    {
     "data": {
      "text/plain": [
       "(2000, 3)"
      ]
     },
     "execution_count": 3,
     "metadata": {},
     "output_type": "execute_result"
    }
   ],
   "source": [
    "# concatenando as bases de treinamento para uso de GridSearchCV\n",
    "\n",
    "X_credit = np.concatenate((X_credit_treinamento, X_credit_teste), axis=0)\n",
    "X_credit.shape"
   ]
  },
  {
   "cell_type": "code",
   "execution_count": 7,
   "metadata": {},
   "outputs": [
    {
     "data": {
      "text/plain": [
       "array([[-1.3754462 ,  0.50630999,  0.10980934],\n",
       "       [ 1.45826409, -1.64894017, -1.21501497],\n",
       "       [-0.79356829,  0.22531104, -0.43370226],\n",
       "       ...,\n",
       "       [ 1.37445674, -1.05746369, -1.12564819],\n",
       "       [-1.57087737, -0.6348826 , -0.36981671],\n",
       "       [-1.03572293, -0.93978209,  0.04244312]])"
      ]
     },
     "execution_count": 7,
     "metadata": {},
     "output_type": "execute_result"
    }
   ],
   "source": [
    "# dados completos para treinamento\n",
    "\n",
    "X_credit"
   ]
  },
  {
   "cell_type": "code",
   "execution_count": 4,
   "metadata": {},
   "outputs": [
    {
     "data": {
      "text/plain": [
       "(2000,)"
      ]
     },
     "execution_count": 4,
     "metadata": {},
     "output_type": "execute_result"
    }
   ],
   "source": [
    "# concatenando as bases de treinamento para uso de GridSearchCV\n",
    "\n",
    "y_credit = np.concatenate((y_credit_treinamento, y_credit_teste), axis=0)\n",
    "y_credit.shape"
   ]
  },
  {
   "cell_type": "code",
   "execution_count": 9,
   "metadata": {},
   "outputs": [
    {
     "data": {
      "text/plain": [
       "array([0, 0, 0, ..., 0, 1, 1], dtype=int64)"
      ]
     },
     "execution_count": 9,
     "metadata": {},
     "output_type": "execute_result"
    }
   ],
   "source": [
    "# dados completos classes\n",
    "\n",
    "y_credit"
   ]
  },
  {
   "cell_type": "code",
   "execution_count": 10,
   "metadata": {},
   "outputs": [],
   "source": [
    "# parametros para o modelo de arvores de decisão para o GridSearchCV\n",
    "\n",
    "parametros_ad = {'criterion': ['gini', 'entropy'],\n",
    "                 'splitter': ['best', 'random'],\n",
    "                 'min_samples_split': [2, 3, 4, 5, 6, 7, 8, 9, 10],\n",
    "                 'min_samples_leaf': [1, 2, 3, 4, 5, 6, 7, 8, 9, 10]}"
   ]
  },
  {
   "cell_type": "code",
   "execution_count": 11,
   "metadata": {},
   "outputs": [
    {
     "name": "stdout",
     "output_type": "stream",
     "text": [
      "Melhores parametros:  {'criterion': 'entropy', 'min_samples_leaf': 3, 'min_samples_split': 2, 'splitter': 'best'} \n",
      "Melhor resultado:  0.9840000000000002\n"
     ]
    }
   ],
   "source": [
    "# Decision Tree\n",
    "\n",
    "grid_search = GridSearchCV(estimator=DecisionTreeClassifier(), param_grid=parametros_ad)\n",
    "grid_search.fit(X_credit, y_credit)\n",
    "\n",
    "melhores_parametros = grid_search.best_params_\n",
    "melhor_resultado = grid_search.best_score_\n",
    "\n",
    "print('Melhores parametros: ', melhores_parametros, '\\nMelhor resultado: ', melhor_resultado)"
   ]
  },
  {
   "cell_type": "code",
   "execution_count": 12,
   "metadata": {},
   "outputs": [],
   "source": [
    "# parametros para o modelo de Random Forest para o GridSearchCV\n",
    "\n",
    "parametros_rf = {'criterion': ['gini', 'entropy'],\n",
    "                 'n_estimators': [10, 20],\n",
    "                 'min_samples_split': [2, 5, 6, 10],\n",
    "                 'min_samples_leaf': [1, 2, 3, 4, 5, 6, 10]}"
   ]
  },
  {
   "cell_type": "code",
   "execution_count": 13,
   "metadata": {},
   "outputs": [
    {
     "name": "stdout",
     "output_type": "stream",
     "text": [
      "Melhores parametros:  {'criterion': 'gini', 'min_samples_leaf': 2, 'min_samples_split': 5, 'n_estimators': 20} \n",
      "Melhor resultado:  0.9870000000000001\n"
     ]
    }
   ],
   "source": [
    "# Random Forest\n",
    "\n",
    "grid_search = GridSearchCV(estimator=RandomForestClassifier(), param_grid=parametros_rf)\n",
    "grid_search.fit(X_credit, y_credit)\n",
    "\n",
    "melhores_parametros = grid_search.best_params_\n",
    "melhor_resultado = grid_search.best_score_\n",
    "\n",
    "print('Melhores parametros: ', melhores_parametros, '\\nMelhor resultado: ', melhor_resultado)"
   ]
  },
  {
   "cell_type": "code",
   "execution_count": 14,
   "metadata": {},
   "outputs": [],
   "source": [
    "# parametros para o modelo de K-Neigbors para o GridSearchCV\n",
    "\n",
    "parametros_knn = {'n_neighbors': [3, 4, 5, 6, 8, 9, 10, 15, 20],\n",
    "                  'p': [1, 2]}\n"
   ]
  },
  {
   "cell_type": "code",
   "execution_count": 15,
   "metadata": {},
   "outputs": [
    {
     "name": "stdout",
     "output_type": "stream",
     "text": [
      "Melhores parametros:  {'n_neighbors': 15, 'p': 1} \n",
      "Melhor resultado:  0.984\n"
     ]
    }
   ],
   "source": [
    "# K-Nearest Neighbors\n",
    "\n",
    "grid_search = GridSearchCV(estimator=KNeighborsClassifier(), param_grid=parametros_knn)\n",
    "grid_search.fit(X_credit, y_credit)\n",
    "\n",
    "melhores_parametros = grid_search.best_params_\n",
    "melhor_resultado = grid_search.best_score_\n",
    "\n",
    "print('Melhores parametros: ', melhores_parametros, '\\nMelhor resultado: ', melhor_resultado)"
   ]
  },
  {
   "cell_type": "code",
   "execution_count": 16,
   "metadata": {},
   "outputs": [],
   "source": [
    "# parametros para o modelo de Logistic Regression para o GridSearchCV\n",
    "\n",
    "parametros_lr ={'tol': [0.001, 0.00001, 0.000001],\n",
    "                'C': [1.0, 1.5, 2.0],\n",
    "                'solver': ['lbfgs', 'sag', 'saga']}"
   ]
  },
  {
   "cell_type": "code",
   "execution_count": 17,
   "metadata": {},
   "outputs": [
    {
     "name": "stdout",
     "output_type": "stream",
     "text": [
      "Melhores parametros:  {'C': 1.0, 'solver': 'lbfgs', 'tol': 0.001} \n",
      "Melhor resultado:  0.9484999999999999\n"
     ]
    }
   ],
   "source": [
    "# Logistic Regression\n",
    "\n",
    "grid_search = GridSearchCV(estimator=LogisticRegression(), param_grid=parametros_lr)\n",
    "grid_search.fit(X_credit, y_credit)\n",
    "\n",
    "melhores_parametros = grid_search.best_params_\n",
    "melhor_resultado = grid_search.best_score_\n",
    "\n",
    "print('Melhores parametros: ', melhores_parametros, '\\nMelhor resultado: ', melhor_resultado)"
   ]
  },
  {
   "cell_type": "code",
   "execution_count": 18,
   "metadata": {},
   "outputs": [],
   "source": [
    "# parametros para o modelo de SVM para o GridSearchCV\n",
    "\n",
    "parametros_svm = {'tol': [0.001, 0.0001, 0.00001],\n",
    "                  'C': [1.0, 1.5, 2.0],\n",
    "                  'kernel': ['linear', 'rbf', 'poly', 'sigmoid'],\n",
    "                   }"
   ]
  },
  {
   "cell_type": "code",
   "execution_count": 19,
   "metadata": {},
   "outputs": [
    {
     "name": "stdout",
     "output_type": "stream",
     "text": [
      "Melhores parametros:  {'C': 1.5, 'kernel': 'rbf', 'tol': 0.001} \n",
      "Melhor resultado:  0.9829999999999999\n"
     ]
    }
   ],
   "source": [
    "# SVM Suport Vector Machine\n",
    "\n",
    "grid_search = GridSearchCV(estimator=SVC(), param_grid=parametros_svm)\n",
    "grid_search.fit(X_credit, y_credit)\n",
    "\n",
    "melhores_parametros = grid_search.best_params_\n",
    "melhor_resultado = grid_search.best_score_\n",
    "\n",
    "print('Melhores parametros: ', melhores_parametros, '\\nMelhor resultado: ', melhor_resultado)"
   ]
  },
  {
   "cell_type": "code",
   "execution_count": 20,
   "metadata": {},
   "outputs": [],
   "source": [
    "# parametros para o modelo de Neural Network para o GridSearchCV\n",
    "\n",
    "parametros_nn = {'activation': ['logistic', 'tanh', 'relu'],\n",
    "                 'batch_size': [56],\n",
    "                 'solver': ['sgd', 'adam']}                   "
   ]
  },
  {
   "cell_type": "code",
   "execution_count": 21,
   "metadata": {},
   "outputs": [
    {
     "name": "stdout",
     "output_type": "stream",
     "text": [
      "Melhores parametros:  {'activation': 'relu', 'batch_size': 56, 'solver': 'adam'} \n",
      "Melhor resultado:  0.9964999999999999\n"
     ]
    }
   ],
   "source": [
    "# MultiLayer Perceptron Neural Network\n",
    "\n",
    "grid_search = GridSearchCV(estimator=MLPClassifier(), param_grid=parametros_nn)\n",
    "grid_search.fit(X_credit, y_credit)\n",
    "\n",
    "melhores_parametros = grid_search.best_params_\n",
    "melhor_resultado = grid_search.best_score_\n",
    "\n",
    "print('Melhores parametros: ', melhores_parametros, '\\nMelhor resultado: ', melhor_resultado)"
   ]
  },
  {
   "cell_type": "code",
   "execution_count": 5,
   "metadata": {},
   "outputs": [],
   "source": [
    "# avaliando os modelos com cross validation\n",
    "\n",
    "resultados_arvore= []\n",
    "resultados_random_forest = []\n",
    "resultados_knn = []\n",
    "resultados_logistic_regression = []\n",
    "resultados_svm = []\n",
    "resultados_nn = []\n",
    "\n",
    "for i in range(30):\n",
    "    kfold = KFold(n_splits=10, shuffle=True, random_state=i)\n",
    "\n",
    "    arvore = DecisionTreeClassifier(criterion='entropy', min_samples_leaf=1, min_samples_split=5, splitter='best')\n",
    "    scores_ad = cross_val_score(arvore, X_credit, y_credit, cv=kfold)\n",
    "    resultados_arvore.append(scores_ad.mean())\n",
    "\n",
    "    random_forest = RandomForestClassifier(n_estimators=10, criterion='entropy', min_samples_leaf=1, min_samples_split=5)\n",
    "    scores_rf = cross_val_score(random_forest, X_credit, y_credit, cv=kfold)\n",
    "    resultados_random_forest.append(scores_rf.mean())\n",
    "\n",
    "    knn = KNeighborsClassifier()\n",
    "    scores_knn = cross_val_score(knn, X_credit, y_credit, cv=kfold)\n",
    "    resultados_knn.append(scores_knn.mean())\n",
    "\n",
    "    logistic_regression = LogisticRegression(tol=0.0001, C=1.0, solver='lbfgs')\n",
    "    scores_lr = cross_val_score(logistic_regression, X_credit, y_credit, cv=kfold)\n",
    "    resultados_logistic_regression.append(scores_lr.mean())\n",
    "\n",
    "    svm = SVC(C=2.0, kernel='rbf')\n",
    "    scores_svm = cross_val_score(svm, X_credit, y_credit, cv=kfold)\n",
    "    resultados_svm.append(scores_svm.mean())\n",
    "\n",
    "    nn = MLPClassifier(activation='relu', batch_size=56, solver='adam')\n",
    "    scores_nn = cross_val_score(nn, X_credit, y_credit, cv=kfold)\n",
    "    resultados_nn.append(scores_nn.mean())"
   ]
  },
  {
   "cell_type": "code",
   "execution_count": 6,
   "metadata": {},
   "outputs": [],
   "source": [
    "# Dataframe com os resultados\n",
    "\n",
    "resultados_algo = pd.DataFrame({'Decision Tree': resultados_arvore,\n",
    "                   'Random Forest': resultados_random_forest,\n",
    "                   'K-Nearest Neighbors': resultados_knn,\n",
    "                   'Logistic Regression': resultados_logistic_regression,\n",
    "                   'SVM': resultados_svm,\n",
    "                   'Neural Network': resultados_nn})\n"
   ]
  },
  {
   "cell_type": "code",
   "execution_count": 7,
   "metadata": {},
   "outputs": [
    {
     "data": {
      "text/html": [
       "<div>\n",
       "<style scoped>\n",
       "    .dataframe tbody tr th:only-of-type {\n",
       "        vertical-align: middle;\n",
       "    }\n",
       "\n",
       "    .dataframe tbody tr th {\n",
       "        vertical-align: top;\n",
       "    }\n",
       "\n",
       "    .dataframe thead th {\n",
       "        text-align: right;\n",
       "    }\n",
       "</style>\n",
       "<table border=\"1\" class=\"dataframe\">\n",
       "  <thead>\n",
       "    <tr style=\"text-align: right;\">\n",
       "      <th></th>\n",
       "      <th>Decision Tree</th>\n",
       "      <th>Random Forest</th>\n",
       "      <th>K-Nearest Neighbors</th>\n",
       "      <th>Logistic Regression</th>\n",
       "      <th>SVM</th>\n",
       "      <th>Neural Network</th>\n",
       "    </tr>\n",
       "  </thead>\n",
       "  <tbody>\n",
       "    <tr>\n",
       "      <th>0</th>\n",
       "      <td>0.9865</td>\n",
       "      <td>0.9810</td>\n",
       "      <td>0.9815</td>\n",
       "      <td>0.9475</td>\n",
       "      <td>0.9845</td>\n",
       "      <td>0.9970</td>\n",
       "    </tr>\n",
       "    <tr>\n",
       "      <th>1</th>\n",
       "      <td>0.9850</td>\n",
       "      <td>0.9770</td>\n",
       "      <td>0.9800</td>\n",
       "      <td>0.9465</td>\n",
       "      <td>0.9840</td>\n",
       "      <td>0.9975</td>\n",
       "    </tr>\n",
       "    <tr>\n",
       "      <th>2</th>\n",
       "      <td>0.9905</td>\n",
       "      <td>0.9865</td>\n",
       "      <td>0.9795</td>\n",
       "      <td>0.9470</td>\n",
       "      <td>0.9865</td>\n",
       "      <td>0.9970</td>\n",
       "    </tr>\n",
       "    <tr>\n",
       "      <th>3</th>\n",
       "      <td>0.9880</td>\n",
       "      <td>0.9830</td>\n",
       "      <td>0.9780</td>\n",
       "      <td>0.9460</td>\n",
       "      <td>0.9850</td>\n",
       "      <td>0.9965</td>\n",
       "    </tr>\n",
       "    <tr>\n",
       "      <th>4</th>\n",
       "      <td>0.9890</td>\n",
       "      <td>0.9855</td>\n",
       "      <td>0.9820</td>\n",
       "      <td>0.9465</td>\n",
       "      <td>0.9850</td>\n",
       "      <td>0.9970</td>\n",
       "    </tr>\n",
       "  </tbody>\n",
       "</table>\n",
       "</div>"
      ],
      "text/plain": [
       "   Decision Tree  Random Forest  K-Nearest Neighbors  Logistic Regression  \\\n",
       "0         0.9865         0.9810               0.9815               0.9475   \n",
       "1         0.9850         0.9770               0.9800               0.9465   \n",
       "2         0.9905         0.9865               0.9795               0.9470   \n",
       "3         0.9880         0.9830               0.9780               0.9460   \n",
       "4         0.9890         0.9855               0.9820               0.9465   \n",
       "\n",
       "      SVM  Neural Network  \n",
       "0  0.9845          0.9970  \n",
       "1  0.9840          0.9975  \n",
       "2  0.9865          0.9970  \n",
       "3  0.9850          0.9965  \n",
       "4  0.9850          0.9970  "
      ]
     },
     "execution_count": 7,
     "metadata": {},
     "output_type": "execute_result"
    }
   ],
   "source": [
    "# visualizando os resultados\n",
    "\n",
    "resultados_algo.head()"
   ]
  },
  {
   "cell_type": "code",
   "execution_count": 8,
   "metadata": {},
   "outputs": [
    {
     "data": {
      "image/png": "[encoded data removed]",
      "text/plain": [
       "<Figure size 1440x360 with 1 Axes>"
      ]
     },
     "metadata": {
      "needs_background": "light"
     },
     "output_type": "display_data"
    }
   ],
   "source": [
    "# visualizando os resultados como um gráfico\n",
    "\n",
    "resultados_algo.plot(kind='line', figsize=(20, 5));"
   ]
  },
  {
   "cell_type": "code",
   "execution_count": 9,
   "metadata": {},
   "outputs": [
    {
     "data": {
      "text/plain": [
       "Decision Tree          3.167816e-06\n",
       "Random Forest          5.450862e-06\n",
       "K-Nearest Neighbors    2.350862e-06\n",
       "Logistic Regression    4.715517e-07\n",
       "SVM                    1.639368e-06\n",
       "Neural Network         2.600575e-07\n",
       "dtype: float64"
      ]
     },
     "execution_count": 9,
     "metadata": {},
     "output_type": "execute_result"
    }
   ],
   "source": [
    "# variancia dos resultados\n",
    "\n",
    "resultados_algo.var()"
   ]
  },
  {
   "cell_type": "code",
   "execution_count": 10,
   "metadata": {},
   "outputs": [
    {
     "data": {
      "text/plain": [
       "Random Forest          0.002374\n",
       "Decision Tree          0.001803\n",
       "K-Nearest Neighbors    0.001564\n",
       "SVM                    0.001300\n",
       "Logistic Regression    0.000725\n",
       "Neural Network         0.000511\n",
       "dtype: float64"
      ]
     },
     "execution_count": 10,
     "metadata": {},
     "output_type": "execute_result"
    }
   ],
   "source": [
    "# coeficiente de variação em %\n",
    "\n",
    "(resultados_algo.std() / resultados_algo.mean()).sort_values(ascending=False)"
   ]
  },
  {
   "cell_type": "code",
   "execution_count": 11,
   "metadata": {},
   "outputs": [],
   "source": [
    "# salvando os dados em um csv\n",
    "\n",
    "resultados_algo.to_csv('cls01-resultados_algo.csv')"
   ]
  },
  {
   "cell_type": "code",
   "execution_count": null,
   "metadata": {},
   "outputs": [],
   "source": []
  }
 ],
 "metadata": {
  "interpreter": {
   "hash": "ad2bdc8ecc057115af97d19610ffacc2b4e99fae6737bb82f5d7fb13d2f2c186"
  },
  "kernelspec": {
   "display_name": "Python 3.8.8 ('base')",
   "language": "python",
   "name": "python3"
  },
  "language_info": {
   "codemirror_mode": {
    "name": "ipython",
    "version": 3
   },
   "file_extension": ".py",
   "mimetype": "text/x-python",
   "name": "python",
   "nbconvert_exporter": "python",
   "pygments_lexer": "ipython3",
   "version": "3.8.8"
  },
  "orig_nbformat": 4
 },
 "nbformat": 4,
 "nbformat_minor": 2
}
