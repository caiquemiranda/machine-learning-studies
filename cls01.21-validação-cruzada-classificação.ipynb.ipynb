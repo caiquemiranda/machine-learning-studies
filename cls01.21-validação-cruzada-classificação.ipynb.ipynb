{
 "cells": [
  {
   "cell_type": "code",
   "execution_count": 2,
   "metadata": {},
   "outputs": [],
   "source": [
    "\n",
    "# importação dos modulos com os algoritmos de classificação\n",
    "from sklearn.tree import DecisionTreeClassifier\n",
    "from sklearn.ensemble import RandomForestClassifier\n",
    "from sklearn.neighbors import KNeighborsClassifier\n",
    "from sklearn.svm import SVC\n",
    "from sklearn.linear_model import LogisticRegression\n",
    "from sklearn.neural_network import MLPClassifier\n",
    "\n",
    "\n",
    "# importação dos modulos para avaliação de modelos\n",
    "from sklearn.model_selection import GridSearchCV\n",
    "from sklearn.model_selection import cross_val_score, KFold\n",
    "from sklearn.metrics import accuracy_score\n",
    "from sklearn.metrics import confusion_matrix\n",
    "from sklearn.metrics import classification_report\n",
    "\n",
    "\n",
    "# importação \n",
    "import pickle as pkl\n",
    "import numpy as np"
   ]
  },
  {
   "cell_type": "code",
   "execution_count": null,
   "metadata": {},
   "outputs": [],
   "source": [
    "with open('./data/credit.pkl', 'rb') as f:\n",
    "    X_credit_treinamento, y_credit_treinamento, X_credit_teste, y_credit_teste = pkl.load(f)"
   ]
  },
  {
   "cell_type": "code",
   "execution_count": null,
   "metadata": {},
   "outputs": [],
   "source": [
    "X_credit_treinamento.shape, y_credit_treinamento.shape, X_credit_teste.shape, y_credit_teste.shape"
   ]
  },
  {
   "cell_type": "code",
   "execution_count": null,
   "metadata": {},
   "outputs": [],
   "source": [
    "# concatenando as bases de treinamento para uso de GridSearchCV\n",
    "\n",
    "X_credit = np.concatenate((X_credit_treinamento, X_credit_teste), axis=0)\n",
    "X_credit.shape"
   ]
  },
  {
   "cell_type": "code",
   "execution_count": null,
   "metadata": {},
   "outputs": [],
   "source": [
    "X_credit"
   ]
  },
  {
   "cell_type": "code",
   "execution_count": null,
   "metadata": {},
   "outputs": [],
   "source": [
    "# concatenando as bases de treinamento para uso de GridSearchCV\n",
    "\n",
    "y_credit = np.concatenate((y_credit_treinamento, y_credit_teste), axis=0)\n",
    "y_credit.shape"
   ]
  },
  {
   "cell_type": "code",
   "execution_count": null,
   "metadata": {},
   "outputs": [],
   "source": [
    "y_credit"
   ]
  },
  {
   "cell_type": "code",
   "execution_count": null,
   "metadata": {},
   "outputs": [],
   "source": [
    "# criando um dicionario de parametros para o GridSearchCV\n",
    "\n",
    "parametros_ad = {'criterion': ['gini', 'entropy'],\n",
    "                 'splitter': ['best', 'random'],\n",
    "                 'min_samples_split': [2, 3, 4, 5, 6, 7, 8, 9, 10],\n",
    "                 'min_samples_leaf': [1, 2, 3, 4, 5, 6, 7, 8, 9, 10]}"
   ]
  },
  {
   "cell_type": "code",
   "execution_count": null,
   "metadata": {},
   "outputs": [],
   "source": [
    "# Decision Tree\n",
    "\n",
    "grid_search = GridSearchCV(estimator=DecisionTreeClassifier(), param_grid=parametros_ad)\n",
    "grid_search.fit(X_credit, y_credit)\n",
    "\n",
    "melhores_parametros = grid_search.best_params_\n",
    "melhor_resultado = grid_search.best_score_\n",
    "\n",
    "print('Melhores parametros: ', melhores_parametros, '\\nMelhor resultado: ', melhor_resultado)"
   ]
  },
  {
   "cell_type": "code",
   "execution_count": null,
   "metadata": {},
   "outputs": [],
   "source": [
    "parametros_rf = {'criterion': ['gini', 'entropy'],\n",
    "                 'n_estimators': [10, 20, 30, 40, 50, 60, 70, 80, 90, 100],\n",
    "                 'min_samples_split': [2, 5, 6, 10],\n",
    "                 'min_samples_leaf': [1, 2, 3, 4, 5, 6, 10]}"
   ]
  },
  {
   "cell_type": "code",
   "execution_count": null,
   "metadata": {},
   "outputs": [],
   "source": [
    "# Random Forest\n",
    "\n",
    "grid_search = GridSearchCV(estimator=RandomForestClassifier(), param_grid=parametros_rf)\n",
    "grid_search.fit(X_credit, y_credit)\n",
    "\n",
    "melhores_parametros = grid_search.best_params_\n",
    "melhor_resultado = grid_search.best_score_\n",
    "\n",
    "print('Melhores parametros: ', melhores_parametros, '\\nMelhor resultado: ', melhor_resultado)"
   ]
  },
  {
   "cell_type": "code",
   "execution_count": null,
   "metadata": {},
   "outputs": [],
   "source": [
    "parametros_knn = {'n_neighbors': [3, 4, 5, 6, 8, 9, 10, 15, 20],\n",
    "                  'p': [1, 2]}\n"
   ]
  },
  {
   "cell_type": "code",
   "execution_count": null,
   "metadata": {},
   "outputs": [],
   "source": [
    "# K-Nearest Neighbors\n",
    "\n",
    "grid_search = GridSearchCV(estimator=KNeighborsClassifier(), param_grid=parametros_knn)\n",
    "grid_search.fit(X_credit, y_credit)\n",
    "\n",
    "melhores_parametros = grid_search.best_params_\n",
    "melhor_resultado = grid_search.best_score_\n",
    "\n",
    "print('Melhores parametros: ', melhores_parametros, '\\nMelhor resultado: ', melhor_resultado)"
   ]
  },
  {
   "cell_type": "code",
   "execution_count": null,
   "metadata": {},
   "outputs": [],
   "source": [
    "parametros_lr ={'tol': [0.001, 0.00001, 0.000001],\n",
    "                'C': [1.0, 1.5, 2.0],\n",
    "                'solver': ['lbfgs', 'sag', 'saga']}"
   ]
  },
  {
   "cell_type": "code",
   "execution_count": null,
   "metadata": {},
   "outputs": [],
   "source": [
    "# Logistic Regression\n",
    "\n",
    "grid_search = GridSearchCV(estimator=LogisticRegression(), param_grid=parametros_lr)\n",
    "grid_search.fit(X_credit, y_credit)\n",
    "\n",
    "melhores_parametros = grid_search.best_params_\n",
    "melhor_resultado = grid_search.best_score_\n",
    "\n",
    "print('Melhores parametros: ', melhores_parametros, '\\nMelhor resultado: ', melhor_resultado)"
   ]
  },
  {
   "cell_type": "code",
   "execution_count": null,
   "metadata": {},
   "outputs": [],
   "source": [
    "parametros_svm = {'tol': [0.001, 0.0001, 0.00001],\n",
    "                  'C': [1.0, 1.5, 2.0],\n",
    "                  'kernel': ['linear', 'rbf', 'poly', 'sigmoid'],\n",
    "                   }"
   ]
  },
  {
   "cell_type": "code",
   "execution_count": null,
   "metadata": {},
   "outputs": [],
   "source": [
    "# SVM Suport Vector Machine\n",
    "\n",
    "grid_search = GridSearchCV(estimator=SVC(), param_grid=parametros_svm)\n",
    "grid_search.fit(X_credit, y_credit)\n",
    "\n",
    "melhores_parametros = grid_search.best_params_\n",
    "melhor_resultado = grid_search.best_score_\n",
    "\n",
    "print('Melhores parametros: ', melhores_parametros, '\\nMelhor resultado: ', melhor_resultado)"
   ]
  },
  {
   "cell_type": "code",
   "execution_count": null,
   "metadata": {},
   "outputs": [],
   "source": [
    "parametros_nn = {'activation': ['logistic', 'tanh', 'relu'],\n",
    "                 'batch_size': [10, 30, 50, 56],\n",
    "                 'solver': ['sgd', 'adam']}                   "
   ]
  },
  {
   "cell_type": "code",
   "execution_count": null,
   "metadata": {},
   "outputs": [],
   "source": [
    "# MultiLayer Perceptron Neural Network\n",
    "\n",
    "grid_search = GridSearchCV(estimator=MLPClassifier(), param_grid=parametros_nn)\n",
    "grid_search.fit(X_credit, y_credit)\n",
    "\n",
    "melhores_parametros = grid_search.best_params_\n",
    "melhor_resultado = grid_search.best_score_\n",
    "\n",
    "print('Melhores parametros: ', melhores_parametros, '\\nMelhor resultado: ', melhor_resultado)"
   ]
  },
  {
   "cell_type": "code",
   "execution_count": null,
   "metadata": {},
   "outputs": [],
   "source": [
    "resultados_arvore= []\n",
    "resultados_random_forest = []\n",
    "resultados_knn = []\n",
    "resultados_logistic_regression = []\n",
    "resultados_svm = []\n",
    "resultados_nn = []\n",
    "\n",
    "for i in range(30):\n",
    "    kfold = KFold(n_splits=10, shuffle=True, random_state=i)\n",
    "\n",
    "    arvore = DecisionTreeClassifier(criterion='entropy', min_samples_leaf=1, min_samples_split=5, splitter='best')\n",
    "    scores_ad = cross_val_score(arvore, X_credit, y_credit, cv=kfold)\n",
    "    resultados_arvore.append(scores_ad.mean())\n",
    "\n",
    "\n",
    "    random_forest = RandomForestClassifier(n_estimators=10, criterion='entropy', min_samples_leaf=1, min_samples_split=5)\n",
    "    scores_rf = cross_val_score(random_forest, X_credit, y_credit, cv=kfold)\n",
    "    resultados_random_forest.append(scores_rf.mean())\n",
    "\n",
    "    knn = KNeighborsClassifier()\n",
    "    scores_knn = cross_val_score(knn, X_credit, y_credit, cv=kfold)\n",
    "    resultados_knn.append(scores_knn.mean())\n",
    "\n",
    "    logistic_regression = LogisticRegression(tol=0.0001, C=1.0, solver='lbfgs')\n",
    "    scores_lr = cross_val_score(logistic_regression, X_credit, y_credit, cv=kfold)\n",
    "    resultados_logistic_regression.append(scores_lr.mean())\n",
    "\n",
    "    svm = SVC(C=2.0, kernel='rbf')\n",
    "    scores_svm = cross_val_score(svm, X_credit, y_credit, cv=kfold)\n",
    "    resultados_svm.append(scores_svm.mean())\n",
    "\n",
    "    nn = MLPClassifier(activation='relu', batch_size=56, solver='adam')\n",
    "    scores_nn = cross_val_score(nn, X_credit, y_credit, cv=kfold)\n",
    "    resultados_nn.append(scores_nn.mean())"
   ]
  }
 ],
 "metadata": {
  "interpreter": {
   "hash": "ad2bdc8ecc057115af97d19610ffacc2b4e99fae6737bb82f5d7fb13d2f2c186"
  },
  "kernelspec": {
   "display_name": "Python 3.8.8 ('base')",
   "language": "python",
   "name": "python3"
  },
  "language_info": {
   "codemirror_mode": {
    "name": "ipython",
    "version": 3
   },
   "file_extension": ".py",
   "mimetype": "text/x-python",
   "name": "python",
   "nbconvert_exporter": "python",
   "pygments_lexer": "ipython3",
   "version": "3.8.8"
  },
  "orig_nbformat": 4
 },
 "nbformat": 4,
 "nbformat_minor": 2
}
