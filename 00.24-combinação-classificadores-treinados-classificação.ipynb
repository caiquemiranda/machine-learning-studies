{
 "cells": [
  {
   "cell_type": "code",
   "execution_count": 2,
   "metadata": {},
   "outputs": [],
   "source": [
    "# importações necessarias para os testes\n",
    "\n",
    "import pickle as pkl         # para salvar e carregar os arquivos\n",
    "import numpy as np           # para trabalhar com numeros"
   ]
  },
  {
   "cell_type": "code",
   "execution_count": 3,
   "metadata": {},
   "outputs": [],
   "source": [
    "# carregando os classificadores\n",
    "\n",
    "NN = pkl.load(open('./data/classificador_NN.sav','rb'))\n",
    "AD = pkl.load(open('./data/classificador_AD.sav', 'rb'))\n",
    "SVM = pkl.load(open('./data/classificador_SVM.sav', 'rb'))"
   ]
  },
  {
   "cell_type": "code",
   "execution_count": 4,
   "metadata": {},
   "outputs": [],
   "source": [
    "# carregando a base de dados\n",
    "\n",
    "with open('./data/credit.pkl', 'rb') as f:\n",
    "    X_credit_treinamento, y_credit_treinamento, X_credit_teste, y_credit_teste = pkl.load(f)"
   ]
  },
  {
   "cell_type": "code",
   "execution_count": 5,
   "metadata": {},
   "outputs": [],
   "source": [
    "# concatenando as bases de dados\n",
    "X_credit = np.concatenate((X_credit_treinamento, X_credit_teste))\n",
    "y_credit = np.concatenate((y_credit_treinamento, y_credit_teste))"
   ]
  },
  {
   "cell_type": "code",
   "execution_count": 13,
   "metadata": {},
   "outputs": [
    {
     "data": {
      "text/plain": [
       "array([-1.03572293, -0.93978209,  0.04244312])"
      ]
     },
     "execution_count": 13,
     "metadata": {},
     "output_type": "execute_result"
    }
   ],
   "source": [
    "# teste com um registro da bas de dados\n",
    "\n",
    "novo_registro = X_credit[1999]\n",
    "novo_registro"
   ]
  },
  {
   "cell_type": "code",
   "execution_count": 14,
   "metadata": {},
   "outputs": [],
   "source": [
    "# processamento do registro para o classificador\n",
    "\n",
    "novo_registro = novo_registro.reshape(1, -1)"
   ]
  },
  {
   "cell_type": "code",
   "execution_count": 15,
   "metadata": {},
   "outputs": [],
   "source": [
    "# classes = [0(vai pagar o emprestimo), 1(não vai pagar o emprestimo)])] "
   ]
  },
  {
   "cell_type": "code",
   "execution_count": 16,
   "metadata": {},
   "outputs": [
    {
     "data": {
      "text/plain": [
       "array([1], dtype=int64)"
      ]
     },
     "execution_count": 16,
     "metadata": {},
     "output_type": "execute_result"
    }
   ],
   "source": [
    "# teste com o classificador de redes neurais\n",
    "\n",
    "NN.predict(novo_registro)  "
   ]
  },
  {
   "cell_type": "code",
   "execution_count": 17,
   "metadata": {},
   "outputs": [
    {
     "data": {
      "text/plain": [
       "array([1], dtype=int64)"
      ]
     },
     "execution_count": 17,
     "metadata": {},
     "output_type": "execute_result"
    }
   ],
   "source": [
    "# teste com o classificador SVM\n",
    "\n",
    "SVM.predict(novo_registro)"
   ]
  },
  {
   "cell_type": "code",
   "execution_count": 18,
   "metadata": {},
   "outputs": [
    {
     "data": {
      "text/plain": [
       "array([1], dtype=int64)"
      ]
     },
     "execution_count": 18,
     "metadata": {},
     "output_type": "execute_result"
    }
   ],
   "source": [
    "# testes com o classificador Arvores de Decisão (AD)\n",
    "\n",
    "AD.predict(novo_registro)"
   ]
  },
  {
   "cell_type": "code",
   "execution_count": 19,
   "metadata": {},
   "outputs": [
    {
     "name": "stdout",
     "output_type": "stream",
     "text": [
      "Cliente não vai pagar o empréstimo\n"
     ]
    }
   ],
   "source": [
    "# combinação de classsificadores\n",
    "\n",
    "classe_0 = 0\n",
    "classe_1 = 0\n",
    "\n",
    "if NN.predict(novo_registro) == 1:\n",
    "    classe_1 += 1\n",
    "else:\n",
    "    classe_0 += 1\n",
    "\n",
    "if AD.predict(novo_registro) == 1:\n",
    "    classe_1 += 1\n",
    "else:\n",
    "    classe_0 += 1\n",
    "\n",
    "if SVM.predict(novo_registro) == 1:\n",
    "    classe_1 += 1\n",
    "else:\n",
    "    classe_0 += 1\n",
    "\n",
    "if classe_0 > classe_1:\n",
    "    print('Cliente vai pagar o empréstimo')\n",
    "else:\n",
    "    print('Cliente não vai pagar o empréstimo')"
   ]
  }
 ],
 "metadata": {
  "interpreter": {
   "hash": "ad2bdc8ecc057115af97d19610ffacc2b4e99fae6737bb82f5d7fb13d2f2c186"
  },
  "kernelspec": {
   "display_name": "Python 3.8.8 ('base')",
   "language": "python",
   "name": "python3"
  },
  "language_info": {
   "codemirror_mode": {
    "name": "ipython",
    "version": 3
   },
   "file_extension": ".py",
   "mimetype": "text/x-python",
   "name": "python",
   "nbconvert_exporter": "python",
   "pygments_lexer": "ipython3",
   "version": "3.8.8"
  },
  "orig_nbformat": 4
 },
 "nbformat": 4,
 "nbformat_minor": 2
}
